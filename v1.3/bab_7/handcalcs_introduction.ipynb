{
 "cells": [
  {
   "cell_type": "markdown",
   "metadata": {},
   "source": [
    "# Moment inertia"
   ]
  },
  {
   "cell_type": "code",
   "execution_count": 2,
   "metadata": {},
   "outputs": [
    {
     "name": "stdout",
     "output_type": "stream",
     "text": [
      "{'J_m2': 1.000 J·m⁻², 'mm': 1.000 mm, 'ft': 1.000 ft, 'inch': 1.000 inch, 'N': 1.000 N, 'kN': 1.000 kN, 'MN': 1.000 MN, 'Pa': 1.000 Pa, 'kPa': 1.000 kPa, 'MPa': 1.000 MPa, 'GPa': 1.000 GPa, 'Nm': 1.000 N·m, 'N_m': 1.000 J·m⁻², 'lbft': 1.000 lb·ft, 'kipft': 1.000 kip·ft, 'psf': 1.000 psf, 'lbin': 1.000 lb·in, 'kipin': 1.000 kip·in, 'ksf': 1.000 ksf, 'lb': 1.000 lb, 'lb_ft': 1.000 lb/ft, 'kip_ft': 1.000 kip/ft, 'kip': 1.000 kip, 'lbm': 1.000 lbm, 'psi': 1.000 psi, 'ksi': 1.000 ksi, 'pcf': 1.000 pcf, 'kcf': 1.000 kcf, 'pci': 1.000 pci, 'kci': 1.000 kcf, 'N_m3': 1.000 N/m³, 'Nm2': 1.000 N·m², 'lbft2': 1.000 lb·ft², 'kft2': 1.000 kip·ft², 'J': 1.000 N·m, 'MJ': 1.000 MN·m, 'W': 1.000 W} \n",
      " {'kg': 1.000 kg, 'm': 1.000 m, 's': 1.000 s, 'A': 1.000 A, 'cd': 1.000 cd, 'K': 1.000 K, 'mol': 1.000 mol}\n"
     ]
    }
   ],
   "source": [
    "import handcalcs.render\n",
    "import numpy as np\n",
    "from math import sin,radians,sqrt\n",
    "import forallpeople as si\n",
    "si.environment('structural', top_level=True)\n",
    "si.environment()"
   ]
  },
  {
   "cell_type": "markdown",
   "metadata": {},
   "source": [
    "### Input parameters"
   ]
  },
  {
   "cell_type": "code",
   "execution_count": 48,
   "metadata": {},
   "outputs": [
    {
     "data": {
      "text/latex": [
       "\\[\n",
       "\\begin{aligned}\n",
       "B_{f_{top}} &= 240.00\\ \\mathrm{mm} \\; \n",
       " &t_{f_{top}} &= 15.00\\ \\mathrm{mm} \\; \n",
       " &B_{f_{bot}} &= 180.00\\ \\mathrm{mm} \\; \n",
       "\\\\[10pt]\n",
       " t_{f_{bot}} &= 15.00\\ \\mathrm{mm} \\; \n",
       " &h_{w} &= 400.00\\ \\mathrm{mm} \\; \n",
       " &t_{w} &= 8.00\\ \\mathrm{mm} \\; \n",
       "\\\\[10pt]\n",
       " H_{w} &= 430.00\\ \\mathrm{mm} \\;\n",
       "\\end{aligned}\n",
       "\\]"
      ],
      "text/plain": [
       "<IPython.core.display.Latex object>"
      ]
     },
     "metadata": {},
     "output_type": "display_data"
    }
   ],
   "source": [
    "%%render params 2\n",
    "B_f_top = 240*mm\n",
    "t_f_top = 15*mm\n",
    "B_f_bot = 180*mm\n",
    "t_f_bot  = 15*mm\n",
    "h_w = 400*mm\n",
    "t_w = 8*mm\n",
    "H_w = t_f_bot + h_w  + t_f_top"
   ]
  },
  {
   "cell_type": "code",
   "execution_count": 26,
   "metadata": {},
   "outputs": [
    {
     "data": {
      "text/latex": [
       "\\[\n",
       "\\begin{aligned}\n",
       "A_{f_{bot}} &= B_{f_{bot}} \\cdot t_{f_{bot}} \\\\&= 180.00\\ \\mathrm{mm} \\cdot 15.00\\ \\mathrm{mm} \\\\&= 2700.00\\ \\mathrm{mm}^{2}  \\\\[10pt]\n",
       "\\\\[10pt]\n",
       "A_{f_{top}} &= B_{f_{top}} \\cdot t_{f_{top}} \\\\&= 240.00\\ \\mathrm{mm} \\cdot 15.00\\ \\mathrm{mm} \\\\&= 3600.00\\ \\mathrm{mm}^{2}  \\\\[10pt]\n",
       "\\\\[10pt]\n",
       "A_{w} &= h_{w} \\cdot t_{w} \\\\&= 400.00\\ \\mathrm{mm} \\cdot 8.00\\ \\mathrm{mm} \\\\&= 3200.00\\ \\mathrm{mm}^{2}  \\\\[10pt]\n",
       "\\\\[10pt]\n",
       "A &= A_{f_{bot}} + A_{f_{top}} + A_{w} \\\\&= 2700.00\\ \\mathrm{mm}^{2} + 3600.00\\ \\mathrm{mm}^{2} + 3200.00\\ \\mathrm{mm}^{2} \\\\&= 9500.00\\ \\mathrm{mm}^{2}  \\\\[10pt]\n",
       "\\end{aligned}\n",
       "\\]"
      ],
      "text/plain": [
       "<IPython.core.display.Latex object>"
      ]
     },
     "metadata": {},
     "output_type": "display_data"
    }
   ],
   "source": [
    "%%render long 2\n",
    "A_f_bot = B_f_bot*t_f_bot\n",
    "A_f_top = B_f_top*t_f_top\n",
    "A_w = h_w * t_w\n",
    "A = A_f_bot + A_f_top +A_w"
   ]
  },
  {
   "cell_type": "code",
   "execution_count": 27,
   "metadata": {},
   "outputs": [
    {
     "data": {
      "text/latex": [
       "\\[\n",
       "\\begin{aligned}\n",
       "y_{center} &= \\frac{ B_{f_{top}} }{ 2 } \\\\&= \\frac{ 240.00\\ \\mathrm{mm} }{ 2 } \\\\&= 120.00\\ \\mathrm{mm}  \\\\[10pt]\n",
       "\\\\[10pt]\n",
       "z_{center} &= \\frac{ A_{f_{top}} \\cdot \\left( h_{w} + t_{f_{bot}} + \\frac{ t_{f_{top}} }{ 2 } \\right) + A_{w} \\cdot \\left( t_{f_{bot}} + \\frac{ h_{w} }{ 2 } \\right) + A_{f_{bot}} \\cdot \\left( \\frac{ t_{f_{bot}} }{ 2 } \\right) }{ A } \\\\&= \\frac{ 3600.00\\ \\mathrm{mm}^{2} \\cdot \\left( 400.00\\ \\mathrm{mm} + 15.00\\ \\mathrm{mm} + \\frac{ 15.00\\ \\mathrm{mm} }{ 2 } \\right) + 3200.00\\ \\mathrm{mm}^{2} \\cdot \\left( 15.00\\ \\mathrm{mm} + \\frac{ 400.00\\ \\mathrm{mm} }{ 2 } \\right) + 2700.00\\ \\mathrm{mm}^{2} \\cdot \\left( \\frac{ 15.00\\ \\mathrm{mm} }{ 2 } \\right) }{ 9500.00\\ \\mathrm{mm}^{2} } \\\\&= 234.66\\ \\mathrm{mm}  \\\\[10pt]\n",
       "\\end{aligned}\n",
       "\\]"
      ],
      "text/plain": [
       "<IPython.core.display.Latex object>"
      ]
     },
     "metadata": {},
     "output_type": "display_data"
    }
   ],
   "source": [
    "%%render long 2\n",
    "y_center= B_f_top/2\n",
    "z_center=(A_f_top *(h_w + t_f_bot + t_f_top/2)+A_w *(t_f_bot + h_w/2)+A_f_bot*(t_f_bot/2))/A"
   ]
  },
  {
   "cell_type": "code",
   "execution_count": 35,
   "metadata": {},
   "outputs": [
    {
     "data": {
      "text/latex": [
       "\\[\n",
       "\\begin{aligned}\n",
       "z_{1} &= \\left( t_{f_{bot}} + h_{w} + \\frac{ t_{f_{top}} }{ 2 } \\right) - z_{center}  = \\left( 15.000\\ \\mathrm{mm} + 400.000\\ \\mathrm{mm} + \\frac{ 15.000\\ \\mathrm{mm} }{ 2 } \\right) - 234.658\\ \\mathrm{mm} &= 187.842\\ \\mathrm{mm}  \n",
       "\\\\[10pt]\n",
       "z_{2} &= z_{center} - \\left( t_{f_{bot}} + \\frac{ h_{w} }{ 2 } \\right)  = 234.658\\ \\mathrm{mm} - \\left( 15.000\\ \\mathrm{mm} + \\frac{ 400.000\\ \\mathrm{mm} }{ 2 } \\right) &= 19.658\\ \\mathrm{mm}  \n",
       "\\\\[10pt]\n",
       "z_{3} &= z_{center} - \\frac{ t_{f_{top}} }{ 2 }  = 234.658\\ \\mathrm{mm} - \\frac{ 15.000\\ \\mathrm{mm} }{ 2 } &= 227.158\\ \\mathrm{mm}  \n",
       "\\end{aligned}\n",
       "\\]"
      ],
      "text/plain": [
       "<IPython.core.display.Latex object>"
      ]
     },
     "metadata": {},
     "output_type": "display_data"
    }
   ],
   "source": [
    "%%render\n",
    "z_1 = (t_f_bot+h_w+t_f_top/2) - z_center\n",
    "z_2 = z_center-(t_f_bot+h_w/2)\n",
    "z_3 = z_center-t_f_top/2"
   ]
  },
  {
   "cell_type": "code",
   "execution_count": 43,
   "metadata": {},
   "outputs": [
    {
     "data": {
      "text/latex": [
       "\\[\n",
       "\\begin{aligned}\n",
       "I_{YY_{topflange}} &= \\frac{ 1 }{ 12 } \\cdot B_{f_{top}} \\cdot \\left( t_{f_{top}} \\right) ^{ 3 } + A_{f_{top}} \\cdot \\left( z_{1} \\right) ^{ 2 } \\\\&= \\frac{ 1 }{ 12 } \\cdot 240.000\\ \\mathrm{mm} \\cdot \\left( 15.000\\ \\mathrm{mm} \\right) ^{ 3 } + 3600.000\\ \\mathrm{mm}^{2} \\cdot \\left( 187.842\\ \\mathrm{mm} \\right) ^{ 2 } \\\\&= 127092263.435\\ \\mathrm{mm}^{4}  \\\\[10pt]\n",
       "\\\\[10pt]\n",
       "I_{YY_{web}} &= \\frac{ 1 }{ 12 } \\cdot t_{w} \\cdot \\left( h_{w} \\right) ^{ 3 } + \\left( A_{w} \\cdot \\left( z_{2} \\right) ^{ 2 } \\right) \\\\&= \\frac{ 1 }{ 12 } \\cdot 8.000\\ \\mathrm{mm} \\cdot \\left( 400.000\\ \\mathrm{mm} \\right) ^{ 3 } + \\left( 3200.000\\ \\mathrm{mm}^{2} \\cdot \\left( 19.658\\ \\mathrm{mm} \\right) ^{ 2 } \\right) \\\\&= 43903251.708\\ \\mathrm{mm}^{4}  \\\\[10pt]\n",
       "\\\\[10pt]\n",
       "I_{YY_{botflange}} &= \\frac{ 1 }{ 12 } \\cdot B_{f_{bot}} \\cdot \\left( t_{f_{bot}} \\right) ^{ 3 } + A_{f_{bot}} \\cdot \\left( z_{3} \\right) ^{ 2 } \\\\&= \\frac{ 1 }{ 12 } \\cdot 180.000\\ \\mathrm{mm} \\cdot \\left( 15.000\\ \\mathrm{mm} \\right) ^{ 3 } + 2700.000\\ \\mathrm{mm}^{2} \\cdot \\left( 227.158\\ \\mathrm{mm} \\right) ^{ 2 } \\\\&= 139372539.681\\ \\mathrm{mm}^{4}  \\\\[10pt]\n",
       "\\\\[10pt]\n",
       "I_{YY} &= I_{YY_{topflange}} + I_{YY_{web}} + I_{YY_{botflange}} \\\\&= 127092263.435\\ \\mathrm{mm}^{4} + 43903251.708\\ \\mathrm{mm}^{4} + 139372539.681\\ \\mathrm{mm}^{4} \\\\&= 310368054.825\\ \\mathrm{mm}^{4}  \\\\[10pt]\n",
       "\\end{aligned}\n",
       "\\]"
      ],
      "text/plain": [
       "<IPython.core.display.Latex object>"
      ]
     },
     "metadata": {},
     "output_type": "display_data"
    }
   ],
   "source": [
    "%%render long\n",
    "I_YY_topflange = 1/12*B_f_top*t_f_top**3+A_f_top*z_1**2\n",
    "I_YY_web = 1/12*t_w*h_w**3 + (A_w*z_2**2)\n",
    "I_YY_botflange = 1/12*B_f_bot*t_f_bot**3+A_f_bot*z_3**2\n",
    "\n",
    "I_YY = I_YY_topflange + I_YY_web + I_YY_botflange"
   ]
  },
  {
   "cell_type": "code",
   "execution_count": 47,
   "metadata": {},
   "outputs": [
    {
     "data": {
      "text/latex": [
       "\\[\n",
       "\\begin{aligned}\n",
       "I_{ZZ} &= \\left( \\frac{ 1 }{ 12 } \\cdot t_{f_{top}} \\cdot \\left( B_{f_{top}} \\right) ^{ 3 } \\right) + \\left( \\frac{ 1 }{ 12 } \\cdot h_{w} \\cdot \\left( t_{w} \\right) ^{ 3 } \\right) + \\left( \\frac{ 1 }{ 12 } \\cdot t_{f_{bot}} \\cdot \\left( B_{f_{bot}} \\right) ^{ 3 } \\right) \\\\&= \\left( \\frac{ 1 }{ 12 } \\cdot 15.000\\ \\mathrm{mm} \\cdot \\left( 240.000\\ \\mathrm{mm} \\right) ^{ 3 } \\right) + \\left( \\frac{ 1 }{ 12 } \\cdot 400.000\\ \\mathrm{mm} \\cdot \\left( 8.000\\ \\mathrm{mm} \\right) ^{ 3 } \\right) + \\left( \\frac{ 1 }{ 12 } \\cdot 15.000\\ \\mathrm{mm} \\cdot \\left( 180.000\\ \\mathrm{mm} \\right) ^{ 3 } \\right) \\\\&= 24587066.667\\ \\mathrm{mm}^{4}  \\\\[10pt]\n",
       "\\end{aligned}\n",
       "\\]"
      ],
      "text/plain": [
       "<IPython.core.display.Latex object>"
      ]
     },
     "metadata": {},
     "output_type": "display_data"
    }
   ],
   "source": [
    "%%render long\n",
    "I_ZZ= (1/12*t_f_top*B_f_top**3)+(1/12*h_w*t_w**3)+(1/12*t_f_bot*B_f_bot**3)"
   ]
  }
 ],
 "metadata": {
  "kernelspec": {
   "display_name": "Python 3 (ipykernel)",
   "language": "python",
   "name": "python3"
  },
  "language_info": {
   "codemirror_mode": {
    "name": "ipython",
    "version": 3
   },
   "file_extension": ".py",
   "mimetype": "text/x-python",
   "name": "python",
   "nbconvert_exporter": "python",
   "pygments_lexer": "ipython3",
   "version": "3.9.16"
  }
 },
 "nbformat": 4,
 "nbformat_minor": 1
}
