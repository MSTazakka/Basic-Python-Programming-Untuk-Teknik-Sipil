{
 "cells": [
  {
   "cell_type": "markdown",
   "source": [
    "### <span style='color:Blue'> L-wall design (BS8110). </span>\n",
    "##### Based on \"Design of structural elements by Chanakya Arya\" page 125\n",
    "##### assumption: No GWT, Passive Soil Neglected\n",
    "##### Basic Python Programming Untuk Teknik Sipil - Merdeka Sandi Tazakka\n",
    "---"
   ],
   "metadata": {
    "collapsed": false
   }
  },
  {
   "cell_type": "code",
   "execution_count": 1,
   "metadata": {},
   "outputs": [],
   "source": [
    "import handcalcs.render\n",
    "import numpy as np\n",
    "import pandas as pd\n",
    "from math import sqrt\n",
    "\n",
    "from math import sin,radians,sqrt\n",
    "import forallpeople as si\n",
    "si.environment('structural', top_level=True)"
   ]
  },
  {
   "cell_type": "markdown",
   "metadata": {},
   "source": [
    "#### Soil parameters"
   ]
  },
  {
   "cell_type": "code",
   "execution_count": 2,
   "metadata": {},
   "outputs": [
    {
     "data": {
      "text/plain": "<IPython.core.display.Latex object>",
      "text/latex": "\\[\n\\begin{aligned}\n\\phi &= 30 \\; \n &\\gamma_{soil} &= 19.0\\ \\mathrm{kN/m³} \\; \n &\\mu &= 0.4 \\; \n\\\\[10pt]\n \\sigma_{all} &= 120.0\\ \\mathrm{kPa} \\;\n\\end{aligned}\n\\]"
     },
     "metadata": {},
     "output_type": "display_data"
    }
   ],
   "source": [
    "%%render params 1\n",
    "phi = 30\n",
    "gamma_soil = 19 *1000*N_m3\n",
    "mu = 0.4\n",
    "sigma_all = 120*kN/m**2"
   ]
  },
  {
   "cell_type": "markdown",
   "metadata": {},
   "source": [
    "#### Wall parameter"
   ]
  },
  {
   "cell_type": "code",
   "execution_count": 3,
   "metadata": {},
   "outputs": [
    {
     "data": {
      "text/plain": "<IPython.core.display.Latex object>",
      "text/latex": "\\[\n\\begin{aligned}\n\\gamma_{c} &= 24.000\\ \\mathrm{kN/m³} \\; \n &H_{wall} &= 5.000\\ \\mathrm{m} \\; \n &H_{slab} &= 400.000\\ \\mathrm{mm} \\; \n\\\\[10pt]\n H_{total} &= 5.400\\ \\mathrm{m} \\; \n &\\mathrm{width}_{toe} &= 700.000\\ \\mathrm{mm} \\; \n &\\mathrm{width}_{wall} &= 400.000\\ \\mathrm{mm} \\; \n\\\\[10pt]\n \\mathrm{width}_{heel} &= 2.900\\ \\mathrm{m} \\; \n &\\mathrm{width}_{total} &= 4.000\\ \\mathrm{m} \\;\n\\end{aligned}\n\\]"
     },
     "metadata": {},
     "output_type": "display_data"
    }
   ],
   "source": [
    "%%render params\n",
    "gamma_c = 24 *1000*N_m3\n",
    "H_wall = 5*m\n",
    "H_slab = 400*mm\n",
    "H_total = H_wall + H_slab\n",
    "width_toe = 700*mm\n",
    "width_wall = 400*mm\n",
    "width_heel = 2900*mm\n",
    "width_total = width_toe + width_wall + width_heel"
   ]
  },
  {
   "cell_type": "code",
   "execution_count": 4,
   "metadata": {},
   "outputs": [],
   "source": [
    "#untuk grafik saja\n",
    "H_passive = 1000 #mm"
   ]
  },
  {
   "cell_type": "markdown",
   "metadata": {},
   "source": [
    "#### Perhitungan Ka dan Kp"
   ]
  },
  {
   "cell_type": "code",
   "execution_count": 5,
   "metadata": {},
   "outputs": [
    {
     "data": {
      "text/plain": "<IPython.core.display.Latex object>",
      "text/latex": "\\[\n\\begin{aligned}\nk_{a} &= \\frac{ 1 - \\sin { \\left( \\operatorname{radians} \\phi \\right) } }{ 1 + \\sin { \\left( \\operatorname{radians} \\phi \\right) } }  = \\frac{ 1 - \\sin { \\left( \\operatorname{radians} 30 \\right) } }{ 1 + \\sin { \\left( \\operatorname{radians} 30 \\right) } } &= 0.33  \n\\\\[10pt]\nk_{p} &= \\frac{ 1 + \\sin { \\left( \\operatorname{radians} \\phi \\right) } }{ 1 - \\sin { \\left( \\operatorname{radians} \\phi \\right) } }  = \\frac{ 1 + \\sin { \\left( \\operatorname{radians} 30 \\right) } }{ 1 - \\sin { \\left( \\operatorname{radians} 30 \\right) } } &= 3.00  \n\\end{aligned}\n\\]"
     },
     "metadata": {},
     "output_type": "display_data"
    }
   ],
   "source": [
    "%%render 2\n",
    "k_a =( 1 - sin(radians(phi))) / (1 + sin(radians(phi)))\n",
    "\n",
    "k_p = ( 1 + sin(radians(phi))) / (1 - sin(radians(phi)))"
   ]
  },
  {
   "cell_type": "markdown",
   "metadata": {},
   "source": [
    "#### Horizontal driving pressure"
   ]
  },
  {
   "cell_type": "code",
   "execution_count": 6,
   "metadata": {},
   "outputs": [
    {
     "data": {
      "text/plain": "<IPython.core.display.Latex object>",
      "text/latex": "\\[\n\\begin{aligned}\n\\sigma_{h} &= k_{a} \\cdot \\gamma_{soil} \\cdot H_{total} \\\\&= 0.333 \\cdot 19.000\\ \\mathrm{kN/m³} \\cdot 5.400\\ \\mathrm{m} \\\\&= 34.200\\ \\mathrm{kPa}  \\\\[10pt]\n\\end{aligned}\n\\]"
     },
     "metadata": {},
     "output_type": "display_data"
    }
   ],
   "source": [
    "%%render long\n",
    "sigma_h = k_a * gamma_soil * H_total"
   ]
  },
  {
   "cell_type": "markdown",
   "metadata": {},
   "source": [
    "#### Horizontal driving force"
   ]
  },
  {
   "cell_type": "code",
   "execution_count": 7,
   "metadata": {},
   "outputs": [
    {
     "data": {
      "text/plain": "<IPython.core.display.Latex object>",
      "text/latex": "\\[\n\\begin{aligned}\nF_{A} &= 0.5 \\cdot \\sigma_{h} \\cdot H_{total} \\cdot \\left( 1 \\cdot m \\right)  = 0.5 \\cdot 34.200\\ \\mathrm{kPa} \\cdot 5.400\\ \\mathrm{m} \\cdot \\left( 1 \\cdot m \\right) &= 92.340\\ \\mathrm{kN}  \n\\end{aligned}\n\\]"
     },
     "metadata": {},
     "output_type": "display_data"
    }
   ],
   "source": [
    "%%render\n",
    "F_A = 0.5 * sigma_h * H_total * (1*m)"
   ]
  },
  {
   "cell_type": "markdown",
   "metadata": {},
   "source": [
    "#### Weight calculation"
   ]
  },
  {
   "cell_type": "code",
   "execution_count": 8,
   "metadata": {},
   "outputs": [
    {
     "data": {
      "text/plain": "<IPython.core.display.Latex object>",
      "text/latex": "\\[\n\\begin{aligned}\nW_{wall} &= \\mathrm{width}_{wall} \\cdot H_{wall} \\cdot \\gamma_{c} \\cdot \\left( 1 \\cdot m \\right) \\\\&= 400.000\\ \\mathrm{mm} \\cdot 5.000\\ \\mathrm{m} \\cdot 24.000\\ \\mathrm{kN/m³} \\cdot \\left( 1 \\cdot m \\right) \\\\&= 48.000\\ \\mathrm{kN}  \\\\[10pt]\n\\\\[10pt]\nW_{base} &= H_{slab} \\cdot \\left( \\mathrm{width}_{heel} + \\mathrm{width}_{wall} + \\mathrm{width}_{toe} \\right) \\cdot \\gamma_{c} \\cdot \\left( 1 \\cdot m \\right) \\\\&= 400.000\\ \\mathrm{mm} \\cdot \\left( 2.900\\ \\mathrm{m} + 400.000\\ \\mathrm{mm} + 700.000\\ \\mathrm{mm} \\right) \\cdot 24.000\\ \\mathrm{kN/m³} \\cdot \\left( 1 \\cdot m \\right) \\\\&= 38.400\\ \\mathrm{kN}  \\\\[10pt]\n\\end{aligned}\n\\]"
     },
     "metadata": {},
     "output_type": "display_data"
    }
   ],
   "source": [
    "%%render long\n",
    "W_wall = width_wall * H_wall * gamma_c * (1*m)\n",
    "W_base = H_slab * (width_heel+width_wall+width_toe) * gamma_c * (1*m)"
   ]
  },
  {
   "cell_type": "code",
   "execution_count": 9,
   "metadata": {},
   "outputs": [
    {
     "data": {
      "text/plain": "<IPython.core.display.Latex object>",
      "text/latex": "\\[\n\\begin{aligned}\nW_{soil} &= H_{wall} \\cdot \\mathrm{width}_{heel} \\cdot \\gamma_{soil} \\cdot \\left( 1 \\cdot m \\right) \\\\&= 5.000\\ \\mathrm{m} \\cdot 2.900\\ \\mathrm{m} \\cdot 19.000\\ \\mathrm{kN/m³} \\cdot \\left( 1 \\cdot m \\right) \\\\&= 275.500\\ \\mathrm{kN}  \\\\[10pt]\n\\\\[10pt]\nW_{total} &= W_{base} + W_{soil} + W_{wall} \\\\&= 38.400\\ \\mathrm{kN} + 275.500\\ \\mathrm{kN} + 48.000\\ \\mathrm{kN} \\\\&= 361.900\\ \\mathrm{kN}  \\\\[10pt]\n\\end{aligned}\n\\]"
     },
     "metadata": {},
     "output_type": "display_data"
    }
   ],
   "source": [
    "%%render long\n",
    "W_soil = H_wall * (width_heel)*gamma_soil * (1*m)\n",
    "W_total = W_base+W_soil+W_wall"
   ]
  },
  {
   "cell_type": "markdown",
   "metadata": {},
   "source": [
    "#### Factor of Safety Sliding"
   ]
  },
  {
   "cell_type": "code",
   "execution_count": 10,
   "metadata": {},
   "outputs": [
    {
     "data": {
      "text/plain": "<IPython.core.display.Latex object>",
      "text/latex": "\\[\n\\begin{aligned}\nF_{friction} &= \\mu \\cdot W_{total} \\\\&= 0.400 \\cdot 361.900\\ \\mathrm{kN} \\\\&= 144.760\\ \\mathrm{kN}  \\\\[10pt]\n\\end{aligned}\n\\]"
     },
     "metadata": {},
     "output_type": "display_data"
    }
   ],
   "source": [
    "%%render long\n",
    "F_friction = mu * W_total"
   ]
  },
  {
   "cell_type": "code",
   "execution_count": 11,
   "metadata": {},
   "outputs": [
    {
     "data": {
      "text/plain": "<IPython.core.display.Latex object>",
      "text/latex": "\\[\n\\begin{aligned}\n\\mathrm{SF}_{sliding} &= \\frac{ F_{friction} }{ F_{A} }  = \\frac{ 144.760\\ \\mathrm{kN} }{ 92.340\\ \\mathrm{kN} } &= 1.568  \n\\end{aligned}\n\\]"
     },
     "metadata": {},
     "output_type": "display_data"
    }
   ],
   "source": [
    "%%render\n",
    "SF_sliding = F_friction / F_A"
   ]
  },
  {
   "cell_type": "code",
   "execution_count": 12,
   "metadata": {},
   "outputs": [
    {
     "name": "stdout",
     "output_type": "stream",
     "text": [
      "SF sliding is 1.57 >= 1.5, OK\n"
     ]
    }
   ],
   "source": [
    "if SF_sliding >= 1.5:\n",
    "    print(f'SF sliding is {round(SF_sliding,2)} >= 1.5, OK')\n",
    "else:\n",
    "    print(f'SF sliding is {round(SF_sliding,2)} < 1.5, Not OK')"
   ]
  },
  {
   "cell_type": "markdown",
   "metadata": {},
   "source": [
    "#### Factor of safety overturning"
   ]
  },
  {
   "cell_type": "code",
   "execution_count": 13,
   "metadata": {},
   "outputs": [
    {
     "data": {
      "text/plain": "<IPython.core.display.Latex object>",
      "text/latex": "\\[\n\\begin{aligned}\nM_{A} &= \\frac{ F_{A} \\cdot H_{total} }{ 3 } \\\\&= \\frac{ 92.340\\ \\mathrm{kN} \\cdot 5.400\\ \\mathrm{m} }{ 3 } \\\\&= 166.212\\ \\mathrm{kN} \\cdot \\mathrm{m}  \\\\[10pt]\n\\end{aligned}\n\\]"
     },
     "metadata": {},
     "output_type": "display_data"
    }
   ],
   "source": [
    "%%render long\n",
    "M_A = (F_A * H_total )/ 3"
   ]
  },
  {
   "cell_type": "code",
   "execution_count": 14,
   "metadata": {},
   "outputs": [
    {
     "data": {
      "text/plain": "<IPython.core.display.Latex object>",
      "text/latex": "\\[\n\\begin{aligned}\n\\mathrm{Arm}_{wall} &= 900.000\\ \\mathrm{mm} \\; \n\\\\[10pt]\n\\mathrm{Arm}_{base} &= 2.000\\ \\mathrm{m} \\; \n\\\\[10pt]\n\\mathrm{Arm}_{soil} &= 2.550\\ \\mathrm{m} \\; \n\\\\[10pt]\nM_{P} &= W_{wall} \\cdot \\mathrm{Arm}_{wall} + W_{base} \\cdot \\mathrm{Arm}_{base} + W_{soil} \\cdot \\mathrm{Arm}_{soil} \\\\&= 48.000\\ \\mathrm{kN} \\cdot 900.000\\ \\mathrm{mm} + 38.400\\ \\mathrm{kN} \\cdot 2.000\\ \\mathrm{m} + 275.500\\ \\mathrm{kN} \\cdot 2.550\\ \\mathrm{m} \\\\&= 822.525\\ \\mathrm{kN} \\cdot \\mathrm{m}  \\\\[10pt]\n\\end{aligned}\n\\]"
     },
     "metadata": {},
     "output_type": "display_data"
    }
   ],
   "source": [
    "%%render long\n",
    "Arm_wall = (width_wall/2 + width_toe)\n",
    "Arm_base = (width_total/2)\n",
    "Arm_soil = (width_toe+width_wall+width_heel/2)\n",
    "M_P = W_wall * Arm_wall + W_base * Arm_base  + W_soil * Arm_soil"
   ]
  },
  {
   "cell_type": "code",
   "execution_count": 15,
   "metadata": {},
   "outputs": [
    {
     "data": {
      "text/plain": "<IPython.core.display.Latex object>",
      "text/latex": "\\[\n\\begin{aligned}\n\\mathrm{SF}_{overturning} &= \\frac{ M_{P} }{ M_{A} }  = \\frac{ 822.525\\ \\mathrm{kN} \\cdot \\mathrm{m} }{ 166.212\\ \\mathrm{kN} \\cdot \\mathrm{m} } &= 4.949  \n\\end{aligned}\n\\]"
     },
     "metadata": {},
     "output_type": "display_data"
    }
   ],
   "source": [
    "%%render\n",
    "SF_overturning = M_P / M_A"
   ]
  },
  {
   "cell_type": "code",
   "execution_count": 16,
   "metadata": {},
   "outputs": [
    {
     "name": "stdout",
     "output_type": "stream",
     "text": [
      "SF overturning is 4.95 >= 2, OK\n"
     ]
    }
   ],
   "source": [
    "if SF_overturning >= 2:\n",
    "    print(f'SF overturning is {round(SF_overturning,2)} >= 2, OK')\n",
    "else:\n",
    "    print(f'SF overturning is {round(SF_overturning,2)} < 2, Not OK')"
   ]
  },
  {
   "cell_type": "markdown",
   "metadata": {},
   "source": [
    "#### Bearing Capacity Check"
   ]
  },
  {
   "cell_type": "code",
   "execution_count": 17,
   "metadata": {},
   "outputs": [
    {
     "data": {
      "text/plain": "<IPython.core.display.Latex object>",
      "text/latex": "\\[\n\\begin{aligned}\n\\mathrm{ecc}_{wall} &= \\frac{ \\mathrm{width}_{total} }{ 2 } - \\mathrm{width}_{toe} - \\frac{ \\mathrm{width}_{wall} }{ 2 } \\\\&= \\frac{ 4.000\\ \\mathrm{m} }{ 2 } - 700.000\\ \\mathrm{mm} - \\frac{ 400.000\\ \\mathrm{mm} }{ 2 } \\\\&= 1.100\\ \\mathrm{m}  \\\\[10pt]\n\\end{aligned}\n\\]"
     },
     "metadata": {},
     "output_type": "display_data"
    }
   ],
   "source": [
    "%%render long\n",
    "ecc_wall = width_total/2-width_toe-width_wall/2"
   ]
  },
  {
   "cell_type": "code",
   "execution_count": 18,
   "metadata": {},
   "outputs": [
    {
     "data": {
      "text/plain": "<IPython.core.display.Latex object>",
      "text/latex": "\\[\n\\begin{aligned}\n\\mathrm{ecc}_{soil} &= \\frac{ \\mathrm{width}_{total} }{ 2 } - \\frac{ \\mathrm{width}_{heel} }{ 2 } \\\\&= \\frac{ 4.000\\ \\mathrm{m} }{ 2 } - \\frac{ 2.900\\ \\mathrm{m} }{ 2 } \\\\&= 550.000\\ \\mathrm{mm}  \\\\[10pt]\n\\end{aligned}\n\\]"
     },
     "metadata": {},
     "output_type": "display_data"
    }
   ],
   "source": [
    "\n",
    "%%render long\n",
    "ecc_soil = width_total/2-width_heel/2"
   ]
  },
  {
   "cell_type": "code",
   "execution_count": 19,
   "metadata": {},
   "outputs": [
    {
     "data": {
      "text/plain": "<IPython.core.display.Latex object>",
      "text/latex": "\\[\n\\begin{aligned}\nN &= 361.900\\ \\mathrm{kN} \\; \n\\\\[10pt]\nM &= \\frac{ F_{A} \\cdot H_{total} }{ 3 } + W_{wall} \\cdot \\mathrm{ecc}_{wall} - W_{soil} \\cdot \\mathrm{ecc}_{soil} \\\\&= \\frac{ 92.340\\ \\mathrm{kN} \\cdot 5.400\\ \\mathrm{m} }{ 3 } + 48.000\\ \\mathrm{kN} \\cdot 1.100\\ \\mathrm{m} - 275.500\\ \\mathrm{kN} \\cdot 550.000\\ \\mathrm{mm} \\\\&= 67.487\\ \\mathrm{kN} \\cdot \\mathrm{m}  \\\\[10pt]\n\\\\[10pt]\n\\mathrm{check} &= \\frac{ M }{ N } \\lt \\frac{ \\mathrm{width}_{total} }{ 6 } \\\\&= \\frac{ 67.487\\ \\mathrm{kN} \\cdot \\mathrm{m} }{ 361.900\\ \\mathrm{kN} } \\lt \\frac{ 4.000\\ \\mathrm{m} }{ 6 } \\\\&= True  \\\\[10pt]\n\\end{aligned}\n\\]"
     },
     "metadata": {},
     "output_type": "display_data"
    }
   ],
   "source": [
    "%%render long\n",
    "N = W_total\n",
    "M = (F_A * H_total) / 3 + W_wall * ecc_wall-W_soil * ecc_soil\n",
    "\n",
    "check = M/N < width_total/6"
   ]
  },
  {
   "cell_type": "code",
   "execution_count": 20,
   "metadata": {},
   "outputs": [
    {
     "name": "stdout",
     "output_type": "stream",
     "text": [
      "M/N < D/6, OK\n"
     ]
    }
   ],
   "source": [
    "if check is True:\n",
    "    print ('M/N < D/6, OK')\n",
    "else:\n",
    "    print ('M/N > D/6, check bearing pressure shape')"
   ]
  },
  {
   "cell_type": "code",
   "execution_count": 21,
   "metadata": {},
   "outputs": [
    {
     "data": {
      "text/plain": "<IPython.core.display.Latex object>",
      "text/latex": "\\[\n\\begin{aligned}\n\\sigma_{toe} &= \\frac{ N }{ \\mathrm{width}_{total} \\cdot m } + \\frac{ 6 \\cdot M }{ \\left( \\mathrm{width}_{total} \\right) ^{ 2 } \\cdot m } \\\\&= \\frac{ 361.900\\ \\mathrm{kN} }{ 4.000\\ \\mathrm{m} \\cdot m } + \\frac{ 6 \\cdot 67.487\\ \\mathrm{kN} \\cdot \\mathrm{m} }{ \\left( 4.000\\ \\mathrm{m} \\right) ^{ 2 } \\cdot m } \\\\&= 115.783\\ \\mathrm{kPa}  \\\\[10pt]\n\\end{aligned}\n\\]"
     },
     "metadata": {},
     "output_type": "display_data"
    }
   ],
   "source": [
    "%%render long\n",
    "sigma_toe = N/(width_total*m) + (6*M)/(width_total**2*m)"
   ]
  },
  {
   "cell_type": "code",
   "execution_count": 22,
   "metadata": {},
   "outputs": [
    {
     "data": {
      "text/plain": "<IPython.core.display.Latex object>",
      "text/latex": "\\[\n\\begin{aligned}\n\\sigma_{heel} &= \\frac{ N }{ \\mathrm{width}_{total} \\cdot m } - \\frac{ 6 \\cdot M }{ \\left( \\mathrm{width}_{total} \\right) ^{ 2 } \\cdot m } \\\\&= \\frac{ 361.900\\ \\mathrm{kN} }{ 4.000\\ \\mathrm{m} \\cdot m } - \\frac{ 6 \\cdot 67.487\\ \\mathrm{kN} \\cdot \\mathrm{m} }{ \\left( 4.000\\ \\mathrm{m} \\right) ^{ 2 } \\cdot m } \\\\&= 65.167\\ \\mathrm{kPa}  \\\\[10pt]\n\\end{aligned}\n\\]"
     },
     "metadata": {},
     "output_type": "display_data"
    }
   ],
   "source": [
    "%%render long\n",
    "sigma_heel = N/(width_total*m) - (6*M)/(width_total**2*m)"
   ]
  },
  {
   "cell_type": "code",
   "execution_count": 23,
   "metadata": {},
   "outputs": [
    {
     "data": {
      "text/plain": "<IPython.core.display.Latex object>",
      "text/latex": "\\[\n\\begin{aligned}\n\\mathrm{bearing} &= \\sigma_{toe} \\leq \\sigma_{all} \\\\&= 115.783\\ \\mathrm{kPa} \\leq 120.000\\ \\mathrm{kPa} \\\\&= True  \\\\[10pt]\n\\end{aligned}\n\\]"
     },
     "metadata": {},
     "output_type": "display_data"
    }
   ],
   "source": [
    "%%render long\n",
    "bearing = sigma_toe <= sigma_all"
   ]
  },
  {
   "cell_type": "code",
   "execution_count": 24,
   "metadata": {},
   "outputs": [
    {
     "name": "stdout",
     "output_type": "stream",
     "text": [
      "bearing capacity OK\n"
     ]
    }
   ],
   "source": [
    "if bearing is True:\n",
    "    print ('bearing capacity OK')\n",
    "else:\n",
    "    print ('bearing capacity Not OK')"
   ]
  },
  {
   "cell_type": "markdown",
   "metadata": {},
   "source": [
    "### Reinforcement Calculation\n",
    "#### Structural parameter"
   ]
  },
  {
   "cell_type": "code",
   "execution_count": 25,
   "metadata": {},
   "outputs": [
    {
     "data": {
      "text/plain": "<IPython.core.display.Latex object>",
      "text/latex": "\\[\n\\begin{aligned}\n\\gamma_{f} &= 1.40 \\; \n &\\mathrm{steel}_{dia} &= 20.00\\ \\mathrm{mm} \\; \n &f_{cu} &= 35.00\\ \\mathrm{MPa} \\; \n\\\\[10pt]\n f_{y} &= 500.00\\ \\mathrm{MPa} \\; \n &\\mathrm{cover}_{wall} &= 35.00\\ \\mathrm{mm} \\; \n &\\mathrm{cover}_{base} &= 50.00\\ \\mathrm{mm} \\; \n\\\\[10pt]\n\\end{aligned}\n\\]"
     },
     "metadata": {},
     "output_type": "display_data"
    }
   ],
   "source": [
    "%%render params 2\n",
    "gamma_f = 1.4\n",
    "steel_dia = 20*mm\n",
    "f_cu = 35 *MPa\n",
    "f_y = 500 *MPa\n",
    "cover_wall = 35*mm\n",
    "cover_base = 50*mm"
   ]
  },
  {
   "cell_type": "markdown",
   "metadata": {},
   "source": [
    "#### Wall reinforcement per-meter run . Near Face / NF (tension side)"
   ]
  },
  {
   "cell_type": "code",
   "execution_count": 26,
   "metadata": {},
   "outputs": [
    {
     "data": {
      "text/plain": "<IPython.core.display.Latex object>",
      "text/latex": "\\[\n\\begin{aligned}\nF_{soil} &= 0.5 \\cdot k_{a} \\cdot \\gamma_{soil} \\cdot \\left( H_{wall} \\right) ^{ 2 } \\cdot \\left( 1 \\cdot m \\right) \\\\&= 0.5 \\cdot 0.333 \\cdot 19.000\\ \\mathrm{kN/m³} \\cdot \\left( 5.000\\ \\mathrm{m} \\right) ^{ 2 } \\cdot \\left( 1 \\cdot m \\right) \\\\&= 79.167\\ \\mathrm{kN}  \\\\[10pt]\n\\\\[10pt]\nM_{wall} &= \\frac{ \\gamma_{f} \\cdot F_{soil} \\cdot H_{wall} }{ 3 } \\\\&= \\frac{ 1.400 \\cdot 79.167\\ \\mathrm{kN} \\cdot 5.000\\ \\mathrm{m} }{ 3 } \\\\&= 184.722\\ \\mathrm{kN} \\cdot \\mathrm{m}  \\\\[10pt]\n\\end{aligned}\n\\]"
     },
     "metadata": {},
     "output_type": "display_data"
    }
   ],
   "source": [
    "%%render long\n",
    "\n",
    "F_soil = 0.5 * k_a * gamma_soil * H_wall**2 *(1*m)\n",
    "M_wall = (gamma_f*F_soil*H_wall)/3"
   ]
  },
  {
   "cell_type": "code",
   "execution_count": 27,
   "metadata": {},
   "outputs": [
    {
     "data": {
      "text/plain": "<IPython.core.display.Latex object>",
      "text/latex": "\\[\n\\begin{aligned}\nd_{wall} &= \\mathrm{width}_{wall} - \\mathrm{cover}_{wall} - \\frac{ \\mathrm{steel}_{dia} }{ 2 } \\\\&= 400.000\\ \\mathrm{mm} - 35.000\\ \\mathrm{mm} - \\frac{ 20.000\\ \\mathrm{mm} }{ 2 } \\\\&= 355.000\\ \\mathrm{mm}  \\\\[10pt]\n\\\\[10pt]\nM_{u} &= 0.156 \\cdot f_{cu} \\cdot \\left( d_{wall} \\right) ^{ 2 } \\cdot \\left( 1 \\cdot m \\right) \\\\&= 0.156 \\cdot 35.000\\ \\mathrm{MPa} \\cdot \\left( 355.000\\ \\mathrm{mm} \\right) ^{ 2 } \\cdot \\left( 1 \\cdot m \\right) \\\\&= 688.096\\ \\mathrm{kN} \\cdot \\mathrm{m}  \\\\[10pt]\n\\end{aligned}\n\\]"
     },
     "metadata": {},
     "output_type": "display_data"
    }
   ],
   "source": [
    "%%render long\n",
    "d_wall = width_wall - cover_wall - steel_dia/2\n",
    "M_u = 0.156 * f_cu * d_wall**2 * (1*m)"
   ]
  },
  {
   "cell_type": "code",
   "execution_count": 28,
   "metadata": {},
   "outputs": [
    {
     "data": {
      "text/plain": "<IPython.core.display.Latex object>",
      "text/latex": "\\[\n\\begin{aligned}\n\\mathrm{check}_{M} &= M_{wall} \\leq M_{u} \\\\&= 184.722\\ \\mathrm{kN} \\cdot \\mathrm{m} \\leq 688.096\\ \\mathrm{kN} \\cdot \\mathrm{m} \\\\&= True  \\\\[10pt]\n\\end{aligned}\n\\]"
     },
     "metadata": {},
     "output_type": "display_data"
    }
   ],
   "source": [
    "%%render long\n",
    "check_M = M_wall <= M_u"
   ]
  },
  {
   "cell_type": "code",
   "execution_count": 29,
   "metadata": {},
   "outputs": [
    {
     "name": "stdout",
     "output_type": "stream",
     "text": [
      "No need compression steel\n"
     ]
    }
   ],
   "source": [
    "if bearing is True:\n",
    "    print ('No need compression steel')\n",
    "else:\n",
    "    print ('Need compression steel, update all sheet')"
   ]
  },
  {
   "cell_type": "code",
   "execution_count": 30,
   "metadata": {},
   "outputs": [
    {
     "data": {
      "text/plain": "<IPython.core.display.Latex object>",
      "text/latex": "\\[\n\\begin{aligned}\nK_{wall} &= \\frac{ M_{wall} }{ f_{cu} \\cdot 1 \\cdot m \\cdot \\left( d_{wall} \\right) ^{ 2 } } \\\\&= \\frac{ 184.722\\ \\mathrm{kN} \\cdot \\mathrm{m} }{ 35.000\\ \\mathrm{MPa} \\cdot 1 \\cdot m \\cdot \\left( 355.000\\ \\mathrm{mm} \\right) ^{ 2 } } \\\\&= 0.042  \\\\[10pt]\n\\\\[10pt]\nz_{wall} &= d_{wall} \\cdot \\left( 0.5 + \\sqrt { 0.25 - \\frac{ K_{wall} }{ 0.9 } } \\right) \\\\&= 355.000\\ \\mathrm{mm} \\cdot \\left( 0.5 + \\sqrt { 0.25 - \\frac{ 0.042 }{ 0.9 } } \\right) \\\\&= 337.631\\ \\mathrm{mm}  \\\\[10pt]\n\\\\[10pt]\n\\mathrm{As}_{wall_{NF}} &= \\frac{ M_{wall} }{ 0.87 \\cdot f_{y} \\cdot z_{wall} } \\\\&= \\frac{ 184.722\\ \\mathrm{kN} \\cdot \\mathrm{m} }{ 0.87 \\cdot 500.000\\ \\mathrm{MPa} \\cdot 337.631\\ \\mathrm{mm} } \\\\&= 1257.729\\ \\mathrm{mm}^{2}  \\\\[10pt]\n\\end{aligned}\n\\]"
     },
     "metadata": {},
     "output_type": "display_data"
    }
   ],
   "source": [
    "%%render long\n",
    "K_wall = M_wall / (f_cu*1*m*d_wall**2)\n",
    "z_wall = d_wall * (0.5 + sqrt(0.25 - K_wall/0.9))\n",
    "As_wall_NF= M_wall / (0.87 * f_y * z_wall)"
   ]
  },
  {
   "cell_type": "markdown",
   "metadata": {},
   "source": [
    "#### Wall reinforcement per-meter run. Front Face / FF (compression side)"
   ]
  },
  {
   "cell_type": "code",
   "execution_count": 31,
   "metadata": {},
   "outputs": [
    {
     "data": {
      "text/plain": "<IPython.core.display.Latex object>",
      "text/latex": "\\[\n\\begin{aligned}\n\\mathrm{steel}_{min} &= \\frac{ 0.13 }{ 100 } \\cdot \\left( 1 \\cdot m \\right) \\cdot \\mathrm{width}_{wall} \\\\&= \\frac{ 0.13 }{ 100 } \\cdot \\left( 1 \\cdot m \\right) \\cdot 400.000\\ \\mathrm{mm} \\\\&= 520.000\\ \\mathrm{mm}^{2}  \\\\[10pt]\n\\\\[10pt]\n\\mathrm{As}_{wall_{FF}} &= 520.000\\ \\mathrm{mm}^{2} \\; \n\\end{aligned}\n\\]"
     },
     "metadata": {},
     "output_type": "display_data"
    }
   ],
   "source": [
    "%%render long\n",
    "steel_min = 0.13/100*(1*m)*width_wall\n",
    "As_wall_FF = steel_min\n"
   ]
  },
  {
   "cell_type": "markdown",
   "metadata": {},
   "source": [
    "#### Base reinforcement ber-meter run (Heel)"
   ]
  },
  {
   "cell_type": "code",
   "execution_count": 32,
   "metadata": {},
   "outputs": [
    {
     "data": {
      "text/plain": "<IPython.core.display.Latex object>",
      "text/latex": "\\[\n\\begin{aligned}\np_{1} &= \\gamma_{f} \\cdot \\sigma_{toe}  = 1.400 \\cdot 115.783\\ \\mathrm{kPa} &= 162.096\\ \\mathrm{kPa}  \n\\\\[10pt]\np_{2} &= \\gamma_{f} \\cdot \\sigma_{heel}  = 1.400 \\cdot 65.167\\ \\mathrm{kPa} &= 91.234\\ \\mathrm{kPa}  \n\\\\[10pt]\np_{3} &= p_{2} + \\frac{ \\mathrm{width}_{heel} \\cdot \\left( p_{1} - p_{2} \\right) }{ \\mathrm{width}_{total} }  = 91.234\\ \\mathrm{kPa} + \\frac{ 2.900\\ \\mathrm{m} \\cdot \\left( 162.096\\ \\mathrm{kPa} - 91.234\\ \\mathrm{kPa} \\right) }{ 4.000\\ \\mathrm{m} } &= 142.609\\ \\mathrm{kPa}  \n\\end{aligned}\n\\]"
     },
     "metadata": {},
     "output_type": "display_data"
    }
   ],
   "source": [
    "%%render\n",
    "p_1 = gamma_f * sigma_toe\n",
    "p_2 = gamma_f * sigma_heel\n",
    "p_3 = p_2 + (width_heel*(p_1-p_2))/width_total"
   ]
  },
  {
   "cell_type": "code",
   "execution_count": 33,
   "metadata": {},
   "outputs": [
    {
     "data": {
      "text/plain": "<IPython.core.display.Latex object>",
      "text/latex": "\\[\n\\begin{aligned}\nM_{soil} &= \\frac{ W_{soil} \\cdot \\gamma_{f} \\cdot \\mathrm{width}_{heel} }{ 2 } \\\\&= \\frac{ 275.500\\ \\mathrm{kN} \\cdot 1.400 \\cdot 2.900\\ \\mathrm{m} }{ 2 } \\\\&= 559.265\\ \\mathrm{kN} \\cdot \\mathrm{m}  \\\\[10pt]\n\\\\[10pt]\nM_{concrete} &= \\frac{ \\mathrm{width}_{heel} \\cdot W_{base} \\cdot \\gamma_{f} }{ \\mathrm{width}_{total} } \\cdot \\left( \\frac{ \\mathrm{width}_{heel} }{ 2 } \\right) \\\\&= \\frac{ 2.900\\ \\mathrm{m} \\cdot 38.400\\ \\mathrm{kN} \\cdot 1.400 }{ 4.000\\ \\mathrm{m} } \\cdot \\left( \\frac{ 2.900\\ \\mathrm{m} }{ 2 } \\right) \\\\&= 56.515\\ \\mathrm{kN} \\cdot \\mathrm{m}  \\\\[10pt]\n\\end{aligned}\n\\]"
     },
     "metadata": {},
     "output_type": "display_data"
    }
   ],
   "source": [
    "%%render long\n",
    "M_soil = (W_soil*gamma_f*width_heel)/2\n",
    "M_concrete = (width_heel*W_base*gamma_f)/width_total*(width_heel/2)"
   ]
  },
  {
   "cell_type": "code",
   "execution_count": 34,
   "metadata": {},
   "outputs": [
    {
     "data": {
      "text/plain": "<IPython.core.display.Latex object>",
      "text/latex": "\\[\n\\begin{aligned}\nM_{bearing1} &= \\frac{ p_{2} \\cdot \\mathrm{width}_{heel} \\cdot \\mathrm{width}_{heel} \\cdot 1 \\cdot m }{ 2 } \\\\&= \\frac{ 91.234\\ \\mathrm{kPa} \\cdot 2.900\\ \\mathrm{m} \\cdot 2.900\\ \\mathrm{m} \\cdot 1 \\cdot m }{ 2 } \\\\&= 383.640\\ \\mathrm{kN} \\cdot \\mathrm{m}  \\\\[10pt]\n\\\\[10pt]\nM_{bearing2} &= \\left( \\frac{ \\left( p_{3} - p_{2} \\right) \\cdot \\mathrm{width}_{heel} }{ 2 } \\cdot \\left( \\mathrm{width}_{heel} \\cdot \\frac{ 1 }{ 3 } \\right) \\cdot \\left( 1 \\cdot m \\right) \\right) \\\\&= \\left( \\frac{ \\left( 142.609\\ \\mathrm{kPa} - 91.234\\ \\mathrm{kPa} \\right) \\cdot 2.900\\ \\mathrm{m} }{ 2 } \\cdot \\left( 2.900\\ \\mathrm{m} \\cdot \\frac{ 1 }{ 3 } \\right) \\cdot \\left( 1 \\cdot m \\right) \\right) \\\\&= 72.010\\ \\mathrm{kN} \\cdot \\mathrm{m}  \\\\[10pt]\n\\end{aligned}\n\\]"
     },
     "metadata": {},
     "output_type": "display_data"
    }
   ],
   "source": [
    "%%render long\n",
    "M_bearing1= (p_2*width_heel*width_heel*1*m)/2\n",
    "M_bearing2 = (((p_3-p_2)*width_heel)/2*(width_heel*1/3)*(1*m))"
   ]
  },
  {
   "cell_type": "code",
   "execution_count": 35,
   "metadata": {},
   "outputs": [
    {
     "data": {
      "text/plain": "<IPython.core.display.Latex object>",
      "text/latex": "\\[\n\\begin{aligned}\nM_{heel} &= M_{soil} + M_{concrete} - M_{bearing1} - M_{bearing2} \\\\&= 559.265\\ \\mathrm{kN} \\cdot \\mathrm{m} + 56.515\\ \\mathrm{kN} \\cdot \\mathrm{m} - 383.640\\ \\mathrm{kN} \\cdot \\mathrm{m} - 72.010\\ \\mathrm{kN} \\cdot \\mathrm{m} \\\\&= 160.130\\ \\mathrm{kN} \\cdot \\mathrm{m}  \\\\[10pt]\n\\end{aligned}\n\\]"
     },
     "metadata": {},
     "output_type": "display_data"
    }
   ],
   "source": [
    "%%render long\n",
    "M_heel = M_soil + M_concrete - M_bearing1 - M_bearing2\n"
   ]
  },
  {
   "cell_type": "code",
   "execution_count": 36,
   "metadata": {},
   "outputs": [
    {
     "data": {
      "text/plain": "<IPython.core.display.Latex object>",
      "text/latex": "\\[\n\\begin{aligned}\nd_{heel} &= H_{slab} - \\mathrm{cover}_{base} - \\frac{ \\mathrm{steel}_{dia} }{ 2 } \\\\&= 400.0000\\ \\mathrm{mm} - 50.0000\\ \\mathrm{mm} - \\frac{ 20.0000\\ \\mathrm{mm} }{ 2 } \\\\&= 340.0000\\ \\mathrm{mm}  \\\\[10pt]\n\\\\[10pt]\nK_{heel} &= \\frac{ M_{heel} }{ f_{cu} \\cdot 1 \\cdot m \\cdot \\left( d_{heel} \\right) ^{ 2 } } \\\\&= \\frac{ 160.1300\\ \\mathrm{kN} \\cdot \\mathrm{m} }{ 35.0000\\ \\mathrm{MPa} \\cdot 1 \\cdot m \\cdot \\left( 340.0000\\ \\mathrm{mm} \\right) ^{ 2 } } \\\\&= 0.0396  \\\\[10pt]\n\\end{aligned}\n\\]"
     },
     "metadata": {},
     "output_type": "display_data"
    }
   ],
   "source": [
    "%%render long 4\n",
    "d_heel = H_slab - cover_base - steel_dia/2\n",
    "K_heel = M_heel / (f_cu*1*m*d_heel**2)"
   ]
  },
  {
   "cell_type": "code",
   "execution_count": 37,
   "metadata": {},
   "outputs": [
    {
     "data": {
      "text/plain": "<IPython.core.display.Latex object>",
      "text/latex": "\\[\n\\begin{aligned}\nz_{heel} &= d_{heel} \\cdot \\left( 0.5 + \\sqrt { 0.25 - \\frac{ K_{heel} }{ 0.9 } } \\right) \\\\&= 340.0000\\ \\mathrm{mm} \\cdot \\left( 0.5 + \\sqrt { 0.25 - \\frac{ 0.0396 }{ 0.9 } } \\right) \\\\&= 324.3260\\ \\mathrm{mm}  \\\\[10pt]\n\\\\[10pt]\n\\mathrm{As}_{heel} &= \\frac{ M_{heel} }{ 0.87 \\cdot f_{y} \\cdot z_{heel} } \\\\&= \\frac{ 160.1300\\ \\mathrm{kN} \\cdot \\mathrm{m} }{ 0.87 \\cdot 500.0000\\ \\mathrm{MPa} \\cdot 324.3260\\ \\mathrm{mm} } \\\\&= 1135.0150\\ \\mathrm{mm}^{2}  \\\\[10pt]\n\\end{aligned}\n\\]"
     },
     "metadata": {},
     "output_type": "display_data"
    }
   ],
   "source": [
    "%%render long 4\n",
    "z_heel = d_heel * (0.5 + sqrt(0.25 - K_heel/0.9))\n",
    "As_heel= M_heel / (0.87 * f_y * z_heel)"
   ]
  },
  {
   "cell_type": "markdown",
   "metadata": {},
   "source": [
    "#### Base reinforcement ber-meter run (Toe)"
   ]
  },
  {
   "cell_type": "code",
   "execution_count": 38,
   "metadata": {},
   "outputs": [
    {
     "data": {
      "text/plain": "<IPython.core.display.Latex object>",
      "text/latex": "\\[\n\\begin{aligned}\nM_{toe} &= \\frac{ p_{1} \\cdot \\left( \\mathrm{width}_{toe} \\right) ^{ 2 } }{ 2 } \\cdot \\left( 1 \\cdot m \\right) - \\left( \\mathrm{width}_{toe} \\cdot W_{base} \\cdot \\frac{ \\gamma_{f} }{ \\mathrm{width}_{total} } \\right) \\cdot \\left( \\frac{ \\mathrm{width}_{toe} }{ 2 } \\right) \\\\&= \\frac{ 162.096\\ \\mathrm{kPa} \\cdot \\left( 700.000\\ \\mathrm{mm} \\right) ^{ 2 } }{ 2 } \\cdot \\left( 1 \\cdot m \\right) - \\left( 700.000\\ \\mathrm{mm} \\cdot 38.400\\ \\mathrm{kN} \\cdot \\frac{ 1.400 }{ 4.000\\ \\mathrm{m} } \\right) \\cdot \\left( \\frac{ 700.000\\ \\mathrm{mm} }{ 2 } \\right) \\\\&= 36.421\\ \\mathrm{kN} \\cdot \\mathrm{m}  \\\\[10pt]\n\\\\[10pt]\n\\mathrm{As}_{toe} &= \\operatorname{max} { \\left( \\frac{ M_{toe} \\cdot \\mathrm{As}_{heel} }{ M_{heel} } ,\\  \\mathrm{steel}_{min} \\right) } \\\\&= \\operatorname{max} { \\left( \\frac{ 36.421\\ \\mathrm{kN} \\cdot \\mathrm{m} \\cdot 1135.015\\ \\mathrm{mm}^{2} }{ 160.130\\ \\mathrm{kN} \\cdot \\mathrm{m} } ,\\  520.000\\ \\mathrm{mm}^{2} \\right) } \\\\&= 520.000\\ \\mathrm{mm}^{2}  \\\\[10pt]\n\\end{aligned}\n\\]"
     },
     "metadata": {},
     "output_type": "display_data"
    }
   ],
   "source": [
    "%%render long\n",
    "M_toe = (p_1 * width_toe**2)/2*(1*m) - (width_toe*W_base*gamma_f/width_total)*(width_toe/2)\n",
    "As_toe = max((M_toe * As_heel)/M_heel, steel_min)\n"
   ]
  },
  {
   "cell_type": "markdown",
   "metadata": {},
   "source": [
    "#### Reinforcement summary"
   ]
  },
  {
   "cell_type": "code",
   "execution_count": 39,
   "metadata": {},
   "outputs": [
    {
     "data": {
      "text/plain": "    structure_part  steel_diameter (mm)  As_required (mm2/m)  n  \\\n0       As_wall_NF                 20.0          1257.729100  5   \n1       As_wall_FF                 12.0           520.000000  5   \n2          As_heel                 20.0          1135.015049  4   \n3           As_toe                 12.0           520.000000  5   \n4  As_distribution                 12.0           520.000000  5   \n\n   As_calculated  spacing (mm)        annotation  \n0    1570.796327         200.0  D20.0 @ 200.0 mm  \n1     565.486678         200.0  D12.0 @ 200.0 mm  \n2    1256.637061         250.0  D20.0 @ 250.0 mm  \n3     565.486678         200.0  D12.0 @ 200.0 mm  \n4     565.486678         200.0  D12.0 @ 200.0 mm  ",
      "text/html": "<div>\n<style scoped>\n    .dataframe tbody tr th:only-of-type {\n        vertical-align: middle;\n    }\n\n    .dataframe tbody tr th {\n        vertical-align: top;\n    }\n\n    .dataframe thead th {\n        text-align: right;\n    }\n</style>\n<table border=\"1\" class=\"dataframe\">\n  <thead>\n    <tr style=\"text-align: right;\">\n      <th></th>\n      <th>structure_part</th>\n      <th>steel_diameter (mm)</th>\n      <th>As_required (mm2/m)</th>\n      <th>n</th>\n      <th>As_calculated</th>\n      <th>spacing (mm)</th>\n      <th>annotation</th>\n    </tr>\n  </thead>\n  <tbody>\n    <tr>\n      <th>0</th>\n      <td>As_wall_NF</td>\n      <td>20.0</td>\n      <td>1257.729100</td>\n      <td>5</td>\n      <td>1570.796327</td>\n      <td>200.0</td>\n      <td>D20.0 @ 200.0 mm</td>\n    </tr>\n    <tr>\n      <th>1</th>\n      <td>As_wall_FF</td>\n      <td>12.0</td>\n      <td>520.000000</td>\n      <td>5</td>\n      <td>565.486678</td>\n      <td>200.0</td>\n      <td>D12.0 @ 200.0 mm</td>\n    </tr>\n    <tr>\n      <th>2</th>\n      <td>As_heel</td>\n      <td>20.0</td>\n      <td>1135.015049</td>\n      <td>4</td>\n      <td>1256.637061</td>\n      <td>250.0</td>\n      <td>D20.0 @ 250.0 mm</td>\n    </tr>\n    <tr>\n      <th>3</th>\n      <td>As_toe</td>\n      <td>12.0</td>\n      <td>520.000000</td>\n      <td>5</td>\n      <td>565.486678</td>\n      <td>200.0</td>\n      <td>D12.0 @ 200.0 mm</td>\n    </tr>\n    <tr>\n      <th>4</th>\n      <td>As_distribution</td>\n      <td>12.0</td>\n      <td>520.000000</td>\n      <td>5</td>\n      <td>565.486678</td>\n      <td>200.0</td>\n      <td>D12.0 @ 200.0 mm</td>\n    </tr>\n  </tbody>\n</table>\n</div>"
     },
     "execution_count": 39,
     "metadata": {},
     "output_type": "execute_result"
    }
   ],
   "source": [
    "import pandas as pd\n",
    "\n",
    "#units perlu dihilangkan\n",
    "As1 = As_wall_NF / mm**2\n",
    "As2 = As_wall_FF / mm**2\n",
    "As3 = As_heel / mm**2\n",
    "As4 = As_toe / mm**2\n",
    "As_dist = steel_min /mm**2\n",
    "steel_NF = steel_dia / mm\n",
    "steel_heel = steel_dia / mm\n",
    "\n",
    "#masukkan diameter steel yang lain\n",
    "steel_FF = 12\n",
    "steel_toe = 12\n",
    "steel_dist = 12\n",
    "\n",
    "df_recap = pd.DataFrame({\n",
    "    'structure_part':['As_wall_NF','As_wall_FF','As_heel','As_toe','As_distribution'],\n",
    "    'steel_diameter (mm)':[steel_NF,steel_FF,steel_heel,steel_toe,steel_dist],\n",
    "    'As_required (mm2/m)':[As1,As2,As3,As4,As_dist]\n",
    "})\n",
    "\n",
    "#function untuk menghitung jumlah baja\n",
    "def steel_n(x):\n",
    "    hitung = True\n",
    "    n = 1\n",
    "    while hitung == True:\n",
    "        kebutuhan_baja = x['As_required (mm2/m)']\n",
    "        luas_perbatang = np.pi* x['steel_diameter (mm)']**2 /4\n",
    "        luas_baja_terpasang = n * luas_perbatang\n",
    "\n",
    "        if luas_baja_terpasang >= kebutuhan_baja:\n",
    "            hitung = False\n",
    "        else:\n",
    "            n += 1\n",
    "    return n\n",
    "\n",
    "df_recap = df_recap.assign(n=df_recap.apply(steel_n, axis=1))\n",
    "\n",
    "#menghitung As total dari hasil automatic calculation\n",
    "df_recap['As_calculated'] = df_recap['steel_diameter (mm)']**2 / 4 * np.pi * df_recap['n']\n",
    "\n",
    "#calculate spacing\n",
    "kelipatan = 25\n",
    "df_recap['spacing (mm)'] = kelipatan *  (1000 / df_recap['n']/kelipatan).apply(np.floor)\n",
    "\n",
    "#create anotation\n",
    "for i in range (len(df_recap)):\n",
    "    df_recap.loc[i, 'annotation'] = f\"D{df_recap['steel_diameter (mm)'][i]} @ {df_recap['spacing (mm)'][i]} mm\"\n",
    "\n",
    "df_recap"
   ]
  },
  {
   "cell_type": "code",
   "execution_count": 40,
   "metadata": {},
   "outputs": [
    {
     "data": {
      "text/plain": "    structure_part  steel_diameter (mm)  As_required (mm2/m)  n  \\\n0       As_wall_NF                 20.0          1257.729100  5   \n1       As_wall_FF                 12.0           520.000000  5   \n2          As_heel                 20.0          1135.015049  5   \n3           As_toe                 12.0           520.000000  5   \n4  As_distribution                 12.0           520.000000  5   \n\n   As_calculated  spacing (mm)        annotation  \n0    1570.796327         200.0  D20.0 @ 200.0 mm  \n1     565.486678         200.0  D12.0 @ 200.0 mm  \n2    1570.796327         200.0  D20.0 @ 200.0 mm  \n3     565.486678         200.0  D12.0 @ 200.0 mm  \n4     565.486678         200.0  D12.0 @ 200.0 mm  ",
      "text/html": "<div>\n<style scoped>\n    .dataframe tbody tr th:only-of-type {\n        vertical-align: middle;\n    }\n\n    .dataframe tbody tr th {\n        vertical-align: top;\n    }\n\n    .dataframe thead th {\n        text-align: right;\n    }\n</style>\n<table border=\"1\" class=\"dataframe\">\n  <thead>\n    <tr style=\"text-align: right;\">\n      <th></th>\n      <th>structure_part</th>\n      <th>steel_diameter (mm)</th>\n      <th>As_required (mm2/m)</th>\n      <th>n</th>\n      <th>As_calculated</th>\n      <th>spacing (mm)</th>\n      <th>annotation</th>\n    </tr>\n  </thead>\n  <tbody>\n    <tr>\n      <th>0</th>\n      <td>As_wall_NF</td>\n      <td>20.0</td>\n      <td>1257.729100</td>\n      <td>5</td>\n      <td>1570.796327</td>\n      <td>200.0</td>\n      <td>D20.0 @ 200.0 mm</td>\n    </tr>\n    <tr>\n      <th>1</th>\n      <td>As_wall_FF</td>\n      <td>12.0</td>\n      <td>520.000000</td>\n      <td>5</td>\n      <td>565.486678</td>\n      <td>200.0</td>\n      <td>D12.0 @ 200.0 mm</td>\n    </tr>\n    <tr>\n      <th>2</th>\n      <td>As_heel</td>\n      <td>20.0</td>\n      <td>1135.015049</td>\n      <td>5</td>\n      <td>1570.796327</td>\n      <td>200.0</td>\n      <td>D20.0 @ 200.0 mm</td>\n    </tr>\n    <tr>\n      <th>3</th>\n      <td>As_toe</td>\n      <td>12.0</td>\n      <td>520.000000</td>\n      <td>5</td>\n      <td>565.486678</td>\n      <td>200.0</td>\n      <td>D12.0 @ 200.0 mm</td>\n    </tr>\n    <tr>\n      <th>4</th>\n      <td>As_distribution</td>\n      <td>12.0</td>\n      <td>520.000000</td>\n      <td>5</td>\n      <td>565.486678</td>\n      <td>200.0</td>\n      <td>D12.0 @ 200.0 mm</td>\n    </tr>\n  </tbody>\n</table>\n</div>"
     },
     "execution_count": 40,
     "metadata": {},
     "output_type": "execute_result"
    }
   ],
   "source": [
    "#RUBAH MANUAL n\n",
    "df_recap.loc[2, 'n'] = 5\n",
    "\n",
    "\n",
    "#menghitung As total dari hasil automatic calculation\n",
    "df_recap['As_calculated'] = df_recap['steel_diameter (mm)']**2 / 4 * np.pi * df_recap['n']\n",
    "\n",
    "#calculate spacing\n",
    "kelipatan = 25\n",
    "df_recap['spacing (mm)'] = kelipatan *  (1000 / df_recap['n']/kelipatan).apply(np.floor)\n",
    "\n",
    "#create anotation\n",
    "for i in range (len(df_recap)):\n",
    "    df_recap.loc[i, 'annotation'] = f\"D{df_recap['steel_diameter (mm)'][i]} @ {df_recap['spacing (mm)'][i]} mm\"\n",
    "\n",
    "df_recap"
   ]
  },
  {
   "cell_type": "code",
   "execution_count": 41,
   "metadata": {},
   "outputs": [],
   "source": [
    "#menghilangkan satuan untuk plot grafik\n",
    "H_wall = H_wall/m*1000\n",
    "H_slab = H_slab/mm\n",
    "H_total = H_wall + H_slab\n",
    "width_toe = width_toe/mm\n",
    "width_wall = width_wall/mm\n",
    "width_heel = width_heel/mm\n",
    "width_total = width_toe + width_wall + width_heel\n",
    "cover_base = cover_base/mm\n",
    "cover_wall = cover_wall/mm"
   ]
  },
  {
   "cell_type": "code",
   "execution_count": 42,
   "metadata": {},
   "outputs": [],
   "source": [
    "#Major reinforcement\n",
    "#As toe\n",
    "x_rein_slab_bot= width_total-cover_base\n",
    "y_rein_slab_bot= cover_base+steel_dist/2\n",
    "\n",
    "#As heel\n",
    "x_rein_slab_top= width_total-cover_base\n",
    "y_rein_slab_top= H_slab - cover_base - steel_heel/2\n",
    "\n",
    "#As FF\n",
    "x_rein_wall_left = cover_wall+width_toe\n",
    "y_rein_wall_left = H_total-cover_wall\n",
    "\n",
    "#As NF\n",
    "x_rein_wall_right = width_wall + width_toe - cover_wall\n",
    "y_rein_wall_right = H_total-cover_wall"
   ]
  },
  {
   "cell_type": "code",
   "execution_count": 43,
   "metadata": {},
   "outputs": [],
   "source": [
    "#Distribution reinforcment slab bot\n",
    "x_dist_slab_bot = np.linspace(cover_base+df_recap['steel_diameter (mm)'][3],x_rein_slab_bot-df_recap['steel_diameter (mm)'][3],int(x_rein_slab_bot/df_recap['spacing (mm)'][3]+2))\n",
    "y_dist_slab_bot = y_rein_slab_bot+50\n",
    "dist_slab_bot = pd.DataFrame({'x':x_dist_slab_bot,'y':y_dist_slab_bot,})\n",
    "\n",
    "#Distribution reinforcment slab top\n",
    "x_dist_slab_top = np.linspace(cover_base+df_recap['steel_diameter (mm)'][2],x_rein_slab_top-df_recap['steel_diameter (mm)'][2],int(x_rein_slab_top/df_recap['spacing (mm)'][2]+2))\n",
    "\n",
    "y_dist_slab_top = y_rein_slab_top-50\n",
    "dist_slab_top = pd.DataFrame({'x':x_dist_slab_top,'y':y_dist_slab_top,})\n",
    "\n",
    "#Distribution reinforcment NF\n",
    "x_dist_wall_left = x_rein_wall_left+50\n",
    "y_dist_wall_left = np.linspace(H_slab+df_recap['spacing (mm)'][1]+df_recap['steel_diameter (mm)'][1],y_rein_wall_left-df_recap['steel_diameter (mm)'][1],int(y_rein_wall_left/df_recap['spacing (mm)'][1]+2))\n",
    "\n",
    "dist_wall_left  = pd.DataFrame({'x':x_dist_wall_left,'y':y_dist_wall_left,})\n",
    "#Distribution reinforcment FF\n",
    "x_dist_wall_right = x_rein_wall_right-50\n",
    "y_dist_wall_right = np.linspace(H_slab+df_recap['spacing (mm)'][0]+df_recap['steel_diameter (mm)'][0],y_rein_wall_right-df_recap['steel_diameter (mm)'][0],int(y_rein_wall_right/df_recap['spacing (mm)'][0]+2))\n",
    "\n",
    "dist_wall_right  = pd.DataFrame({'x':x_dist_wall_right,'y':y_dist_wall_right,})"
   ]
  },
  {
   "cell_type": "code",
   "execution_count": 44,
   "metadata": {},
   "outputs": [],
   "source": [
    "#starter bar\n",
    "starterbar_diameter = df_recap['steel_diameter (mm)'].iloc[0]\n",
    "starterbar_spacing = df_recap['spacing (mm)'].iloc[0]\n",
    "overlap_length = 40 * starterbar_diameter\n",
    "bend_length = 16*starterbar_diameter\n",
    "starterbar_annotation = f\"D{starterbar_diameter} @ {starterbar_spacing} mm\""
   ]
  },
  {
   "cell_type": "markdown",
   "source": [
    "#### Plot grafik"
   ],
   "metadata": {
    "collapsed": false
   }
  },
  {
   "cell_type": "code",
   "execution_count": 46,
   "metadata": {},
   "outputs": [
    {
     "data": {
      "application/vnd.plotly.v1+json": {
       "data": [
        {
         "legendgroup": "2",
         "mode": "lines",
         "name": "D20.0 @ 200.0 mm",
         "x": [
          735.0,
          735.0,
          935.0
         ],
         "y": [
          450.0,
          5365.0,
          5365.0
         ],
         "type": "scatter",
         "xaxis": "x",
         "yaxis": "y"
        },
        {
         "legendgroup": "2",
         "mode": "lines",
         "name": "D12.0 @ 200.0 mm",
         "x": [
          1065.0,
          1065.0,
          865.0
         ],
         "y": [
          450.0,
          5365.0,
          5365.0
         ],
         "type": "scatter",
         "xaxis": "x",
         "yaxis": "y"
        },
        {
         "legendgroup": "2",
         "mode": "lines",
         "name": "D20.0 @ 200.0 mm",
         "x": [
          50.0,
          50.0,
          3950.0,
          3950.0
         ],
         "y": [
          140.0,
          340.0,
          340.0,
          140.0
         ],
         "type": "scatter",
         "xaxis": "x",
         "yaxis": "y"
        },
        {
         "legendgroup": "2",
         "mode": "lines",
         "name": "D12.0 @ 200.0 mm",
         "x": [
          50.0,
          50.0,
          3950.0,
          3950.0
         ],
         "y": [
          256.0,
          56.0,
          56.0,
          256.0
         ],
         "type": "scatter",
         "xaxis": "x",
         "yaxis": "y"
        },
        {
         "legendgroup": "3",
         "marker": {
          "size": 4
         },
         "mode": "markers",
         "name": "D12.0 @ 200.0 mm",
         "x": [
          62.0,
          255.8,
          449.6,
          643.4000000000001,
          837.2,
          1031.0,
          1224.8000000000002,
          1418.6000000000001,
          1612.4,
          1806.2,
          2000.0,
          2193.8,
          2387.6000000000004,
          2581.4,
          2775.2000000000003,
          2969.0,
          3162.8,
          3356.6000000000004,
          3550.4,
          3744.2000000000003,
          3938.0
         ],
         "y": [
          106.0,
          106.0,
          106.0,
          106.0,
          106.0,
          106.0,
          106.0,
          106.0,
          106.0,
          106.0,
          106.0,
          106.0,
          106.0,
          106.0,
          106.0,
          106.0,
          106.0,
          106.0,
          106.0,
          106.0,
          106.0
         ],
         "type": "scatter",
         "xaxis": "x",
         "yaxis": "y"
        },
        {
         "legendgroup": "3",
         "marker": {
          "size": 4
         },
         "mode": "markers",
         "name": "D20.0 @ 200.0 mm",
         "x": [
          70.0,
          263.0,
          456.0,
          649.0,
          842.0,
          1035.0,
          1228.0,
          1421.0,
          1614.0,
          1807.0,
          2000.0,
          2193.0,
          2386.0,
          2579.0,
          2772.0,
          2965.0,
          3158.0,
          3351.0,
          3544.0,
          3737.0,
          3930.0
         ],
         "y": [
          290.0,
          290.0,
          290.0,
          290.0,
          290.0,
          290.0,
          290.0,
          290.0,
          290.0,
          290.0,
          290.0,
          290.0,
          290.0,
          290.0,
          290.0,
          290.0,
          290.0,
          290.0,
          290.0,
          290.0,
          290.0
         ],
         "type": "scatter",
         "xaxis": "x",
         "yaxis": "y"
        },
        {
         "legendgroup": "3",
         "marker": {
          "size": 4
         },
         "mode": "markers",
         "name": "D12.0 @ 200.0 mm",
         "x": [
          785.0,
          785.0,
          785.0,
          785.0,
          785.0,
          785.0,
          785.0,
          785.0,
          785.0,
          785.0,
          785.0,
          785.0,
          785.0,
          785.0,
          785.0,
          785.0,
          785.0,
          785.0,
          785.0,
          785.0,
          785.0,
          785.0,
          785.0,
          785.0,
          785.0,
          785.0,
          785.0,
          785.0
         ],
         "y": [
          612.0,
          787.5925925925926,
          963.1851851851852,
          1138.7777777777778,
          1314.3703703703704,
          1489.962962962963,
          1665.5555555555554,
          1841.148148148148,
          2016.7407407407406,
          2192.333333333333,
          2367.925925925926,
          2543.5185185185182,
          2719.111111111111,
          2894.7037037037035,
          3070.296296296296,
          3245.8888888888887,
          3421.4814814814813,
          3597.074074074074,
          3772.6666666666665,
          3948.259259259259,
          4123.851851851852,
          4299.444444444444,
          4475.0370370370365,
          4650.62962962963,
          4826.222222222222,
          5001.814814814815,
          5177.407407407407,
          5353.0
         ],
         "type": "scatter",
         "xaxis": "x",
         "yaxis": "y"
        },
        {
         "legendgroup": "3",
         "marker": {
          "size": 4
         },
         "mode": "markers",
         "name": "D12.0 @ 200.0 mm",
         "x": [
          1015.0,
          1015.0,
          1015.0,
          1015.0,
          1015.0,
          1015.0,
          1015.0,
          1015.0,
          1015.0,
          1015.0,
          1015.0,
          1015.0,
          1015.0,
          1015.0,
          1015.0,
          1015.0,
          1015.0,
          1015.0,
          1015.0,
          1015.0,
          1015.0,
          1015.0,
          1015.0,
          1015.0,
          1015.0,
          1015.0,
          1015.0,
          1015.0
         ],
         "y": [
          620.0,
          795.0,
          970.0,
          1145.0,
          1320.0,
          1495.0,
          1670.0,
          1845.0,
          2020.0,
          2195.0,
          2370.0,
          2545.0,
          2720.0,
          2895.0,
          3070.0,
          3245.0,
          3420.0,
          3595.0,
          3770.0,
          3945.0,
          4120.0,
          4295.0,
          4470.0,
          4645.0,
          4820.0,
          4995.0,
          5170.0,
          5345.0
         ],
         "type": "scatter",
         "xaxis": "x",
         "yaxis": "y"
        },
        {
         "legendgroup": "4",
         "marker": {
          "size": 4
         },
         "mode": "lines",
         "name": "D20.0 @ 200.0 mm",
         "x": [
          515.0,
          835.0,
          835.0
         ],
         "y": [
          156.0,
          156.0,
          1200.0
         ],
         "type": "scatter",
         "xaxis": "x",
         "yaxis": "y"
        },
        {
         "legendgroup": "4",
         "marker": {
          "size": 4
         },
         "mode": "lines",
         "name": "D20.0 @ 200.0 mm",
         "x": [
          1285.0,
          965.0,
          965.0
         ],
         "y": [
          156.0,
          156.0,
          1200.0
         ],
         "type": "scatter",
         "xaxis": "x",
         "yaxis": "y"
        }
       ],
       "layout": {
        "template": {
         "data": {
          "histogram2dcontour": [
           {
            "type": "histogram2dcontour",
            "colorbar": {
             "outlinewidth": 0,
             "ticks": ""
            },
            "colorscale": [
             [
              0.0,
              "#0d0887"
             ],
             [
              0.1111111111111111,
              "#46039f"
             ],
             [
              0.2222222222222222,
              "#7201a8"
             ],
             [
              0.3333333333333333,
              "#9c179e"
             ],
             [
              0.4444444444444444,
              "#bd3786"
             ],
             [
              0.5555555555555556,
              "#d8576b"
             ],
             [
              0.6666666666666666,
              "#ed7953"
             ],
             [
              0.7777777777777778,
              "#fb9f3a"
             ],
             [
              0.8888888888888888,
              "#fdca26"
             ],
             [
              1.0,
              "#f0f921"
             ]
            ]
           }
          ],
          "choropleth": [
           {
            "type": "choropleth",
            "colorbar": {
             "outlinewidth": 0,
             "ticks": ""
            }
           }
          ],
          "histogram2d": [
           {
            "type": "histogram2d",
            "colorbar": {
             "outlinewidth": 0,
             "ticks": ""
            },
            "colorscale": [
             [
              0.0,
              "#0d0887"
             ],
             [
              0.1111111111111111,
              "#46039f"
             ],
             [
              0.2222222222222222,
              "#7201a8"
             ],
             [
              0.3333333333333333,
              "#9c179e"
             ],
             [
              0.4444444444444444,
              "#bd3786"
             ],
             [
              0.5555555555555556,
              "#d8576b"
             ],
             [
              0.6666666666666666,
              "#ed7953"
             ],
             [
              0.7777777777777778,
              "#fb9f3a"
             ],
             [
              0.8888888888888888,
              "#fdca26"
             ],
             [
              1.0,
              "#f0f921"
             ]
            ]
           }
          ],
          "heatmap": [
           {
            "type": "heatmap",
            "colorbar": {
             "outlinewidth": 0,
             "ticks": ""
            },
            "colorscale": [
             [
              0.0,
              "#0d0887"
             ],
             [
              0.1111111111111111,
              "#46039f"
             ],
             [
              0.2222222222222222,
              "#7201a8"
             ],
             [
              0.3333333333333333,
              "#9c179e"
             ],
             [
              0.4444444444444444,
              "#bd3786"
             ],
             [
              0.5555555555555556,
              "#d8576b"
             ],
             [
              0.6666666666666666,
              "#ed7953"
             ],
             [
              0.7777777777777778,
              "#fb9f3a"
             ],
             [
              0.8888888888888888,
              "#fdca26"
             ],
             [
              1.0,
              "#f0f921"
             ]
            ]
           }
          ],
          "heatmapgl": [
           {
            "type": "heatmapgl",
            "colorbar": {
             "outlinewidth": 0,
             "ticks": ""
            },
            "colorscale": [
             [
              0.0,
              "#0d0887"
             ],
             [
              0.1111111111111111,
              "#46039f"
             ],
             [
              0.2222222222222222,
              "#7201a8"
             ],
             [
              0.3333333333333333,
              "#9c179e"
             ],
             [
              0.4444444444444444,
              "#bd3786"
             ],
             [
              0.5555555555555556,
              "#d8576b"
             ],
             [
              0.6666666666666666,
              "#ed7953"
             ],
             [
              0.7777777777777778,
              "#fb9f3a"
             ],
             [
              0.8888888888888888,
              "#fdca26"
             ],
             [
              1.0,
              "#f0f921"
             ]
            ]
           }
          ],
          "contourcarpet": [
           {
            "type": "contourcarpet",
            "colorbar": {
             "outlinewidth": 0,
             "ticks": ""
            }
           }
          ],
          "contour": [
           {
            "type": "contour",
            "colorbar": {
             "outlinewidth": 0,
             "ticks": ""
            },
            "colorscale": [
             [
              0.0,
              "#0d0887"
             ],
             [
              0.1111111111111111,
              "#46039f"
             ],
             [
              0.2222222222222222,
              "#7201a8"
             ],
             [
              0.3333333333333333,
              "#9c179e"
             ],
             [
              0.4444444444444444,
              "#bd3786"
             ],
             [
              0.5555555555555556,
              "#d8576b"
             ],
             [
              0.6666666666666666,
              "#ed7953"
             ],
             [
              0.7777777777777778,
              "#fb9f3a"
             ],
             [
              0.8888888888888888,
              "#fdca26"
             ],
             [
              1.0,
              "#f0f921"
             ]
            ]
           }
          ],
          "surface": [
           {
            "type": "surface",
            "colorbar": {
             "outlinewidth": 0,
             "ticks": ""
            },
            "colorscale": [
             [
              0.0,
              "#0d0887"
             ],
             [
              0.1111111111111111,
              "#46039f"
             ],
             [
              0.2222222222222222,
              "#7201a8"
             ],
             [
              0.3333333333333333,
              "#9c179e"
             ],
             [
              0.4444444444444444,
              "#bd3786"
             ],
             [
              0.5555555555555556,
              "#d8576b"
             ],
             [
              0.6666666666666666,
              "#ed7953"
             ],
             [
              0.7777777777777778,
              "#fb9f3a"
             ],
             [
              0.8888888888888888,
              "#fdca26"
             ],
             [
              1.0,
              "#f0f921"
             ]
            ]
           }
          ],
          "mesh3d": [
           {
            "type": "mesh3d",
            "colorbar": {
             "outlinewidth": 0,
             "ticks": ""
            }
           }
          ],
          "scatter": [
           {
            "fillpattern": {
             "fillmode": "overlay",
             "size": 10,
             "solidity": 0.2
            },
            "type": "scatter"
           }
          ],
          "parcoords": [
           {
            "type": "parcoords",
            "line": {
             "colorbar": {
              "outlinewidth": 0,
              "ticks": ""
             }
            }
           }
          ],
          "scatterpolargl": [
           {
            "type": "scatterpolargl",
            "marker": {
             "colorbar": {
              "outlinewidth": 0,
              "ticks": ""
             }
            }
           }
          ],
          "bar": [
           {
            "error_x": {
             "color": "#2a3f5f"
            },
            "error_y": {
             "color": "#2a3f5f"
            },
            "marker": {
             "line": {
              "color": "#E5ECF6",
              "width": 0.5
             },
             "pattern": {
              "fillmode": "overlay",
              "size": 10,
              "solidity": 0.2
             }
            },
            "type": "bar"
           }
          ],
          "scattergeo": [
           {
            "type": "scattergeo",
            "marker": {
             "colorbar": {
              "outlinewidth": 0,
              "ticks": ""
             }
            }
           }
          ],
          "scatterpolar": [
           {
            "type": "scatterpolar",
            "marker": {
             "colorbar": {
              "outlinewidth": 0,
              "ticks": ""
             }
            }
           }
          ],
          "histogram": [
           {
            "marker": {
             "pattern": {
              "fillmode": "overlay",
              "size": 10,
              "solidity": 0.2
             }
            },
            "type": "histogram"
           }
          ],
          "scattergl": [
           {
            "type": "scattergl",
            "marker": {
             "colorbar": {
              "outlinewidth": 0,
              "ticks": ""
             }
            }
           }
          ],
          "scatter3d": [
           {
            "type": "scatter3d",
            "line": {
             "colorbar": {
              "outlinewidth": 0,
              "ticks": ""
             }
            },
            "marker": {
             "colorbar": {
              "outlinewidth": 0,
              "ticks": ""
             }
            }
           }
          ],
          "scattermapbox": [
           {
            "type": "scattermapbox",
            "marker": {
             "colorbar": {
              "outlinewidth": 0,
              "ticks": ""
             }
            }
           }
          ],
          "scatterternary": [
           {
            "type": "scatterternary",
            "marker": {
             "colorbar": {
              "outlinewidth": 0,
              "ticks": ""
             }
            }
           }
          ],
          "scattercarpet": [
           {
            "type": "scattercarpet",
            "marker": {
             "colorbar": {
              "outlinewidth": 0,
              "ticks": ""
             }
            }
           }
          ],
          "carpet": [
           {
            "aaxis": {
             "endlinecolor": "#2a3f5f",
             "gridcolor": "white",
             "linecolor": "white",
             "minorgridcolor": "white",
             "startlinecolor": "#2a3f5f"
            },
            "baxis": {
             "endlinecolor": "#2a3f5f",
             "gridcolor": "white",
             "linecolor": "white",
             "minorgridcolor": "white",
             "startlinecolor": "#2a3f5f"
            },
            "type": "carpet"
           }
          ],
          "table": [
           {
            "cells": {
             "fill": {
              "color": "#EBF0F8"
             },
             "line": {
              "color": "white"
             }
            },
            "header": {
             "fill": {
              "color": "#C8D4E3"
             },
             "line": {
              "color": "white"
             }
            },
            "type": "table"
           }
          ],
          "barpolar": [
           {
            "marker": {
             "line": {
              "color": "#E5ECF6",
              "width": 0.5
             },
             "pattern": {
              "fillmode": "overlay",
              "size": 10,
              "solidity": 0.2
             }
            },
            "type": "barpolar"
           }
          ],
          "pie": [
           {
            "automargin": true,
            "type": "pie"
           }
          ]
         },
         "layout": {
          "autotypenumbers": "strict",
          "colorway": [
           "#636efa",
           "#EF553B",
           "#00cc96",
           "#ab63fa",
           "#FFA15A",
           "#19d3f3",
           "#FF6692",
           "#B6E880",
           "#FF97FF",
           "#FECB52"
          ],
          "font": {
           "color": "#2a3f5f"
          },
          "hovermode": "closest",
          "hoverlabel": {
           "align": "left"
          },
          "paper_bgcolor": "white",
          "plot_bgcolor": "#E5ECF6",
          "polar": {
           "bgcolor": "#E5ECF6",
           "angularaxis": {
            "gridcolor": "white",
            "linecolor": "white",
            "ticks": ""
           },
           "radialaxis": {
            "gridcolor": "white",
            "linecolor": "white",
            "ticks": ""
           }
          },
          "ternary": {
           "bgcolor": "#E5ECF6",
           "aaxis": {
            "gridcolor": "white",
            "linecolor": "white",
            "ticks": ""
           },
           "baxis": {
            "gridcolor": "white",
            "linecolor": "white",
            "ticks": ""
           },
           "caxis": {
            "gridcolor": "white",
            "linecolor": "white",
            "ticks": ""
           }
          },
          "coloraxis": {
           "colorbar": {
            "outlinewidth": 0,
            "ticks": ""
           }
          },
          "colorscale": {
           "sequential": [
            [
             0.0,
             "#0d0887"
            ],
            [
             0.1111111111111111,
             "#46039f"
            ],
            [
             0.2222222222222222,
             "#7201a8"
            ],
            [
             0.3333333333333333,
             "#9c179e"
            ],
            [
             0.4444444444444444,
             "#bd3786"
            ],
            [
             0.5555555555555556,
             "#d8576b"
            ],
            [
             0.6666666666666666,
             "#ed7953"
            ],
            [
             0.7777777777777778,
             "#fb9f3a"
            ],
            [
             0.8888888888888888,
             "#fdca26"
            ],
            [
             1.0,
             "#f0f921"
            ]
           ],
           "sequentialminus": [
            [
             0.0,
             "#0d0887"
            ],
            [
             0.1111111111111111,
             "#46039f"
            ],
            [
             0.2222222222222222,
             "#7201a8"
            ],
            [
             0.3333333333333333,
             "#9c179e"
            ],
            [
             0.4444444444444444,
             "#bd3786"
            ],
            [
             0.5555555555555556,
             "#d8576b"
            ],
            [
             0.6666666666666666,
             "#ed7953"
            ],
            [
             0.7777777777777778,
             "#fb9f3a"
            ],
            [
             0.8888888888888888,
             "#fdca26"
            ],
            [
             1.0,
             "#f0f921"
            ]
           ],
           "diverging": [
            [
             0,
             "#8e0152"
            ],
            [
             0.1,
             "#c51b7d"
            ],
            [
             0.2,
             "#de77ae"
            ],
            [
             0.3,
             "#f1b6da"
            ],
            [
             0.4,
             "#fde0ef"
            ],
            [
             0.5,
             "#f7f7f7"
            ],
            [
             0.6,
             "#e6f5d0"
            ],
            [
             0.7,
             "#b8e186"
            ],
            [
             0.8,
             "#7fbc41"
            ],
            [
             0.9,
             "#4d9221"
            ],
            [
             1,
             "#276419"
            ]
           ]
          },
          "xaxis": {
           "gridcolor": "white",
           "linecolor": "white",
           "ticks": "",
           "title": {
            "standoff": 15
           },
           "zerolinecolor": "white",
           "automargin": true,
           "zerolinewidth": 2
          },
          "yaxis": {
           "gridcolor": "white",
           "linecolor": "white",
           "ticks": "",
           "title": {
            "standoff": 15
           },
           "zerolinecolor": "white",
           "automargin": true,
           "zerolinewidth": 2
          },
          "scene": {
           "xaxis": {
            "backgroundcolor": "#E5ECF6",
            "gridcolor": "white",
            "linecolor": "white",
            "showbackground": true,
            "ticks": "",
            "zerolinecolor": "white",
            "gridwidth": 2
           },
           "yaxis": {
            "backgroundcolor": "#E5ECF6",
            "gridcolor": "white",
            "linecolor": "white",
            "showbackground": true,
            "ticks": "",
            "zerolinecolor": "white",
            "gridwidth": 2
           },
           "zaxis": {
            "backgroundcolor": "#E5ECF6",
            "gridcolor": "white",
            "linecolor": "white",
            "showbackground": true,
            "ticks": "",
            "zerolinecolor": "white",
            "gridwidth": 2
           }
          },
          "shapedefaults": {
           "line": {
            "color": "#2a3f5f"
           }
          },
          "annotationdefaults": {
           "arrowcolor": "#2a3f5f",
           "arrowhead": 0,
           "arrowwidth": 1
          },
          "geo": {
           "bgcolor": "white",
           "landcolor": "#E5ECF6",
           "subunitcolor": "white",
           "showland": true,
           "showlakes": true,
           "lakecolor": "white"
          },
          "title": {
           "x": 0.05
          },
          "mapbox": {
           "style": "light"
          }
         }
        },
        "xaxis": {
         "anchor": "y",
         "domain": [
          0.0,
          1.0
         ],
         "title": {
          "text": "x (mm)"
         },
         "side": "bottom",
         "range": [
          -100,
          5500.0
         ],
         "tickmode": "linear",
         "tick0": 0,
         "dtick": 1000,
         "linecolor": "black",
         "gridcolor": "white"
        },
        "yaxis": {
         "anchor": "x",
         "domain": [
          0.0,
          1.0
         ],
         "title": {
          "text": "y (mm)"
         },
         "range": [
          -100,
          5500.0
         ],
         "tickmode": "linear",
         "tick0": 0,
         "dtick": 1000,
         "linecolor": "black",
         "gridcolor": "white"
        },
        "shapes": [
         {
          "line": {
           "color": "green",
           "width": 1
          },
          "type": "line",
          "x0": -100,
          "x1": 700.0,
          "xref": "x",
          "y0": 1000,
          "y1": 1000,
          "yref": "y"
         },
         {
          "line": {
           "color": "green",
           "width": 1
          },
          "type": "line",
          "x0": 1100.0,
          "x1": 5500.0,
          "xref": "x",
          "y0": 5400.0,
          "y1": 5400.0,
          "yref": "y"
         },
         {
          "line": {
           "color": "RoyalBlue",
           "width": 0.2
          },
          "type": "rect",
          "x0": 0,
          "x1": 4000.0,
          "xref": "x",
          "y0": 0,
          "y1": 400.0,
          "yref": "y"
         },
         {
          "line": {
           "color": "RoyalBlue",
           "width": 0.2
          },
          "type": "rect",
          "x0": 1100.0,
          "x1": 700.0,
          "xref": "x",
          "y0": 400.0,
          "y1": 5400.0,
          "yref": "y"
         }
        ],
        "title": {
         "text": ""
        },
        "legend": {
         "tracegroupgap": 20
        },
        "width": 1000,
        "height": 900,
        "plot_bgcolor": "rgb(245,245,240)",
        "bargap": 0,
        "bargroupgap": 0
       },
       "config": {
        "plotlyServerURL": "https://plot.ly"
       }
      },
      "text/html": "<div>                            <div id=\"f1d35a96-c7f4-4b67-8d19-c92a9be15c1f\" class=\"plotly-graph-div\" style=\"height:900px; width:1000px;\"></div>            <script type=\"text/javascript\">                require([\"plotly\"], function(Plotly) {                    window.PLOTLYENV=window.PLOTLYENV || {};                                    if (document.getElementById(\"f1d35a96-c7f4-4b67-8d19-c92a9be15c1f\")) {                    Plotly.newPlot(                        \"f1d35a96-c7f4-4b67-8d19-c92a9be15c1f\",                        [{\"legendgroup\":\"2\",\"mode\":\"lines\",\"name\":\"D20.0 @ 200.0 mm\",\"x\":[735.0,735.0,935.0],\"y\":[450.0,5365.0,5365.0],\"type\":\"scatter\",\"xaxis\":\"x\",\"yaxis\":\"y\"},{\"legendgroup\":\"2\",\"mode\":\"lines\",\"name\":\"D12.0 @ 200.0 mm\",\"x\":[1065.0,1065.0,865.0],\"y\":[450.0,5365.0,5365.0],\"type\":\"scatter\",\"xaxis\":\"x\",\"yaxis\":\"y\"},{\"legendgroup\":\"2\",\"mode\":\"lines\",\"name\":\"D20.0 @ 200.0 mm\",\"x\":[50.0,50.0,3950.0,3950.0],\"y\":[140.0,340.0,340.0,140.0],\"type\":\"scatter\",\"xaxis\":\"x\",\"yaxis\":\"y\"},{\"legendgroup\":\"2\",\"mode\":\"lines\",\"name\":\"D12.0 @ 200.0 mm\",\"x\":[50.0,50.0,3950.0,3950.0],\"y\":[256.0,56.0,56.0,256.0],\"type\":\"scatter\",\"xaxis\":\"x\",\"yaxis\":\"y\"},{\"legendgroup\":\"3\",\"marker\":{\"size\":4},\"mode\":\"markers\",\"name\":\"D12.0 @ 200.0 mm\",\"x\":[62.0,255.8,449.6,643.4000000000001,837.2,1031.0,1224.8000000000002,1418.6000000000001,1612.4,1806.2,2000.0,2193.8,2387.6000000000004,2581.4,2775.2000000000003,2969.0,3162.8,3356.6000000000004,3550.4,3744.2000000000003,3938.0],\"y\":[106.0,106.0,106.0,106.0,106.0,106.0,106.0,106.0,106.0,106.0,106.0,106.0,106.0,106.0,106.0,106.0,106.0,106.0,106.0,106.0,106.0],\"type\":\"scatter\",\"xaxis\":\"x\",\"yaxis\":\"y\"},{\"legendgroup\":\"3\",\"marker\":{\"size\":4},\"mode\":\"markers\",\"name\":\"D20.0 @ 200.0 mm\",\"x\":[70.0,263.0,456.0,649.0,842.0,1035.0,1228.0,1421.0,1614.0,1807.0,2000.0,2193.0,2386.0,2579.0,2772.0,2965.0,3158.0,3351.0,3544.0,3737.0,3930.0],\"y\":[290.0,290.0,290.0,290.0,290.0,290.0,290.0,290.0,290.0,290.0,290.0,290.0,290.0,290.0,290.0,290.0,290.0,290.0,290.0,290.0,290.0],\"type\":\"scatter\",\"xaxis\":\"x\",\"yaxis\":\"y\"},{\"legendgroup\":\"3\",\"marker\":{\"size\":4},\"mode\":\"markers\",\"name\":\"D12.0 @ 200.0 mm\",\"x\":[785.0,785.0,785.0,785.0,785.0,785.0,785.0,785.0,785.0,785.0,785.0,785.0,785.0,785.0,785.0,785.0,785.0,785.0,785.0,785.0,785.0,785.0,785.0,785.0,785.0,785.0,785.0,785.0],\"y\":[612.0,787.5925925925926,963.1851851851852,1138.7777777777778,1314.3703703703704,1489.962962962963,1665.5555555555554,1841.148148148148,2016.7407407407406,2192.333333333333,2367.925925925926,2543.5185185185182,2719.111111111111,2894.7037037037035,3070.296296296296,3245.8888888888887,3421.4814814814813,3597.074074074074,3772.6666666666665,3948.259259259259,4123.851851851852,4299.444444444444,4475.0370370370365,4650.62962962963,4826.222222222222,5001.814814814815,5177.407407407407,5353.0],\"type\":\"scatter\",\"xaxis\":\"x\",\"yaxis\":\"y\"},{\"legendgroup\":\"3\",\"marker\":{\"size\":4},\"mode\":\"markers\",\"name\":\"D12.0 @ 200.0 mm\",\"x\":[1015.0,1015.0,1015.0,1015.0,1015.0,1015.0,1015.0,1015.0,1015.0,1015.0,1015.0,1015.0,1015.0,1015.0,1015.0,1015.0,1015.0,1015.0,1015.0,1015.0,1015.0,1015.0,1015.0,1015.0,1015.0,1015.0,1015.0,1015.0],\"y\":[620.0,795.0,970.0,1145.0,1320.0,1495.0,1670.0,1845.0,2020.0,2195.0,2370.0,2545.0,2720.0,2895.0,3070.0,3245.0,3420.0,3595.0,3770.0,3945.0,4120.0,4295.0,4470.0,4645.0,4820.0,4995.0,5170.0,5345.0],\"type\":\"scatter\",\"xaxis\":\"x\",\"yaxis\":\"y\"},{\"legendgroup\":\"4\",\"marker\":{\"size\":4},\"mode\":\"lines\",\"name\":\"D20.0 @ 200.0 mm\",\"x\":[515.0,835.0,835.0],\"y\":[156.0,156.0,1200.0],\"type\":\"scatter\",\"xaxis\":\"x\",\"yaxis\":\"y\"},{\"legendgroup\":\"4\",\"marker\":{\"size\":4},\"mode\":\"lines\",\"name\":\"D20.0 @ 200.0 mm\",\"x\":[1285.0,965.0,965.0],\"y\":[156.0,156.0,1200.0],\"type\":\"scatter\",\"xaxis\":\"x\",\"yaxis\":\"y\"}],                        {\"template\":{\"data\":{\"histogram2dcontour\":[{\"type\":\"histogram2dcontour\",\"colorbar\":{\"outlinewidth\":0,\"ticks\":\"\"},\"colorscale\":[[0.0,\"#0d0887\"],[0.1111111111111111,\"#46039f\"],[0.2222222222222222,\"#7201a8\"],[0.3333333333333333,\"#9c179e\"],[0.4444444444444444,\"#bd3786\"],[0.5555555555555556,\"#d8576b\"],[0.6666666666666666,\"#ed7953\"],[0.7777777777777778,\"#fb9f3a\"],[0.8888888888888888,\"#fdca26\"],[1.0,\"#f0f921\"]]}],\"choropleth\":[{\"type\":\"choropleth\",\"colorbar\":{\"outlinewidth\":0,\"ticks\":\"\"}}],\"histogram2d\":[{\"type\":\"histogram2d\",\"colorbar\":{\"outlinewidth\":0,\"ticks\":\"\"},\"colorscale\":[[0.0,\"#0d0887\"],[0.1111111111111111,\"#46039f\"],[0.2222222222222222,\"#7201a8\"],[0.3333333333333333,\"#9c179e\"],[0.4444444444444444,\"#bd3786\"],[0.5555555555555556,\"#d8576b\"],[0.6666666666666666,\"#ed7953\"],[0.7777777777777778,\"#fb9f3a\"],[0.8888888888888888,\"#fdca26\"],[1.0,\"#f0f921\"]]}],\"heatmap\":[{\"type\":\"heatmap\",\"colorbar\":{\"outlinewidth\":0,\"ticks\":\"\"},\"colorscale\":[[0.0,\"#0d0887\"],[0.1111111111111111,\"#46039f\"],[0.2222222222222222,\"#7201a8\"],[0.3333333333333333,\"#9c179e\"],[0.4444444444444444,\"#bd3786\"],[0.5555555555555556,\"#d8576b\"],[0.6666666666666666,\"#ed7953\"],[0.7777777777777778,\"#fb9f3a\"],[0.8888888888888888,\"#fdca26\"],[1.0,\"#f0f921\"]]}],\"heatmapgl\":[{\"type\":\"heatmapgl\",\"colorbar\":{\"outlinewidth\":0,\"ticks\":\"\"},\"colorscale\":[[0.0,\"#0d0887\"],[0.1111111111111111,\"#46039f\"],[0.2222222222222222,\"#7201a8\"],[0.3333333333333333,\"#9c179e\"],[0.4444444444444444,\"#bd3786\"],[0.5555555555555556,\"#d8576b\"],[0.6666666666666666,\"#ed7953\"],[0.7777777777777778,\"#fb9f3a\"],[0.8888888888888888,\"#fdca26\"],[1.0,\"#f0f921\"]]}],\"contourcarpet\":[{\"type\":\"contourcarpet\",\"colorbar\":{\"outlinewidth\":0,\"ticks\":\"\"}}],\"contour\":[{\"type\":\"contour\",\"colorbar\":{\"outlinewidth\":0,\"ticks\":\"\"},\"colorscale\":[[0.0,\"#0d0887\"],[0.1111111111111111,\"#46039f\"],[0.2222222222222222,\"#7201a8\"],[0.3333333333333333,\"#9c179e\"],[0.4444444444444444,\"#bd3786\"],[0.5555555555555556,\"#d8576b\"],[0.6666666666666666,\"#ed7953\"],[0.7777777777777778,\"#fb9f3a\"],[0.8888888888888888,\"#fdca26\"],[1.0,\"#f0f921\"]]}],\"surface\":[{\"type\":\"surface\",\"colorbar\":{\"outlinewidth\":0,\"ticks\":\"\"},\"colorscale\":[[0.0,\"#0d0887\"],[0.1111111111111111,\"#46039f\"],[0.2222222222222222,\"#7201a8\"],[0.3333333333333333,\"#9c179e\"],[0.4444444444444444,\"#bd3786\"],[0.5555555555555556,\"#d8576b\"],[0.6666666666666666,\"#ed7953\"],[0.7777777777777778,\"#fb9f3a\"],[0.8888888888888888,\"#fdca26\"],[1.0,\"#f0f921\"]]}],\"mesh3d\":[{\"type\":\"mesh3d\",\"colorbar\":{\"outlinewidth\":0,\"ticks\":\"\"}}],\"scatter\":[{\"fillpattern\":{\"fillmode\":\"overlay\",\"size\":10,\"solidity\":0.2},\"type\":\"scatter\"}],\"parcoords\":[{\"type\":\"parcoords\",\"line\":{\"colorbar\":{\"outlinewidth\":0,\"ticks\":\"\"}}}],\"scatterpolargl\":[{\"type\":\"scatterpolargl\",\"marker\":{\"colorbar\":{\"outlinewidth\":0,\"ticks\":\"\"}}}],\"bar\":[{\"error_x\":{\"color\":\"#2a3f5f\"},\"error_y\":{\"color\":\"#2a3f5f\"},\"marker\":{\"line\":{\"color\":\"#E5ECF6\",\"width\":0.5},\"pattern\":{\"fillmode\":\"overlay\",\"size\":10,\"solidity\":0.2}},\"type\":\"bar\"}],\"scattergeo\":[{\"type\":\"scattergeo\",\"marker\":{\"colorbar\":{\"outlinewidth\":0,\"ticks\":\"\"}}}],\"scatterpolar\":[{\"type\":\"scatterpolar\",\"marker\":{\"colorbar\":{\"outlinewidth\":0,\"ticks\":\"\"}}}],\"histogram\":[{\"marker\":{\"pattern\":{\"fillmode\":\"overlay\",\"size\":10,\"solidity\":0.2}},\"type\":\"histogram\"}],\"scattergl\":[{\"type\":\"scattergl\",\"marker\":{\"colorbar\":{\"outlinewidth\":0,\"ticks\":\"\"}}}],\"scatter3d\":[{\"type\":\"scatter3d\",\"line\":{\"colorbar\":{\"outlinewidth\":0,\"ticks\":\"\"}},\"marker\":{\"colorbar\":{\"outlinewidth\":0,\"ticks\":\"\"}}}],\"scattermapbox\":[{\"type\":\"scattermapbox\",\"marker\":{\"colorbar\":{\"outlinewidth\":0,\"ticks\":\"\"}}}],\"scatterternary\":[{\"type\":\"scatterternary\",\"marker\":{\"colorbar\":{\"outlinewidth\":0,\"ticks\":\"\"}}}],\"scattercarpet\":[{\"type\":\"scattercarpet\",\"marker\":{\"colorbar\":{\"outlinewidth\":0,\"ticks\":\"\"}}}],\"carpet\":[{\"aaxis\":{\"endlinecolor\":\"#2a3f5f\",\"gridcolor\":\"white\",\"linecolor\":\"white\",\"minorgridcolor\":\"white\",\"startlinecolor\":\"#2a3f5f\"},\"baxis\":{\"endlinecolor\":\"#2a3f5f\",\"gridcolor\":\"white\",\"linecolor\":\"white\",\"minorgridcolor\":\"white\",\"startlinecolor\":\"#2a3f5f\"},\"type\":\"carpet\"}],\"table\":[{\"cells\":{\"fill\":{\"color\":\"#EBF0F8\"},\"line\":{\"color\":\"white\"}},\"header\":{\"fill\":{\"color\":\"#C8D4E3\"},\"line\":{\"color\":\"white\"}},\"type\":\"table\"}],\"barpolar\":[{\"marker\":{\"line\":{\"color\":\"#E5ECF6\",\"width\":0.5},\"pattern\":{\"fillmode\":\"overlay\",\"size\":10,\"solidity\":0.2}},\"type\":\"barpolar\"}],\"pie\":[{\"automargin\":true,\"type\":\"pie\"}]},\"layout\":{\"autotypenumbers\":\"strict\",\"colorway\":[\"#636efa\",\"#EF553B\",\"#00cc96\",\"#ab63fa\",\"#FFA15A\",\"#19d3f3\",\"#FF6692\",\"#B6E880\",\"#FF97FF\",\"#FECB52\"],\"font\":{\"color\":\"#2a3f5f\"},\"hovermode\":\"closest\",\"hoverlabel\":{\"align\":\"left\"},\"paper_bgcolor\":\"white\",\"plot_bgcolor\":\"#E5ECF6\",\"polar\":{\"bgcolor\":\"#E5ECF6\",\"angularaxis\":{\"gridcolor\":\"white\",\"linecolor\":\"white\",\"ticks\":\"\"},\"radialaxis\":{\"gridcolor\":\"white\",\"linecolor\":\"white\",\"ticks\":\"\"}},\"ternary\":{\"bgcolor\":\"#E5ECF6\",\"aaxis\":{\"gridcolor\":\"white\",\"linecolor\":\"white\",\"ticks\":\"\"},\"baxis\":{\"gridcolor\":\"white\",\"linecolor\":\"white\",\"ticks\":\"\"},\"caxis\":{\"gridcolor\":\"white\",\"linecolor\":\"white\",\"ticks\":\"\"}},\"coloraxis\":{\"colorbar\":{\"outlinewidth\":0,\"ticks\":\"\"}},\"colorscale\":{\"sequential\":[[0.0,\"#0d0887\"],[0.1111111111111111,\"#46039f\"],[0.2222222222222222,\"#7201a8\"],[0.3333333333333333,\"#9c179e\"],[0.4444444444444444,\"#bd3786\"],[0.5555555555555556,\"#d8576b\"],[0.6666666666666666,\"#ed7953\"],[0.7777777777777778,\"#fb9f3a\"],[0.8888888888888888,\"#fdca26\"],[1.0,\"#f0f921\"]],\"sequentialminus\":[[0.0,\"#0d0887\"],[0.1111111111111111,\"#46039f\"],[0.2222222222222222,\"#7201a8\"],[0.3333333333333333,\"#9c179e\"],[0.4444444444444444,\"#bd3786\"],[0.5555555555555556,\"#d8576b\"],[0.6666666666666666,\"#ed7953\"],[0.7777777777777778,\"#fb9f3a\"],[0.8888888888888888,\"#fdca26\"],[1.0,\"#f0f921\"]],\"diverging\":[[0,\"#8e0152\"],[0.1,\"#c51b7d\"],[0.2,\"#de77ae\"],[0.3,\"#f1b6da\"],[0.4,\"#fde0ef\"],[0.5,\"#f7f7f7\"],[0.6,\"#e6f5d0\"],[0.7,\"#b8e186\"],[0.8,\"#7fbc41\"],[0.9,\"#4d9221\"],[1,\"#276419\"]]},\"xaxis\":{\"gridcolor\":\"white\",\"linecolor\":\"white\",\"ticks\":\"\",\"title\":{\"standoff\":15},\"zerolinecolor\":\"white\",\"automargin\":true,\"zerolinewidth\":2},\"yaxis\":{\"gridcolor\":\"white\",\"linecolor\":\"white\",\"ticks\":\"\",\"title\":{\"standoff\":15},\"zerolinecolor\":\"white\",\"automargin\":true,\"zerolinewidth\":2},\"scene\":{\"xaxis\":{\"backgroundcolor\":\"#E5ECF6\",\"gridcolor\":\"white\",\"linecolor\":\"white\",\"showbackground\":true,\"ticks\":\"\",\"zerolinecolor\":\"white\",\"gridwidth\":2},\"yaxis\":{\"backgroundcolor\":\"#E5ECF6\",\"gridcolor\":\"white\",\"linecolor\":\"white\",\"showbackground\":true,\"ticks\":\"\",\"zerolinecolor\":\"white\",\"gridwidth\":2},\"zaxis\":{\"backgroundcolor\":\"#E5ECF6\",\"gridcolor\":\"white\",\"linecolor\":\"white\",\"showbackground\":true,\"ticks\":\"\",\"zerolinecolor\":\"white\",\"gridwidth\":2}},\"shapedefaults\":{\"line\":{\"color\":\"#2a3f5f\"}},\"annotationdefaults\":{\"arrowcolor\":\"#2a3f5f\",\"arrowhead\":0,\"arrowwidth\":1},\"geo\":{\"bgcolor\":\"white\",\"landcolor\":\"#E5ECF6\",\"subunitcolor\":\"white\",\"showland\":true,\"showlakes\":true,\"lakecolor\":\"white\"},\"title\":{\"x\":0.05},\"mapbox\":{\"style\":\"light\"}}},\"xaxis\":{\"anchor\":\"y\",\"domain\":[0.0,1.0],\"title\":{\"text\":\"x (mm)\"},\"side\":\"bottom\",\"range\":[-100,5500.0],\"tickmode\":\"linear\",\"tick0\":0,\"dtick\":1000,\"linecolor\":\"black\",\"gridcolor\":\"white\"},\"yaxis\":{\"anchor\":\"x\",\"domain\":[0.0,1.0],\"title\":{\"text\":\"y (mm)\"},\"range\":[-100,5500.0],\"tickmode\":\"linear\",\"tick0\":0,\"dtick\":1000,\"linecolor\":\"black\",\"gridcolor\":\"white\"},\"shapes\":[{\"line\":{\"color\":\"green\",\"width\":1},\"type\":\"line\",\"x0\":-100,\"x1\":700.0,\"xref\":\"x\",\"y0\":1000,\"y1\":1000,\"yref\":\"y\"},{\"line\":{\"color\":\"green\",\"width\":1},\"type\":\"line\",\"x0\":1100.0,\"x1\":5500.0,\"xref\":\"x\",\"y0\":5400.0,\"y1\":5400.0,\"yref\":\"y\"},{\"line\":{\"color\":\"RoyalBlue\",\"width\":0.2},\"type\":\"rect\",\"x0\":0,\"x1\":4000.0,\"xref\":\"x\",\"y0\":0,\"y1\":400.0,\"yref\":\"y\"},{\"line\":{\"color\":\"RoyalBlue\",\"width\":0.2},\"type\":\"rect\",\"x0\":1100.0,\"x1\":700.0,\"xref\":\"x\",\"y0\":400.0,\"y1\":5400.0,\"yref\":\"y\"}],\"title\":{\"text\":\"\"},\"legend\":{\"tracegroupgap\":20},\"width\":1000,\"height\":900,\"plot_bgcolor\":\"rgb(245,245,240)\",\"bargap\":0,\"bargroupgap\":0},                        {\"responsive\": true}                    ).then(function(){\n                            \nvar gd = document.getElementById('f1d35a96-c7f4-4b67-8d19-c92a9be15c1f');\nvar x = new MutationObserver(function (mutations, observer) {{\n        var display = window.getComputedStyle(gd).display;\n        if (!display || display === 'none') {{\n            console.log([gd, 'removed!']);\n            Plotly.purge(gd);\n            observer.disconnect();\n        }}\n}});\n\n// Listen for the removal of the full notebook cells\nvar notebookContainer = gd.closest('#notebook-container');\nif (notebookContainer) {{\n    x.observe(notebookContainer, {childList: true});\n}}\n\n// Listen for the clearing of the current output cell\nvar outputEl = gd.closest('.output');\nif (outputEl) {{\n    x.observe(outputEl, {childList: true});\n}}\n\n                        })                };                });            </script>        </div>"
     },
     "metadata": {},
     "output_type": "display_data"
    }
   ],
   "source": [
    "from plotly.subplots import make_subplots\n",
    "import plotly.graph_objects as go\n",
    "\n",
    "offset = 100\n",
    "\n",
    "fig = make_subplots(rows=1, cols=1)\n",
    "\n",
    "#Soil surface\n",
    "fig.add_shape(type=\"line\",x0=-offset, y0=H_passive, x1=width_toe, y1=H_passive,line=dict(color=\"green\",width=1), row=1, col=1)\n",
    "fig.add_shape(type=\"line\",x0=width_toe+width_wall, y0=H_total, x1=H_total+offset, y1=H_total,line=dict(color=\"green\",width=1), row=1, col=1)\n",
    "\n",
    "#concrete geometry\n",
    "fig.add_shape(type=\"rect\",\n",
    "    x0=0, y0=0, x1=width_total, y1=H_slab,\n",
    "    line=dict(\n",
    "        color=\"RoyalBlue\",\n",
    "        width=0.2,\n",
    "    ), row=1, col=1\n",
    ")\n",
    "\n",
    "fig.add_shape(type=\"rect\",\n",
    "    x0=width_toe+width_wall, y0=H_slab, x1=width_toe, y1=H_total,\n",
    "    line=dict(\n",
    "        color=\"RoyalBlue\",\n",
    "        width=0.2,\n",
    "    ), row=1, col=1\n",
    ")\n",
    "\n",
    "#pembesian\n",
    "#transversal\n",
    "fig.append_trace(go.Scatter(x=[x_rein_wall_left,x_rein_wall_left,x_rein_wall_left+width_wall/2],\n",
    "                         y=[cover_base+H_slab, y_rein_wall_left, y_rein_wall_left],\n",
    "                         name=f\"{df_recap['annotation'][0]}\", mode='lines', legendgroup = '2'), row=1, col=1)\n",
    "\n",
    "fig.append_trace(go.Scatter(x=[x_rein_wall_right,x_rein_wall_right,x_rein_wall_right-width_wall/2],\n",
    "                         y=[cover_base+H_slab, y_rein_wall_right, y_rein_wall_right],\n",
    "                         name=f\"{df_recap['annotation'][1]}\", mode='lines', legendgroup = '2'), row=1, col=1)\n",
    "\n",
    "fig.append_trace(go.Scatter(x=[cover_base,cover_base,x_rein_slab_bot,x_rein_slab_bot],\n",
    "                         y=[y_rein_slab_top-H_slab/2,y_rein_slab_top,y_rein_slab_top,y_rein_slab_top-H_slab/2],\n",
    "                         name=f\"{df_recap['annotation'][2]}\", mode='lines', legendgroup = '2'), row=1, col=1)\n",
    "\n",
    "fig.append_trace(go.Scatter(x=[cover_base,cover_base,x_rein_slab_bot,x_rein_slab_bot],\n",
    "                         y=[y_rein_slab_bot+H_slab/2, y_rein_slab_bot,y_rein_slab_bot,y_rein_slab_bot+H_slab/2],\n",
    "                         name=f\"{df_recap['annotation'][3]}\", mode='lines', legendgroup = '2'), row=1, col=1)\n",
    "\n",
    "#longitudinal\n",
    "fig.append_trace(go.Scatter(x=dist_slab_bot['x'],\n",
    "                         y=dist_slab_bot['y'],\n",
    "                         name=f\"{df_recap['annotation'][3]}\", mode='markers',marker_size=4, legendgroup = '3'), row=1, col=1)\n",
    "\n",
    "fig.append_trace(go.Scatter(x=dist_slab_top['x'],\n",
    "                         y=dist_slab_top['y'],\n",
    "                         name=f\"{df_recap['annotation'][2]}\", mode='markers',marker_size=4, legendgroup = '3'), row=1, col=1)\n",
    "\n",
    "fig.append_trace(go.Scatter(x=dist_wall_left['x'],\n",
    "                         y=dist_wall_left['y'],\n",
    "                         name=f\"{df_recap['annotation'][1]}\", mode='markers',marker_size=4, legendgroup = '3'), row=1, col=1)\n",
    "\n",
    "fig.append_trace(go.Scatter(x=dist_wall_right['x'],\n",
    "                         y=dist_wall_right['y'],\n",
    "                         name=f\"{df_recap['annotation'][1]}\", mode='markers',marker_size=4, legendgroup = '3'), row=1, col=1)\n",
    "\n",
    "#starter bar\n",
    "fig.append_trace(go.Scatter(x=[x_rein_wall_left+100-bend_length,x_rein_wall_left+100,x_rein_wall_left+100],\n",
    "                         y=[y_rein_slab_bot+100,y_rein_slab_bot+100,H_slab+overlap_length],\n",
    "                         name=starterbar_annotation, mode='lines',marker_size=4, legendgroup = '4'), row=1, col=1)\n",
    "\n",
    "fig.append_trace(go.Scatter(x=[x_rein_wall_right-100+bend_length,x_rein_wall_right-100,x_rein_wall_right-100],\n",
    "                         y=[y_rein_slab_bot+100,y_rein_slab_bot+100,H_slab+overlap_length],\n",
    "                         name=starterbar_annotation, mode='lines',marker_size=4, legendgroup = '4'), row=1, col=1)\n",
    "\n",
    "# Update xaxis properties\n",
    "fig.update_xaxes(title_text=\"x (mm)\", row=1, col=1, side =\"bottom\",range=[-offset,H_total+offset], tickmode = 'linear', tick0 = 0, dtick = 1000 , linecolor='black', gridcolor='white' )\n",
    "\n",
    "# Update yaxis properties\n",
    "fig.update_yaxes(title_text=\"y (mm)\", row=1, col=1, range=[-offset,H_total+offset], tickmode = 'linear', tick0 = 0, dtick = 1000, linecolor='black', gridcolor='white')\n",
    "\n",
    "fig.update_layout(title_text=\"\", width = 1000, height=900, legend_tracegroupgap=20, plot_bgcolor='rgb(245,245,240)', bargap=0,bargroupgap=0)\n",
    "fig.show()"
   ]
  }
 ],
 "metadata": {
  "kernelspec": {
   "display_name": "Python 3 (ipykernel)",
   "language": "python",
   "name": "python3"
  },
  "language_info": {
   "codemirror_mode": {
    "name": "ipython",
    "version": 3
   },
   "file_extension": ".py",
   "mimetype": "text/x-python",
   "name": "python",
   "nbconvert_exporter": "python",
   "pygments_lexer": "ipython3",
   "version": "3.9.16"
  }
 },
 "nbformat": 4,
 "nbformat_minor": 1
}
