{
 "cells": [
  {
   "cell_type": "code",
   "execution_count": 1,
   "metadata": {},
   "outputs": [
    {
     "name": "stdout",
     "output_type": "stream",
     "text": [
      "selamat datang di bab 2\n"
     ]
    }
   ],
   "source": [
    "#tutor1\n",
    "print('selamat datang di bab 2')"
   ]
  },
  {
   "cell_type": "code",
   "execution_count": 2,
   "outputs": [
    {
     "name": "stdout",
     "output_type": "stream",
     "text": [
      "selamat datang di bab 1\n"
     ]
    }
   ],
   "source": [
    "def tulis_ini(kalimat):\n",
    "    return print(kalimat)\n",
    "\n",
    "tulis_ini('selamat datang di bab 1')"
   ],
   "metadata": {
    "collapsed": false
   }
  },
  {
   "cell_type": "code",
   "execution_count": 3,
   "metadata": {},
   "outputs": [
    {
     "name": "stdout",
     "output_type": "stream",
     "text": [
      "<class 'int'> <class 'float'> <class 'str'> <class 'bool'>\n"
     ]
    }
   ],
   "source": [
    "#jenis-jenis data\n",
    "\n",
    "a = 1                   #bilangan bulat = integer (int)\n",
    "b = 4.33                #bilangan pecah = float (float)\n",
    "c = 'saya pasti bisa'   #huruf/kalimat  = string (str)\n",
    "d = True                #True or False = Boolean (bool)\n",
    "\n",
    "print(type(a), type(b), type(c), type(d))"
   ]
  },
  {
   "cell_type": "code",
   "execution_count": 4,
   "metadata": {},
   "outputs": [
    {
     "name": "stdout",
     "output_type": "stream",
     "text": [
      "5.33\n"
     ]
    }
   ],
   "source": [
    "nilai = a + b\n",
    "print(nilai)"
   ]
  },
  {
   "cell_type": "code",
   "execution_count": 5,
   "metadata": {},
   "outputs": [
    {
     "name": "stdout",
     "output_type": "stream",
     "text": [
      "saya pasti bisa 4.33\n"
     ]
    }
   ],
   "source": [
    "#mengkonversi tipe data lin ke string dengan str()\n",
    "print (c + ' ' + str(b))"
   ]
  },
  {
   "cell_type": "code",
   "execution_count": 6,
   "metadata": {},
   "outputs": [],
   "source": [
    "#segala sesuatu didalam list [] disebut dengan element\n",
    "#pelajari lebih lanjut tentang list \"https://developers.google.com/edu/python/lists#for-and-in\"\n",
    "list_belanjaan = ['tempe', 'tahu', 'beras']\n",
    "list_angka = [10 , 20 , 99, 5]"
   ]
  },
  {
   "cell_type": "code",
   "execution_count": 7,
   "metadata": {},
   "outputs": [
    {
     "name": "stdout",
     "output_type": "stream",
     "text": [
      "['tempe', 'tahu', 'beras', 'kecap']\n"
     ]
    }
   ],
   "source": [
    "#menambahkan item ke list\n",
    "\n",
    "list_belanjaan.append('kecap')\n",
    "print(list_belanjaan)"
   ]
  },
  {
   "cell_type": "code",
   "execution_count": 8,
   "metadata": {},
   "outputs": [
    {
     "name": "stdout",
     "output_type": "stream",
     "text": [
      "tempe\n",
      "kecap\n",
      "kecap\n"
     ]
    }
   ],
   "source": [
    "#mengetahui element list pada posisi index tertentu\n",
    "#dari depan dimulai dari 0  , jika dari belakang -1\n",
    "print(list_belanjaan[0])\n",
    "print(list_belanjaan[3])\n",
    "print(list_belanjaan[-1])"
   ]
  },
  {
   "cell_type": "code",
   "execution_count": 9,
   "metadata": {},
   "outputs": [
    {
     "name": "stdout",
     "output_type": "stream",
     "text": [
      "4\n"
     ]
    }
   ],
   "source": [
    "#menghitung jumlah element pada suatu list dengan len()\n",
    "jumlah_total = len(list_belanjaan)\n",
    "print(jumlah_total)"
   ]
  },
  {
   "cell_type": "code",
   "execution_count": 10,
   "metadata": {},
   "outputs": [
    {
     "name": "stdout",
     "output_type": "stream",
     "text": [
      "saya di suruh ibu untuk membeli tempe, tahu, beras, dan kecap di pasar. total belanjaan saya keseluruhan adalah 4 item.\n"
     ]
    }
   ],
   "source": [
    "#sebelum di append ['tempe', 'tahu', 'beras']\n",
    "#setelah di append ['tempe', 'tahu', 'beras', 'kecap']\n",
    "#jika list index out of range terjadi maka perhatikan jumlah list anda\n",
    "\n",
    "kalimat_panjang = f\"saya di suruh ibu untuk membeli {list_belanjaan[0]}, {list_belanjaan[1]}, {list_belanjaan[2]}, dan {list_belanjaan[3]} di pasar. total belanjaan saya keseluruhan adalah {jumlah_total} item.\"\n",
    "\n",
    "print(kalimat_panjang)"
   ]
  },
  {
   "cell_type": "code",
   "execution_count": 11,
   "outputs": [],
   "source": [
    "# assign variables cara1\n",
    "X1 = 5\n",
    "X2 = 10\n",
    "X3 = 6\n",
    "\n",
    "# assign variables cara2 dengan list\n",
    "\n",
    "Y1, Y2, Y3 = [3, 5.1, 6]"
   ],
   "metadata": {
    "collapsed": false
   }
  },
  {
   "cell_type": "markdown",
   "metadata": {},
   "source": [
    "If, else, elif, in, and, or statements"
   ]
  },
  {
   "cell_type": "code",
   "execution_count": 12,
   "metadata": {},
   "outputs": [
    {
     "data": {
      "text/plain": "True"
     },
     "execution_count": 12,
     "metadata": {},
     "output_type": "execute_result"
    }
   ],
   "source": [
    "list_belanjaan = ['tempe', 'tahu', 'beras', 'kecap']\n",
    "\n",
    "barang_ini = 'tempe'\n",
    "\n",
    "#menanyakan apakah tempe ada di list belanjaan\n",
    "barang_ini in list_belanjaan"
   ]
  },
  {
   "cell_type": "code",
   "execution_count": 13,
   "metadata": {},
   "outputs": [
    {
     "name": "stdout",
     "output_type": "stream",
     "text": [
      "bakso tidak ada pada list belanjaan\n"
     ]
    }
   ],
   "source": [
    "barang_ini = 'bakso'\n",
    "\n",
    "if barang_ini in list_belanjaan:\n",
    "    print(f'{barang_ini} ada pada list belanjaan')\n",
    "else:\n",
    "    print(f'{barang_ini} tidak ada pada list belanjaan')"
   ]
  },
  {
   "cell_type": "code",
   "execution_count": 14,
   "metadata": {},
   "outputs": [
    {
     "name": "stdout",
     "output_type": "stream",
     "text": [
      "baik\n"
     ]
    }
   ],
   "source": [
    "#nilai sangat baik  90 - 100\n",
    "#nilai baik         80 - 90\n",
    "#nilai cukup        70 - 80\n",
    "\n",
    "nilai = 82\n",
    "\n",
    "if (nilai>70 and nilai <=80):\n",
    "    print('cukup')\n",
    "elif (nilai>80 and nilai <=90):\n",
    "    print('baik')\n",
    "elif (nilai>90 and nilai <=100):\n",
    "    print('sangat baik')\n",
    "else:\n",
    "    print('nilai kurang dari atau sama dengan 70')\n",
    "\n",
    "#jika anda punya multi kriteria maka  if (kriteria1 and kriteria2 and kriteria3 and dst.)"
   ]
  },
  {
   "cell_type": "code",
   "execution_count": 15,
   "metadata": {},
   "outputs": [
    {
     "name": "stdout",
     "output_type": "stream",
     "text": [
      "maaf, gratisan tidak berlaku\n"
     ]
    }
   ],
   "source": [
    "#jika umur kurang dari 10 tahun atau lebih dari 90 tahun maka anda dapat gratisan\n",
    "\n",
    "umur = 50\n",
    "\n",
    "if (umur < 10 or umur > 90):\n",
    "    print('anda berhak dapat gratisan')\n",
    "else:\n",
    "    print('maaf, gratisan tidak berlaku')"
   ]
  },
  {
   "cell_type": "markdown",
   "metadata": {},
   "source": [
    "Matematika dasar"
   ]
  },
  {
   "cell_type": "code",
   "execution_count": 16,
   "outputs": [],
   "source": [
    "import numpy as np"
   ],
   "metadata": {
    "collapsed": false
   }
  },
  {
   "cell_type": "code",
   "execution_count": 17,
   "metadata": {},
   "outputs": [
    {
     "name": "stdout",
     "output_type": "stream",
     "text": [
      "1963.4954084936207\n"
     ]
    }
   ],
   "source": [
    "#geometry\n",
    "diameter_lingkaran = 50\n",
    "\n",
    "luas_lingkaran = np.pi * (diameter_lingkaran **2) / 4\n",
    "print(luas_lingkaran)"
   ]
  },
  {
   "cell_type": "code",
   "execution_count": 18,
   "metadata": {},
   "outputs": [
    {
     "name": "stdout",
     "output_type": "stream",
     "text": [
      "nilai dari sin(30°) adalah 0.49999999999999994\n",
      "\n",
      "0.49999999999999994 jika dibulatkan menjadi 0.5\n"
     ]
    }
   ],
   "source": [
    "#trigonometri\n",
    "alpha = 30 #derajat\n",
    "sin_alpha = np.sin(np.radians(alpha))\n",
    "\n",
    "#\\n berfungsi untuk memberikan spacing  1 line kebawah\n",
    "print(f'nilai dari sin({alpha}°) adalah {sin_alpha}\\n')\n",
    "print(f'{sin_alpha} jika dibulatkan menjadi {round(sin_alpha,2)}')"
   ]
  },
  {
   "cell_type": "markdown",
   "metadata": {},
   "source": [
    "Matrix"
   ]
  },
  {
   "cell_type": "code",
   "execution_count": 19,
   "metadata": {},
   "outputs": [
    {
     "data": {
      "text/plain": "matrix([[27, 36],\n        [18, 24]])"
     },
     "execution_count": 19,
     "metadata": {},
     "output_type": "execute_result"
    }
   ],
   "source": [
    "#contoh matrix1\n",
    "matrix_A = np.matrix([[3,6],[2,4]])\n",
    "matrix_B = np.matrix([[1,2],[4,5]])\n",
    "\n",
    "matrix_A * matrix_B"
   ]
  },
  {
   "cell_type": "code",
   "execution_count": 20,
   "metadata": {},
   "outputs": [
    {
     "data": {
      "text/plain": "matrix([[140, 146],\n        [320, 335]])"
     },
     "execution_count": 20,
     "metadata": {},
     "output_type": "execute_result"
    }
   ],
   "source": [
    "#contoh matrix2\n",
    "x = np.matrix([[1,2,3],[4,5,6]])\n",
    "y = np.matrix([[10,11],[20,21],[30,31]])\n",
    "\n",
    "x*y"
   ]
  },
  {
   "cell_type": "markdown",
   "metadata": {},
   "source": [
    "PYTHON LOOP \"in range\""
   ]
  },
  {
   "cell_type": "code",
   "execution_count": 21,
   "metadata": {},
   "outputs": [
    {
     "name": "stdout",
     "output_type": "stream",
     "text": [
      "4\n",
      "7\n",
      "10\n",
      "13\n",
      "16\n",
      "19\n",
      "22\n"
     ]
    }
   ],
   "source": [
    "#melakukan loop 7x\n",
    "#menambahkan variable i dengan angka 3 sebanyak 7x\n",
    "i = 1\n",
    "for angka in range (7):\n",
    "    i = i + 3\n",
    "    print(i)"
   ]
  },
  {
   "cell_type": "code",
   "execution_count": 22,
   "metadata": {},
   "outputs": [
    {
     "name": "stdout",
     "output_type": "stream",
     "text": [
      "loop ke-0, hasilnya 4\n",
      "loop ke-1, hasilnya 7\n",
      "loop ke-2, hasilnya 10\n",
      "loop ke-3, hasilnya 13\n",
      "loop ke-4, hasilnya 16\n",
      "loop ke-5, hasilnya 19\n",
      "loop ke-6, hasilnya 22\n"
     ]
    }
   ],
   "source": [
    "# dari code diatas kata \"angka\" bisa diganti dengan apa saja, contoh dibawah adalah 'x',\n",
    "# lalu i = i + 3 bisa disederhanakan menjadi +=\n",
    "i = 1\n",
    "for x in range (7):\n",
    "    i += 3\n",
    "    print(f'loop ke-{x}, hasilnya {i}')\n",
    "\n",
    "#berlaku juga untuk -= , *=, /="
   ]
  },
  {
   "cell_type": "code",
   "execution_count": 23,
   "metadata": {},
   "outputs": [
    {
     "name": "stdout",
     "output_type": "stream",
     "text": [
      "loop ke-1, hasilnya 4\n",
      "loop ke-2, hasilnya 7\n",
      "loop ke-3, hasilnya 10\n",
      "loop ke-4, hasilnya 13\n",
      "loop ke-5, hasilnya 16\n",
      "loop ke-6, hasilnya 19\n",
      "loop ke-7, hasilnya 22\n"
     ]
    }
   ],
   "source": [
    "#code \"in range (7)\" akan memberikan nilai \"for x\" dari angka 0 ke 6 (7-1).\n",
    "#hasil, 0,1,2,3,4,5,6  namun tetap 7x karena dimulai dari 0\n",
    "#maka code dapat diupdate sebagai berikut:\n",
    "\n",
    "i = 1\n",
    "for x in range (7):\n",
    "    i += 3\n",
    "    print(f'loop ke-{x+1}, hasilnya {i}')\n"
   ]
  },
  {
   "cell_type": "code",
   "execution_count": 24,
   "metadata": {},
   "outputs": [
    {
     "name": "stdout",
     "output_type": "stream",
     "text": [
      "[4, 7, 10, 13, 16, 19, 22]\n"
     ]
    }
   ],
   "source": [
    "list_awal = []\n",
    "i = 1\n",
    "for x in range (7):\n",
    "    i += 3\n",
    "    list_awal.append(i)\n",
    "\n",
    "print(list_awal)"
   ]
  },
  {
   "cell_type": "code",
   "execution_count": 25,
   "metadata": {},
   "outputs": [
    {
     "name": "stdout",
     "output_type": "stream",
     "text": [
      "2\n",
      "3\n",
      "4\n",
      "5\n",
      "6\n"
     ]
    }
   ],
   "source": [
    "#memulai loop tidak dari angka 0\n",
    "for x in range (2,7):\n",
    "    print(x)"
   ]
  },
  {
   "cell_type": "code",
   "execution_count": 26,
   "metadata": {},
   "outputs": [
    {
     "name": "stdout",
     "output_type": "stream",
     "text": [
      "0\n",
      "2\n",
      "4\n",
      "6\n",
      "8\n",
      "10\n",
      "12\n",
      "14\n",
      "16\n",
      "18\n"
     ]
    }
   ],
   "source": [
    "#memulai loop dengan interval. contoh dari 0 dan interval 2\n",
    "for x in range (0,20,2):\n",
    "    print(x)"
   ]
  },
  {
   "cell_type": "markdown",
   "metadata": {},
   "source": [
    "PYTHON LOOP \"in list\""
   ]
  },
  {
   "cell_type": "code",
   "execution_count": 27,
   "metadata": {},
   "outputs": [
    {
     "name": "stdout",
     "output_type": "stream",
     "text": [
      "tempe\n",
      "tahu\n",
      "beras\n",
      "kecap\n"
     ]
    }
   ],
   "source": [
    "list_belanjaan = ['tempe', 'tahu', 'beras', 'kecap']\n",
    "\n",
    "for item in list_belanjaan:\n",
    "    print(item)\n"
   ]
  },
  {
   "cell_type": "code",
   "execution_count": 28,
   "metadata": {},
   "outputs": [
    {
     "name": "stdout",
     "output_type": "stream",
     "text": [
      "tempe\n",
      "1\n",
      "tahu\n",
      "2\n",
      "beras\n",
      "3\n",
      "kecap\n",
      "4\n"
     ]
    }
   ],
   "source": [
    "#python akan otomatis menghitung jumlah element pada list anda,\n",
    "#lalu melakukan loop sebanyak itu pula. dalam hal ini jumlah element pada\n",
    "#list belanjaan adalah 4, sehingga akan di loop 4x\n",
    "\n",
    "list_belanjaan = ['tempe', 'tahu', 'beras', 'kecap']\n",
    "\n",
    "berhitung = 0\n",
    "for item in list_belanjaan:\n",
    "    berhitung += 1\n",
    "    print(item)\n",
    "    print(berhitung)"
   ]
  },
  {
   "cell_type": "code",
   "execution_count": 29,
   "metadata": {},
   "outputs": [
    {
     "name": "stdout",
     "output_type": "stream",
     "text": [
      "0\n",
      "1\n",
      "2\n",
      "3\n"
     ]
    }
   ],
   "source": [
    "#jika jenis loop diganti dengan in range,\n",
    "#maka item akan menghasilkan nilai dari 0,1,2,3 karena len(list_belanjaan) = 4\n",
    "\n",
    "list_belanjaan = ['tempe', 'tahu', 'beras', 'kecap']\n",
    "\n",
    "for x in range(len(list_belanjaan)):\n",
    "    print(x)"
   ]
  },
  {
   "cell_type": "code",
   "execution_count": 30,
   "metadata": {},
   "outputs": [
    {
     "name": "stdout",
     "output_type": "stream",
     "text": [
      "tempe\n",
      "tahu\n",
      "beras\n",
      "kecap\n"
     ]
    }
   ],
   "source": [
    "#hasil dari pada deret 0,1,2,3 dari len bisa digunakan untuk hal lain seperti contoh dibawah,\n",
    "#Dalam hal ini adalah untuk memanggil element pada list belanjaan\n",
    "\n",
    "list_belanjaan = ['tempe', 'tahu', 'beras', 'kecap']\n",
    "\n",
    "for i in range(len(list_belanjaan)):\n",
    "    print(list_belanjaan[i])"
   ]
  },
  {
   "cell_type": "code",
   "execution_count": 31,
   "metadata": {},
   "outputs": [
    {
     "name": "stdout",
     "output_type": "stream",
     "text": [
      "jika i = 0 maka list_belanjaan[0] = tempe\n",
      "jika i = 1 maka list_belanjaan[1] = tahu\n",
      "jika i = 2 maka list_belanjaan[2] = beras\n",
      "jika i = 3 maka list_belanjaan[3] = kecap\n"
     ]
    }
   ],
   "source": [
    "#hasil dari pada deret 0,1,2,3 dari len bisa digunakan untuk hal lain\n",
    "#seperti pada  contoh dibawah, yaitu untuk memanggil element pada list belanjaan\n",
    "list_belanjaan = ['tempe', 'tahu', 'beras', 'kecap']\n",
    "\n",
    "for i in range(len(list_belanjaan)):\n",
    "    print(f'jika i = {i} maka list_belanjaan[{i}] = {list_belanjaan[i]}')"
   ]
  },
  {
   "cell_type": "code",
   "execution_count": 32,
   "outputs": [
    {
     "name": "stdout",
     "output_type": "stream",
     "text": [
      "1\n"
     ]
    }
   ],
   "source": [
    "#membuat variable baru dengan loop\n",
    "#buat 10 variable baru dengan format :   nama_urutan = urutan\n",
    "\n",
    "for i in range (11):\n",
    "    globals()[f'nama_{i}'] = i\n",
    "\n",
    "print (nama_1)  #10 variable baru dengan format nama_angka tercipta."
   ],
   "metadata": {
    "collapsed": false
   }
  },
  {
   "cell_type": "code",
   "execution_count": 33,
   "outputs": [
    {
     "name": "stdout",
     "output_type": "stream",
     "text": [
      "['tikus_1', 'tikus_2', 'tikus_3', 'tikus_4', 'tikus_5', 'tikus_6', 'tikus_7', 'tikus_8', 'tikus_9']\n"
     ]
    }
   ],
   "source": [
    "#membuat isi list dengan loop\n",
    "\n",
    "berapa_tikus = [f'tikus_{i}' for i in range (1,10)]\n",
    "print(berapa_tikus)"
   ],
   "metadata": {
    "collapsed": false
   }
  },
  {
   "cell_type": "code",
   "execution_count": 34,
   "metadata": {},
   "outputs": [
    {
     "name": "stdout",
     "output_type": "stream",
     "text": [
      "[18203.0, 21019.0, 25743.0, 29725.0, 33234.0, 36406.0]\n"
     ]
    }
   ],
   "source": [
    "#Practical Example 1:\n",
    "#jika Econcrete = 4700(fc)^0.5. buat list E\n",
    "\n",
    "list_fc = [15,20,30,40,50,60]\n",
    "jumlah_test = len(list_fc)\n",
    "\n",
    "list_E = []\n",
    "\n",
    "for m in range (jumlah_test):\n",
    "    E = 4700 * np.sqrt(list_fc[m])\n",
    "    E_dibulatkan = round(E,0)\n",
    "    list_E.append(E_dibulatkan)\n",
    "\n",
    "print(list_E)"
   ]
  },
  {
   "cell_type": "code",
   "execution_count": 35,
   "metadata": {},
   "outputs": [],
   "source": [
    "#Practical Example 2:\n",
    "#dari angka 1 sampai 1000 buat 2 list, list angka ganjil dan genap\n",
    "#tips: operasi modulus (modulo atau %) adalah sebuah operasi yang menghasilkan sisa pembagian\n",
    "#dari suatu bilangan terhadap bilangan lainnya maka jika suatu angka di modulo dengan 2\n",
    "#menyisakan nilai yang bukan 0 (e.g 5 % 2 = 1) maka angka tersebut adalah angka ganjil\n",
    "\n",
    "list_angka = np.arange(1,1001,1).tolist()\n",
    "angka_ganjil = []\n",
    "angka_genap = []\n",
    "\n",
    "for angka in list_angka:\n",
    "    if angka % 2 == 0:\n",
    "        angka_genap.append(angka)\n",
    "    elif angka % 2 != 0:\n",
    "        angka_ganjil.append(angka)\n"
   ]
  },
  {
   "cell_type": "code",
   "execution_count": 36,
   "metadata": {},
   "outputs": [
    {
     "data": {
      "text/plain": "50"
     },
     "execution_count": 36,
     "metadata": {},
     "output_type": "execute_result"
    }
   ],
   "source": [
    "#dictionary  {'key': value}\n",
    "barang_belanjaan = {'tempe': 50, 'ayam': 2}\n",
    "barang_belanjaan['tempe']"
   ]
  },
  {
   "cell_type": "code",
   "execution_count": 37,
   "metadata": {},
   "outputs": [
    {
     "data": {
      "text/plain": "{'tempe': 50, 'ayam': 2, 'garam': 500}"
     },
     "execution_count": 37,
     "metadata": {},
     "output_type": "execute_result"
    }
   ],
   "source": [
    "#menambah dictionary\n",
    "tambahan = {'garam': 500}\n",
    "barang_belanjaan.update(tambahan)\n",
    "barang_belanjaan"
   ]
  },
  {
   "cell_type": "code",
   "execution_count": 38,
   "outputs": [
    {
     "name": "stdout",
     "output_type": "stream",
     "text": [
      "score babak 1 pertandingan antara Madrid dan MU adalah 2 - 0 \n"
     ]
    }
   ],
   "source": [
    "#nested list or dictionary\n",
    "tim_sepakbola = {'real madrid': {'goal': [2,1]},'manchester united': {'goal': [0,0]}}\n",
    "\n",
    "babak_1_RM = tim_sepakbola['real madrid']['goal'][0]\n",
    "babak_1_MU = tim_sepakbola['manchester united']['goal'][0]\n",
    "print(f\"score babak 1 pertandingan antara Madrid dan MU adalah {babak_1_RM} - {babak_1_MU} \")"
   ],
   "metadata": {
    "collapsed": false
   }
  },
  {
   "cell_type": "code",
   "execution_count": 39,
   "metadata": {},
   "outputs": [
    {
     "name": "stdout",
     "output_type": "stream",
     "text": [
      "{'semen': 352, 'pasir': 731, 'kerikil': 1031, 'air': 215, 'w/c': 0.61}\n",
      "1021\n"
     ]
    }
   ],
   "source": [
    "#Komposisi beton berdasarkan kualitasnya menurut SNI DT-91-2007\n",
    "\n",
    "beton_1 = {'K100': {'semen': 247, 'pasir': 869, 'kerikil': 999,'air':215,'w/c':0.87}}\n",
    "beton_2 = {'K125': {'semen': 276, 'pasir': 828, 'kerikil': 1012,'air':215,'w/c':0.78}}\n",
    "beton_3 = {'K150': {'semen': 299, 'pasir': 799, 'kerikil': 1017,'air':215,'w/c':0.72}}\n",
    "beton_4 = {'K175': {'semen': 326, 'pasir': 760, 'kerikil': 1029,'air':215,'w/c':0.66}}\n",
    "beton_5 = {'K200': {'semen': 352, 'pasir': 731, 'kerikil': 1031,'air':215,'w/c':0.61}}\n",
    "beton_6 = {'K225': {'semen': 371, 'pasir': 698, 'kerikil': 1047,'air':215,'w/c':0.58}}\n",
    "beton_7 = {'K250': {'semen': 384, 'pasir': 692, 'kerikil': 1039,'air':215,'w/c':0.56}}\n",
    "beton_8 = {'K275': {'semen': 406, 'pasir': 684, 'kerikil': 1026,'air':215,'w/c':0.53}}\n",
    "beton_9 = {'K300': {'semen': 413, 'pasir': 681, 'kerikil': 1021,'air':215,'w/c':0.52}}\n",
    "beton_10 = {'K325': {'semen': 439, 'pasir': 670, 'kerikil': 1006,'air':215,'w/c':0.49}}\n",
    "beton_11 = {'K350': {'semen': 448, 'pasir': 667, 'kerikil': 1000,'air':215,'w/c':0.48}}\n",
    "\n",
    "#gabung semua dictionary dengan nama beton\n",
    "beton = {}\n",
    "for i in range(11):\n",
    "    beton.update(globals()[f'beton_{i+1}'])\n",
    "\n",
    "print(beton['K200'])\n",
    "print(beton['K300']['kerikil'])"
   ]
  },
  {
   "cell_type": "markdown",
   "source": [
    "WHILE LOOP"
   ],
   "metadata": {
    "collapsed": false
   }
  },
  {
   "cell_type": "code",
   "execution_count": null,
   "outputs": [],
   "source": [
    "#contoh1: keluar loop jika suatu variable sudah di atas threshold\n",
    "berhitung = 0\n",
    "while berhitung <= 100:\n",
    "    print(berhitung)\n",
    "    berhitung += 1\n"
   ],
   "metadata": {
    "collapsed": false
   }
  },
  {
   "cell_type": "code",
   "execution_count": null,
   "outputs": [],
   "source": [
    "#contoh2: keluar loop jika kondisi sudah terpenuhi, dengan memberikan statement True/False.\n",
    "kebutuhan_area = 100 #m2\n",
    "perkaleng = 13 #m2   satu kaleng cat dapat memenuhi 13 m2\n",
    "\n",
    "jumlah_cat = 1\n",
    "trial = True\n",
    "\n",
    "while trial == True:\n",
    "    hasil = jumlah_cat * perkaleng\n",
    "    if hasil >= kebutuhan_area:\n",
    "        print(f'jadi harus beli {jumlah_cat} kaleng cat, untuk memenuhi kebutuhan pengecetan')\n",
    "        trial = False   #statement keluar loop\n",
    "    else:\n",
    "        jumlah_cat += 1"
   ],
   "metadata": {
    "collapsed": false
   }
  },
  {
   "cell_type": "code",
   "execution_count": 2,
   "outputs": [
    {
     "data": {
      "text/plain": "30"
     },
     "execution_count": 2,
     "metadata": {},
     "output_type": "execute_result"
    }
   ],
   "source": [
    "#contoh 1A\n",
    "def f(x):\n",
    "    c = 10  #local variable\n",
    "    return 5*x**2 + c\n",
    "\n",
    "x = 2\n",
    "f(x)\n",
    "print(f\"hasil dari f({x}) adalah {f(x)}'.Dan nilai c adalah {c}\")"
   ],
   "metadata": {
    "collapsed": false
   }
  },
  {
   "cell_type": "code",
   "execution_count": 1,
   "outputs": [
    {
     "name": "stdout",
     "output_type": "stream",
     "text": [
      "hasil dari f(2) adalah 30'.Dan nilai c adalah 10\n"
     ]
    }
   ],
   "source": [
    "#contoh 1B\n",
    "def f(x):\n",
    "    global c\n",
    "    c = 10  #local variable\n",
    "    return 5*x**2 + c\n",
    "\n",
    "x = 2\n",
    "f(x)\n",
    "print(f\"hasil dari f({x}) adalah {f(x)}'.Dan nilai c adalah {c}\")"
   ],
   "metadata": {
    "collapsed": false
   }
  },
  {
   "cell_type": "code",
   "execution_count": 1,
   "outputs": [
    {
     "name": "stdout",
     "output_type": "stream",
     "text": [
      "hasil dari f(2) adalah 30. Dan nilai c adalah 5\n"
     ]
    }
   ],
   "source": [
    "#contoh 1C\n",
    "def f(x):\n",
    "    c = 10  #local variable\n",
    "    return 5*x**2 + c\n",
    "\n",
    "c = 5 #global variable\n",
    "var_1 = 2\n",
    "f(x=var_1)\n",
    "print(f'hasil dari f({var_1}) adalah {f(x=var_1)}. Dan nilai c adalah {c}')"
   ],
   "metadata": {
    "collapsed": false
   }
  },
  {
   "cell_type": "code",
   "execution_count": 1,
   "outputs": [
    {
     "name": "stdout",
     "output_type": "stream",
     "text": [
      "hasil dari f(2) adalah 25. Dan nilai c adalah 5\n"
     ]
    }
   ],
   "source": [
    "#contoh 1C\n",
    "c = 5 #global variable\n",
    "\n",
    "def f(x):\n",
    "    return 5*x**2 + c\n",
    "\n",
    "x = 2\n",
    "f(x)\n",
    "print(f'hasil dari f({x}) adalah {f(x)}. Dan nilai c adalah {c}')"
   ],
   "metadata": {
    "collapsed": false
   }
  },
  {
   "cell_type": "code",
   "execution_count": 48,
   "outputs": [
    {
     "name": "stdout",
     "output_type": "stream",
     "text": [
      "hasil dari f(2) adalah 30. Dan nilai c adalah 10\n"
     ]
    }
   ],
   "source": [
    "#contoh 1E\n",
    "c = 5 #global variable\n",
    "\n",
    "def f(x):\n",
    "    global c\n",
    "    c=10\n",
    "    return 5*x**2 + c\n",
    "\n",
    "x = 2\n",
    "f(x)\n",
    "print(f'hasil dari f({x}) adalah {f(x)}. Dan nilai c adalah {c}')"
   ],
   "metadata": {
    "collapsed": false
   }
  },
  {
   "cell_type": "code",
   "execution_count": null,
   "outputs": [],
   "source": [
    "#functional programming contoh 2A\n",
    "\n",
    "import numpy as np\n",
    "\n",
    "#functional programming contoh 2\n",
    "def check_geometry(l,b,a):      #function 1\n",
    "    c = l - b - a\n",
    "    if c < 0:\n",
    "        return print(\"nilai c negatif. harap review geometry\")\n",
    "    return c\n",
    "\n",
    "def shearforce(x):              #function 2\n",
    "    global a,b, V1, V2\n",
    "    if x <= a:\n",
    "        return V1\n",
    "    elif (x > a and x < (a+b)):\n",
    "        return V1 - w*(x-a)\n",
    "    else:\n",
    "        return -V2\n",
    "\n",
    "def bendingmoment(x):           #function 3\n",
    "    global a,b\n",
    "    if x <= a:\n",
    "        return V1*x\n",
    "    elif (x > a and x < (a+b)):\n",
    "        return V1*x - w/2 * (x - a)**2\n",
    "    else:\n",
    "        return V2 * ( l - x)\n",
    "\n",
    "#geometry\n",
    "w = 5\n",
    "l = 15\n",
    "a = 0\n",
    "b = 10\n",
    "\n",
    "#initial check\n",
    "#pada function 1, variable di assign dengan urutan l,b,a.\n",
    "#maka pada saat pemanggilan harus juga sesuai urutan atau dengan cara contoh 1B.\n",
    "c = check_geometry(l,b,a)\n",
    "\n",
    "#untuk grafik\n",
    "interval = 0.1\n",
    "tinjauan_x = np.arange(0,l+interval,interval)\n",
    "shear_V = []\n",
    "moment_M = []\n",
    "\n",
    "#grafik beban\n",
    "surcharge_x = [a,a,a+b,a+b]\n",
    "surcharge_y = [0,w,w,0]\n",
    "\n",
    "#forces\n",
    "V1 = w * b /(2*l) * (2*c+b)\n",
    "V2 = w * b /(2*l) * (2*a+b)\n",
    "\n",
    "#maximum moment dan posisi max moment\n",
    "x_Mmax = a + V1 / w\n",
    "Mmax = V1 * (a + V1 / (2 * w))\n",
    "\n",
    "#calculation: calling the functions\n",
    "for x in tinjauan_x:\n",
    "    shear_V.append(shearforce(x))\n",
    "    moment_M.append(bendingmoment(x))\n",
    "\n",
    "#dibulatkan\n",
    "sfd_rounded = list(np.around(np.array(shear_V),2))\n",
    "bmd_rounded = list(np.around(np.array(moment_M),2))\n",
    "\n",
    "#summary\n",
    "print('Shear forces:')\n",
    "print(sfd_rounded)\n",
    "print('\\nBending moment:')\n",
    "print(bmd_rounded)"
   ],
   "metadata": {
    "collapsed": false
   }
  },
  {
   "cell_type": "code",
   "execution_count": null,
   "outputs": [],
   "source": [
    "#functional programming contoh 2B\n",
    "import numpy as np\n",
    "\n",
    "#functional programming contoh 2\n",
    "def check_geometry(l,b,a):      #function 1\n",
    "    c = l - b - a\n",
    "    if c < 0:\n",
    "        return print(\"nilai c negatif. harap review geometry\")\n",
    "    return c\n",
    "\n",
    "def shearforce(x):              #function 2\n",
    "    global a,b, V1, V2\n",
    "    if x <= a:\n",
    "        return V1\n",
    "    elif (x > a and x < (a+b)):\n",
    "        return V1 - w*(x-a)\n",
    "    else:\n",
    "        return -V2\n",
    "\n",
    "def bendingmoment(x):           #function 3\n",
    "    global a,b\n",
    "    if x <= a:\n",
    "        return V1*x\n",
    "    elif (x > a and x < (a+b)):\n",
    "        return V1*x - w/2 * (x - a)**2\n",
    "    else:\n",
    "        return V2 * ( l - x)\n",
    "\n",
    "#geometry\n",
    "w = float(input('masukkan nilai beban: '))\n",
    "l = float(input('masukkan panjang bentang: '))\n",
    "a = float(input('masukkan jarak a: '))\n",
    "b = float(input('masukkan jarak b: '))\n",
    "\n",
    "#initial check\n",
    "c = check_geometry(l,b,a)       #pada function 1, variable di assign dengan urutan l,b,a. maka saat memanggil juga harus sesuai urutan.\n",
    "\n",
    "#untuk grafik\n",
    "interval = 0.1\n",
    "tinjauan_x = np.arange(0,l+interval,interval)\n",
    "shear_V = []\n",
    "moment_M = []\n",
    "\n",
    "#grafik beban\n",
    "surcharge_x = [a,a,a+b,a+b]\n",
    "surcharge_y = [0,w,w,0]\n",
    "\n",
    "#forces\n",
    "V1 = w * b /(2*l) * (2*c+b)\n",
    "V2 = w * b /(2*l) * (2*a+b)\n",
    "\n",
    "#maximum moment dan posisi max moment\n",
    "x_Mmax = a + V1 / w\n",
    "Mmax = V1 * (a + V1 / (2 * w))\n",
    "\n",
    "#calculation: calling the functions\n",
    "for x in tinjauan_x:\n",
    "    shear_V.append(shearforce(x))\n",
    "    moment_M.append(bendingmoment(x))\n",
    "\n",
    "#dibulatkan\n",
    "sfd_rounded = list(np.around(np.array(shear_V),4))\n",
    "bmd_rounded = list(np.around(np.array(moment_M),4))\n",
    "\n",
    "#summary\n",
    "print('Shear forces:')\n",
    "print(sfd_rounded)\n",
    "print('\\nBending moment:')\n",
    "print(bmd_rounded)"
   ],
   "metadata": {
    "collapsed": false
   }
  },
  {
   "cell_type": "code",
   "execution_count": null,
   "outputs": [],
   "source": [
    "#single plot: dengan Matplotlib\n",
    "\n",
    "import matplotlib.pyplot as plt\n",
    "\n",
    "#initial\n",
    "fig_plotsatu = plt.figure(figsize=(10,5))\n",
    "\n",
    "#skala x vs y\n",
    "plot_satu = fig_plotsatu.add_axes([0, 0, 1, 1])         #add_axes([xmin,ymin,dx,dy])\n",
    "\n",
    "#parameters\n",
    "plot_satu.plot(tinjauan_x, moment_M, 'k')               #(x, y, 'warna')\n",
    "plot_satu.fill_between(tinjauan_x, 0, moment_M, color='red', alpha=0.3)     #(x,0, y, 'warna', opacity)\n",
    "plot_satu.set_xticks(np.arange(0,l+interval,1))         #set x interval label\n",
    "plot_satu.set_xlabel('span [m]')                        #set judul label x\n",
    "plot_satu.set_ylabel('M [kNm]')                         #set judul label y\n",
    "\n",
    "#setting limit label secara manual\n",
    "xmin, xmax, ymin, ymax = [0, 15, 0, 200]\n",
    "plot_satu.set(xlim=(xmin, xmax), ylim=(ymin, ymax))\n",
    "\n",
    "#setting invert axis dan show grid\n",
    "plot_satu.invert_yaxis()                        #invert y axis\n",
    "plot_satu.grid(True)                            #show grid\n",
    "\n",
    "#tampilkan\n",
    "plt.show()"
   ],
   "metadata": {
    "collapsed": false
   }
  },
  {
   "cell_type": "code",
   "execution_count": null,
   "outputs": [],
   "source": [
    "#Multi plot: dengan Matplotlib\n",
    "#initial\n",
    "fig, (ax1, ax2, ax3)=plt.subplots(nrows=3, ncols=1, figsize=(12,6))\n",
    "\n",
    "#laod\n",
    "ax1.plot(surcharge_x,surcharge_y, \"k\", label=\"Load\")\n",
    "ax1.fill_between(surcharge_x, 0, surcharge_y, color='black', hatch='|||', alpha=0.3)\n",
    "ax1.set_ylabel(\"Load [kN/m]\")\n",
    "ax1.plot([0,l],[0,0], linewidth=2, color=\"dimgrey\",marker=6, markersize=16)     #plot sendi\n",
    "ax1.set_xticks(np.arange(0,l+interval,1))\n",
    "ax1.set_yticks(np.arange(-w,2*w,w/2))\n",
    "ax1.grid(True)\n",
    "\n",
    "#shearforce\n",
    "ax2.plot(tinjauan_x,shear_V, \"k\", label=\"V\")\n",
    "ax2.fill_between(tinjauan_x, 0, shear_V, color='red',hatch='///', alpha=0.3)\n",
    "ax2.set_ylabel(\"V [kN]\")\n",
    "ax2.plot([0,l],[0,0], linewidth=2, color=\"dimgrey\", marker=6, markersize=16)    #plot sendi\n",
    "ax2.set_xticks(np.arange(0,l+interval,1))\n",
    "\n",
    "V_max = max(V1,V2)\n",
    "ax2.set_yticks(np.arange(-(V_max+15),(V_max+15),V_max/2))\n",
    "ax2.grid(True)\n",
    "\n",
    "#bending moment\n",
    "ax3.invert_yaxis()\n",
    "ax3.plot(tinjauan_x,moment_M, label=\"M\")\n",
    "ax3.fill_between(tinjauan_x, 0, moment_M, color='blue',hatch='xx', alpha=0.3)\n",
    "ax3.set_ylabel(\"M [kNm]\")\n",
    "ax3.plot([0,l],[0,0], linewidth=2, color=\"dimgrey\",marker=6, markersize=16)     #plot sendi\n",
    "ax3.set_xticks(np.arange(0,l+interval,1))\n",
    "ax3.grid(True)\n",
    "\n",
    "#tampilkan\n",
    "plt.show()"
   ],
   "metadata": {
    "collapsed": false
   }
  },
  {
   "cell_type": "code",
   "execution_count": null,
   "outputs": [],
   "source": [
    "#functional programming contoh 2C\n",
    "import numpy as np\n",
    "import matplotlib.pyplot as plt\n",
    "import pandas as pd\n",
    "\n",
    "def check_geometry(l,b,a):\n",
    "    c = l - b - a\n",
    "    if c < 0:\n",
    "        return print(\"nilai c negatif. harap review geometry\")\n",
    "    return c\n",
    "\n",
    "def shearforce(x,a,b,V1,V2,w):\n",
    "    if x <= a:\n",
    "        return V1\n",
    "    elif (x > a and x < (a+b)):\n",
    "        return V1 - w*(x-a)\n",
    "    else:\n",
    "        return -V2\n",
    "\n",
    "def bendingmoment(x,a,b,l,V1,V2,w):\n",
    "    if x <= a:\n",
    "        return V1*x\n",
    "    elif (x > a and x < (a+b)):\n",
    "        return V1*x - w/2 * (x - a)**2\n",
    "    else:\n",
    "        return V2 * ( l - x)\n",
    "\n",
    "def plot_figure(surcharge_x,surcharge_y,l,w,tinjauan_x,shear_V,moment_M,V1,V2,interval):\n",
    "    fig, (ax1, ax2, ax3)=plt.subplots(nrows=3, ncols=1, figsize=(12,6))\n",
    "\n",
    "    #laod\n",
    "    ax1.plot(surcharge_x,surcharge_y, \"k\", label=\"Load\")\n",
    "    ax1.fill_between(surcharge_x, 0, surcharge_y, color='black', hatch='|||', alpha=0.3)\n",
    "    ax1.set_ylabel(\"Load [kN/m]\")\n",
    "    ax1.plot([0,l],[0,0], linewidth=2, color=\"dimgrey\",marker=6, markersize=16)     #plot sendi\n",
    "    ax1.set_xticks(np.arange(0,l+interval,1))\n",
    "    ax1.set_yticks(np.arange(-w,2*w,w/2))\n",
    "    ax1.grid(True)\n",
    "\n",
    "    #shearforce\n",
    "    ax2.plot(tinjauan_x,shear_V, \"k\", label=\"V\")\n",
    "    ax2.fill_between(tinjauan_x, 0, shear_V, color='red',hatch='///', alpha=0.3)\n",
    "    ax2.set_ylabel(\"V [kN]\")\n",
    "    ax2.plot([0,l],[0,0], linewidth=2, color=\"dimgrey\", marker=6, markersize=16)    #plot sendi\n",
    "    ax2.set_xticks(np.arange(0,l+interval,1))\n",
    "\n",
    "    V_max = max(V1,V2)\n",
    "    ax2.set_yticks(np.arange(-(V_max+15),(V_max+15),V_max/2))\n",
    "    ax2.grid(True)\n",
    "\n",
    "    #bending moment\n",
    "    ax3.invert_yaxis()\n",
    "    ax3.plot(tinjauan_x,moment_M, label=\"M\")\n",
    "    ax3.fill_between(tinjauan_x, 0, moment_M, color='blue',hatch='xx', alpha=0.3)\n",
    "    ax3.set_ylabel(\"M [kNm]\")\n",
    "    ax3.plot([0,l],[0,0], linewidth=2, color=\"dimgrey\",marker=6, markersize=16)     #plot sendi\n",
    "    ax3.set_xticks(np.arange(0,l+interval,1))\n",
    "    ax3.grid(True)\n",
    "\n",
    "    #tampilkan\n",
    "    plt.show()\n",
    "\n",
    "def main():\n",
    "    #geometry\n",
    "    w = float(input('masukkan nilai beban: '))\n",
    "    l = float(input('masukkan panjang bentang: '))\n",
    "    a = float(input('masukkan jarak a: '))\n",
    "    b = float(input('masukkan jarak b: '))\n",
    "\n",
    "    #initial check\n",
    "    c = check_geometry(l,b,a)       #pada function 1, variable di assign dengan urutan l,b,a. maka saat memanggil juga harus sesuai urutan.\n",
    "\n",
    "    #untuk grafik\n",
    "    interval = 0.1\n",
    "    tinjauan_x = np.arange(0,l+interval,interval)\n",
    "    shear_V = []\n",
    "    moment_M = []\n",
    "\n",
    "    #grafik beban\n",
    "    surcharge_x = [a,a,a+b,a+b]\n",
    "    surcharge_y = [0,w,w,0]\n",
    "\n",
    "    #forces\n",
    "    V1 = w * b /(2*l) * (2*c+b)\n",
    "    V2 = w * b /(2*l) * (2*a+b)\n",
    "\n",
    "    #maximum moment dan posisi max moment\n",
    "    x_Mmax = a + V1 / w\n",
    "    Mmax = V1 * (a + V1 / (2 * w))\n",
    "\n",
    "    #calculation: calling the functions\n",
    "    for x in tinjauan_x:\n",
    "        shear_V.append(shearforce(x,a,b,V1,V2,w))\n",
    "        moment_M.append(bendingmoment(x,a,b,l,V1,V2,w))\n",
    "\n",
    "    # dibulatkan\n",
    "    sfd_rounded = list(np.around(np.array(shear_V),4))\n",
    "    bmd_rounded = list(np.around(np.array(moment_M),4))\n",
    "\n",
    "    print(f'summary:\\nLoad = {w} kN/m, a = {a} m, b = {b} m, c = {c} m')\n",
    "\n",
    "    #data frame summary\n",
    "    df_summary = pd.DataFrame()\n",
    "    df_summary['x'] = tinjauan_x\n",
    "    df_summary['SFD [kN/m]'] = sfd_rounded\n",
    "    df_summary['BMD [kN/m]'] = bmd_rounded\n",
    "    print(df_summary)\n",
    "\n",
    "    plot_figure(surcharge_x,surcharge_y,l,w,tinjauan_x,shear_V,moment_M,V1,V2,interval)\n",
    "\n",
    "\n",
    "main()"
   ],
   "metadata": {
    "collapsed": false
   }
  },
  {
   "cell_type": "code",
   "execution_count": null,
   "outputs": [],
   "source": [],
   "metadata": {
    "collapsed": false
   }
  }
 ],
 "metadata": {
  "kernelspec": {
   "display_name": "Python 3 (ipykernel)",
   "language": "python",
   "name": "python3"
  },
  "language_info": {
   "codemirror_mode": {
    "name": "ipython",
    "version": 3
   },
   "file_extension": ".py",
   "mimetype": "text/x-python",
   "name": "python",
   "nbconvert_exporter": "python",
   "pygments_lexer": "ipython3",
   "version": "3.9.16"
  }
 },
 "nbformat": 4,
 "nbformat_minor": 1
}
