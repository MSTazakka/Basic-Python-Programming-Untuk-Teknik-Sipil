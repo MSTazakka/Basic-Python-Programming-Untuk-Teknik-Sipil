{
 "cells": [
  {
   "cell_type": "markdown",
   "source": [
    "Iterative calculation using secant method. Case study: Airy wave theory"
   ],
   "metadata": {
    "collapsed": false
   }
  },
  {
   "cell_type": "code",
   "execution_count": 1,
   "outputs": [],
   "source": [
    "import pandas as pd  #analysis table\n",
    "import numpy as np   #python mathematical tool"
   ],
   "metadata": {
    "collapsed": false
   }
  },
  {
   "cell_type": "code",
   "execution_count": 8,
   "outputs": [],
   "source": [
    "#input awal\n",
    "g = 9.81\n",
    "T = 6\n",
    "depth = 15\n",
    "\n",
    "#masukkan function yang di inginkan\n",
    "def f(L):\n",
    "    return ( g/(2*np.pi) * (T**2) * np.tanh ((2*np.pi*depth)/L) ) - L\n",
    "\n",
    "#input variabel awal\n",
    "L0 = 1\n",
    "L1 = 2"
   ],
   "metadata": {
    "collapsed": false
   }
  },
  {
   "cell_type": "code",
   "execution_count": 9,
   "outputs": [
    {
     "data": {
      "text/plain": "    step   L0   L1  L2  error\n0      1  1.0  2.0 NaN    NaN\n1      2  NaN  NaN NaN    NaN\n2      3  NaN  NaN NaN    NaN\n3      4  NaN  NaN NaN    NaN\n4      5  NaN  NaN NaN    NaN\n..   ...  ...  ...  ..    ...\n94    95  NaN  NaN NaN    NaN\n95    96  NaN  NaN NaN    NaN\n96    97  NaN  NaN NaN    NaN\n97    98  NaN  NaN NaN    NaN\n98    99  NaN  NaN NaN    NaN\n\n[99 rows x 5 columns]",
      "text/html": "<div>\n<style scoped>\n    .dataframe tbody tr th:only-of-type {\n        vertical-align: middle;\n    }\n\n    .dataframe tbody tr th {\n        vertical-align: top;\n    }\n\n    .dataframe thead th {\n        text-align: right;\n    }\n</style>\n<table border=\"1\" class=\"dataframe\">\n  <thead>\n    <tr style=\"text-align: right;\">\n      <th></th>\n      <th>step</th>\n      <th>L0</th>\n      <th>L1</th>\n      <th>L2</th>\n      <th>error</th>\n    </tr>\n  </thead>\n  <tbody>\n    <tr>\n      <th>0</th>\n      <td>1</td>\n      <td>1.0</td>\n      <td>2.0</td>\n      <td>NaN</td>\n      <td>NaN</td>\n    </tr>\n    <tr>\n      <th>1</th>\n      <td>2</td>\n      <td>NaN</td>\n      <td>NaN</td>\n      <td>NaN</td>\n      <td>NaN</td>\n    </tr>\n    <tr>\n      <th>2</th>\n      <td>3</td>\n      <td>NaN</td>\n      <td>NaN</td>\n      <td>NaN</td>\n      <td>NaN</td>\n    </tr>\n    <tr>\n      <th>3</th>\n      <td>4</td>\n      <td>NaN</td>\n      <td>NaN</td>\n      <td>NaN</td>\n      <td>NaN</td>\n    </tr>\n    <tr>\n      <th>4</th>\n      <td>5</td>\n      <td>NaN</td>\n      <td>NaN</td>\n      <td>NaN</td>\n      <td>NaN</td>\n    </tr>\n    <tr>\n      <th>...</th>\n      <td>...</td>\n      <td>...</td>\n      <td>...</td>\n      <td>...</td>\n      <td>...</td>\n    </tr>\n    <tr>\n      <th>94</th>\n      <td>95</td>\n      <td>NaN</td>\n      <td>NaN</td>\n      <td>NaN</td>\n      <td>NaN</td>\n    </tr>\n    <tr>\n      <th>95</th>\n      <td>96</td>\n      <td>NaN</td>\n      <td>NaN</td>\n      <td>NaN</td>\n      <td>NaN</td>\n    </tr>\n    <tr>\n      <th>96</th>\n      <td>97</td>\n      <td>NaN</td>\n      <td>NaN</td>\n      <td>NaN</td>\n      <td>NaN</td>\n    </tr>\n    <tr>\n      <th>97</th>\n      <td>98</td>\n      <td>NaN</td>\n      <td>NaN</td>\n      <td>NaN</td>\n      <td>NaN</td>\n    </tr>\n    <tr>\n      <th>98</th>\n      <td>99</td>\n      <td>NaN</td>\n      <td>NaN</td>\n      <td>NaN</td>\n      <td>NaN</td>\n    </tr>\n  </tbody>\n</table>\n<p>99 rows × 5 columns</p>\n</div>"
     },
     "execution_count": 9,
     "metadata": {},
     "output_type": "execute_result"
    }
   ],
   "source": [
    "#pembuatan recap dataframe\n",
    "df_recap = pd.DataFrame()\n",
    "df_recap['step']=np.arange(1,100,1)\n",
    "df_recap['L0'] = np.nan\n",
    "df_recap['L1'] = np.nan\n",
    "df_recap['L2'] = np.nan\n",
    "df_recap['error'] = np.nan\n",
    "df_recap.iloc[0,1]=L0\n",
    "df_recap.iloc[0,2]=L1\n",
    "df_recap"
   ],
   "metadata": {
    "collapsed": false
   }
  },
  {
   "cell_type": "code",
   "execution_count": 10,
   "outputs": [],
   "source": [
    "#iterative calculation\n",
    "do_iteration = True\n",
    "step = 1\n",
    "while do_iteration == True:\n",
    "    L2 = L0 - f(L0)*((L1-L0)/(f(L1)-f(L0)))\n",
    "\n",
    "    df_recap.iloc[(step-1),3]=L2\n",
    "\n",
    "    if abs(L2 - L1) < 0.000001:\n",
    "        do_iteration = False\n",
    "    else:\n",
    "        L0 = L1\n",
    "        L1 = L2\n",
    "        df_recap.iloc[step,1]=L0\n",
    "        df_recap.iloc[step,2]=L1\n",
    "        step += 1\n",
    "        df_recap['error'] = round((df_recap['L1'] - df_recap['L0'])/df_recap['L0']*100,4)"
   ],
   "metadata": {
    "collapsed": false
   }
  },
  {
   "cell_type": "code",
   "execution_count": 11,
   "outputs": [
    {
     "name": "stdout",
     "output_type": "stream",
     "text": [
      "telah dilakukan iterasi sebanyak 6 kali\n"
     ]
    },
    {
     "data": {
      "text/plain": "   step         L0         L1         L2      error\n0     1   1.000000   2.000000  56.207160   100.0000\n1     2   2.000000  56.207160  52.658608  2710.3580\n2     3  56.207160  52.658608  53.070524    -6.3133\n3     4  52.658608  53.070524  53.073191     0.7822\n4     5  53.070524  53.073191  53.073188     0.0050\n5     6  53.073191  53.073188  53.073188    -0.0000",
      "text/html": "<div>\n<style scoped>\n    .dataframe tbody tr th:only-of-type {\n        vertical-align: middle;\n    }\n\n    .dataframe tbody tr th {\n        vertical-align: top;\n    }\n\n    .dataframe thead th {\n        text-align: right;\n    }\n</style>\n<table border=\"1\" class=\"dataframe\">\n  <thead>\n    <tr style=\"text-align: right;\">\n      <th></th>\n      <th>step</th>\n      <th>L0</th>\n      <th>L1</th>\n      <th>L2</th>\n      <th>error</th>\n    </tr>\n  </thead>\n  <tbody>\n    <tr>\n      <th>0</th>\n      <td>1</td>\n      <td>1.000000</td>\n      <td>2.000000</td>\n      <td>56.207160</td>\n      <td>100.0000</td>\n    </tr>\n    <tr>\n      <th>1</th>\n      <td>2</td>\n      <td>2.000000</td>\n      <td>56.207160</td>\n      <td>52.658608</td>\n      <td>2710.3580</td>\n    </tr>\n    <tr>\n      <th>2</th>\n      <td>3</td>\n      <td>56.207160</td>\n      <td>52.658608</td>\n      <td>53.070524</td>\n      <td>-6.3133</td>\n    </tr>\n    <tr>\n      <th>3</th>\n      <td>4</td>\n      <td>52.658608</td>\n      <td>53.070524</td>\n      <td>53.073191</td>\n      <td>0.7822</td>\n    </tr>\n    <tr>\n      <th>4</th>\n      <td>5</td>\n      <td>53.070524</td>\n      <td>53.073191</td>\n      <td>53.073188</td>\n      <td>0.0050</td>\n    </tr>\n    <tr>\n      <th>5</th>\n      <td>6</td>\n      <td>53.073191</td>\n      <td>53.073188</td>\n      <td>53.073188</td>\n      <td>-0.0000</td>\n    </tr>\n  </tbody>\n</table>\n</div>"
     },
     "execution_count": 11,
     "metadata": {},
     "output_type": "execute_result"
    }
   ],
   "source": [
    "#menampilkan recapitulasi hasil perhitungan\n",
    "df_recap.dropna(inplace=True)\n",
    "jumlah_terasi = max(df_recap['step'])\n",
    "\n",
    "print(f'telah dilakukan iterasi sebanyak {jumlah_terasi } kali')\n",
    "df_recap"
   ],
   "metadata": {
    "collapsed": false
   }
  },
  {
   "cell_type": "code",
   "execution_count": 12,
   "outputs": [],
   "source": [],
   "metadata": {
    "collapsed": false
   }
  }
 ],
 "metadata": {
  "kernelspec": {
   "display_name": "Python 3",
   "language": "python",
   "name": "python3"
  },
  "language_info": {
   "codemirror_mode": {
    "name": "ipython",
    "version": 2
   },
   "file_extension": ".py",
   "mimetype": "text/x-python",
   "name": "python",
   "nbconvert_exporter": "python",
   "pygments_lexer": "ipython2",
   "version": "2.7.6"
  }
 },
 "nbformat": 4,
 "nbformat_minor": 0
}
