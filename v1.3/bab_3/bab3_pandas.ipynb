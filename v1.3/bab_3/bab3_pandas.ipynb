{
 "cells": [
  {
   "cell_type": "code",
   "execution_count": 2,
   "outputs": [],
   "source": [
    "import pandas as pd"
   ],
   "metadata": {
    "collapsed": false
   }
  },
  {
   "cell_type": "code",
   "execution_count": 3,
   "outputs": [],
   "source": [
    "\n",
    "#dataframe dengan list\n",
    "#data yang tersedia sebagai berikut:\n",
    "list_belanjaan = ['tempe', 'tahu', 'beras', 'kecap',\"tomat\",\"mayonaise\"]\n",
    "list_jenis = ['alami','alami','alami','pabrikan','alami','pabrikan']\n",
    "list_kuantitas = [10,10,3,1,4,1]\n",
    "list_harga_satuan = [3000,2500,10000,15000,6000,12000]\n",
    "list_units = ['per-pack','per-pack', 'per-Kg','per-botol', 'per-Kg','per-botol']"
   ],
   "metadata": {
    "collapsed": false
   }
  },
  {
   "cell_type": "code",
   "execution_count": 137,
   "outputs": [],
   "source": [
    "#pembuatan dataframe baru dengan nama df_belanjaan\n",
    "df_belanjaan = pd.DataFrame()\n",
    "\n",
    "#data di atas, masih kosong/kopong"
   ],
   "metadata": {
    "collapsed": false
   }
  },
  {
   "cell_type": "code",
   "execution_count": 138,
   "outputs": [
    {
     "data": {
      "text/plain": "   belanjaan     jenis  jumlah     satuan  harga_satuan\n0      tempe     alami      10   per-pack          3000\n1       tahu     alami      10   per-pack          2500\n2      beras     alami       3     per-Kg         10000\n3      kecap  pabrikan       1  per-botol         15000\n4      tomat     alami       4     per-Kg          6000\n5  mayonaise  pabrikan       1  per-botol         12000",
      "text/html": "<div>\n<style scoped>\n    .dataframe tbody tr th:only-of-type {\n        vertical-align: middle;\n    }\n\n    .dataframe tbody tr th {\n        vertical-align: top;\n    }\n\n    .dataframe thead th {\n        text-align: right;\n    }\n</style>\n<table border=\"1\" class=\"dataframe\">\n  <thead>\n    <tr style=\"text-align: right;\">\n      <th></th>\n      <th>belanjaan</th>\n      <th>jenis</th>\n      <th>jumlah</th>\n      <th>satuan</th>\n      <th>harga_satuan</th>\n    </tr>\n  </thead>\n  <tbody>\n    <tr>\n      <th>0</th>\n      <td>tempe</td>\n      <td>alami</td>\n      <td>10</td>\n      <td>per-pack</td>\n      <td>3000</td>\n    </tr>\n    <tr>\n      <th>1</th>\n      <td>tahu</td>\n      <td>alami</td>\n      <td>10</td>\n      <td>per-pack</td>\n      <td>2500</td>\n    </tr>\n    <tr>\n      <th>2</th>\n      <td>beras</td>\n      <td>alami</td>\n      <td>3</td>\n      <td>per-Kg</td>\n      <td>10000</td>\n    </tr>\n    <tr>\n      <th>3</th>\n      <td>kecap</td>\n      <td>pabrikan</td>\n      <td>1</td>\n      <td>per-botol</td>\n      <td>15000</td>\n    </tr>\n    <tr>\n      <th>4</th>\n      <td>tomat</td>\n      <td>alami</td>\n      <td>4</td>\n      <td>per-Kg</td>\n      <td>6000</td>\n    </tr>\n    <tr>\n      <th>5</th>\n      <td>mayonaise</td>\n      <td>pabrikan</td>\n      <td>1</td>\n      <td>per-botol</td>\n      <td>12000</td>\n    </tr>\n  </tbody>\n</table>\n</div>"
     },
     "execution_count": 138,
     "metadata": {},
     "output_type": "execute_result"
    }
   ],
   "source": [
    "#Metode 1: penambahan kolom baru pada dataframe dengan list\n",
    "df_belanjaan['belanjaan'] = list_belanjaan\n",
    "df_belanjaan['jenis'] = list_jenis\n",
    "df_belanjaan['jumlah'] = list_kuantitas\n",
    "df_belanjaan['satuan'] = list_units\n",
    "df_belanjaan['harga_satuan'] = list_harga_satuan\n",
    "\n",
    "#tampilkan\n",
    "df_belanjaan"
   ],
   "metadata": {
    "collapsed": false
   }
  },
  {
   "cell_type": "code",
   "execution_count": 4,
   "outputs": [
    {
     "data": {
      "text/plain": "   belanjaan     jenis  jumlah     satuan  harga_satuan\n0      tempe     alami      10   per-pack          3000\n1       tahu     alami      10   per-pack          2500\n2      beras     alami       3     per-Kg         10000\n3      kecap  pabrikan       1  per-botol         15000\n4      tomat     alami       4     per-Kg          6000\n5  mayonaise  pabrikan       1  per-botol         12000",
      "text/html": "<div>\n<style scoped>\n    .dataframe tbody tr th:only-of-type {\n        vertical-align: middle;\n    }\n\n    .dataframe tbody tr th {\n        vertical-align: top;\n    }\n\n    .dataframe thead th {\n        text-align: right;\n    }\n</style>\n<table border=\"1\" class=\"dataframe\">\n  <thead>\n    <tr style=\"text-align: right;\">\n      <th></th>\n      <th>belanjaan</th>\n      <th>jenis</th>\n      <th>jumlah</th>\n      <th>satuan</th>\n      <th>harga_satuan</th>\n    </tr>\n  </thead>\n  <tbody>\n    <tr>\n      <th>0</th>\n      <td>tempe</td>\n      <td>alami</td>\n      <td>10</td>\n      <td>per-pack</td>\n      <td>3000</td>\n    </tr>\n    <tr>\n      <th>1</th>\n      <td>tahu</td>\n      <td>alami</td>\n      <td>10</td>\n      <td>per-pack</td>\n      <td>2500</td>\n    </tr>\n    <tr>\n      <th>2</th>\n      <td>beras</td>\n      <td>alami</td>\n      <td>3</td>\n      <td>per-Kg</td>\n      <td>10000</td>\n    </tr>\n    <tr>\n      <th>3</th>\n      <td>kecap</td>\n      <td>pabrikan</td>\n      <td>1</td>\n      <td>per-botol</td>\n      <td>15000</td>\n    </tr>\n    <tr>\n      <th>4</th>\n      <td>tomat</td>\n      <td>alami</td>\n      <td>4</td>\n      <td>per-Kg</td>\n      <td>6000</td>\n    </tr>\n    <tr>\n      <th>5</th>\n      <td>mayonaise</td>\n      <td>pabrikan</td>\n      <td>1</td>\n      <td>per-botol</td>\n      <td>12000</td>\n    </tr>\n  </tbody>\n</table>\n</div>"
     },
     "execution_count": 4,
     "metadata": {},
     "output_type": "execute_result"
    }
   ],
   "source": [
    "#Metode 2\n",
    "df_belanjaan=pd.DataFrame(list(zip(list_belanjaan, list_jenis,list_kuantitas,list_units,list_harga_satuan)),\n",
    "                          columns =['belanjaan', 'jenis','jumlah','satuan','harga_satuan'])\n",
    "\n",
    "#tampilkan\n",
    "df_belanjaan"
   ],
   "metadata": {
    "collapsed": false
   }
  },
  {
   "cell_type": "code",
   "execution_count": 1,
   "outputs": [],
   "source": [
    "#pembuatan dataframe dengan dictionary\n",
    "#ada beberapa cara pembuatan dataframe dengan dict,\n",
    "#berikut salah satu contoh template nya.\n",
    "import pandas as pd\n",
    "\n",
    "df_belanjaan_dictionary = pd.DataFrame({                                                # pd.DataFrame({\n",
    "    'belanjaan': ['tempe', 'tahu', 'beras', 'kecap',\"tomat\",\"mayonaise\"],               # \"column_title\" : [column_cell_value]\n",
    "    'jenis': ['alami','alami','alami','pabrikan','alami','pabrikan'],                   # \"column_title\" : [column_cell_value]\n",
    "    'jumlah': [10,10,3,1,4,1],                                                          # \"column_title\" : [column_cell_value]\n",
    "    'satuan': ['per-pack','per-pack', 'per-Kg','per-botol', 'per-Kg','per-botol'],      # \"column_title\" : [column_cell_value]\n",
    "    'harga_satuan': [3000,2500,10000,15000,6000,12000]                                  # \"column_title\" : [column_cell_value]\n",
    "})                                                                                      # })\n"
   ],
   "metadata": {
    "collapsed": false
   }
  },
  {
   "cell_type": "code",
   "execution_count": 2,
   "outputs": [
    {
     "data": {
      "text/plain": "{'belanjaan': ['tempe', 'tahu', 'beras', 'kecap', 'tomat', 'mayonaise'],\n 'jenis': ['alami', 'alami', 'alami', 'pabrikan', 'alami', 'pabrikan'],\n 'jumlah': [10, 10, 3, 1, 4, 1],\n 'satuan': ['per-pack',\n  'per-pack',\n  'per-Kg',\n  'per-botol',\n  'per-Kg',\n  'per-botol'],\n 'harga_satuan': [3000, 2500, 10000, 15000, 6000, 12000]}"
     },
     "execution_count": 2,
     "metadata": {},
     "output_type": "execute_result"
    }
   ],
   "source": [
    "df_belanjaan_dictionary.to_dict('list')"
   ],
   "metadata": {
    "collapsed": false
   }
  },
  {
   "cell_type": "code",
   "execution_count": 140,
   "outputs": [
    {
     "data": {
      "text/plain": "   belanjaan     jenis  jumlah     satuan  harga_satuan  jumlah x harga_satuan\n0      tempe     alami      10   per-pack          3000                  30000\n1       tahu     alami      10   per-pack          2500                  25000\n2      beras     alami       3     per-Kg         10000                  30000\n3      kecap  pabrikan       1  per-botol         15000                  15000\n4      tomat     alami       4     per-Kg          6000                  24000\n5  mayonaise  pabrikan       1  per-botol         12000                  12000",
      "text/html": "<div>\n<style scoped>\n    .dataframe tbody tr th:only-of-type {\n        vertical-align: middle;\n    }\n\n    .dataframe tbody tr th {\n        vertical-align: top;\n    }\n\n    .dataframe thead th {\n        text-align: right;\n    }\n</style>\n<table border=\"1\" class=\"dataframe\">\n  <thead>\n    <tr style=\"text-align: right;\">\n      <th></th>\n      <th>belanjaan</th>\n      <th>jenis</th>\n      <th>jumlah</th>\n      <th>satuan</th>\n      <th>harga_satuan</th>\n      <th>jumlah x harga_satuan</th>\n    </tr>\n  </thead>\n  <tbody>\n    <tr>\n      <th>0</th>\n      <td>tempe</td>\n      <td>alami</td>\n      <td>10</td>\n      <td>per-pack</td>\n      <td>3000</td>\n      <td>30000</td>\n    </tr>\n    <tr>\n      <th>1</th>\n      <td>tahu</td>\n      <td>alami</td>\n      <td>10</td>\n      <td>per-pack</td>\n      <td>2500</td>\n      <td>25000</td>\n    </tr>\n    <tr>\n      <th>2</th>\n      <td>beras</td>\n      <td>alami</td>\n      <td>3</td>\n      <td>per-Kg</td>\n      <td>10000</td>\n      <td>30000</td>\n    </tr>\n    <tr>\n      <th>3</th>\n      <td>kecap</td>\n      <td>pabrikan</td>\n      <td>1</td>\n      <td>per-botol</td>\n      <td>15000</td>\n      <td>15000</td>\n    </tr>\n    <tr>\n      <th>4</th>\n      <td>tomat</td>\n      <td>alami</td>\n      <td>4</td>\n      <td>per-Kg</td>\n      <td>6000</td>\n      <td>24000</td>\n    </tr>\n    <tr>\n      <th>5</th>\n      <td>mayonaise</td>\n      <td>pabrikan</td>\n      <td>1</td>\n      <td>per-botol</td>\n      <td>12000</td>\n      <td>12000</td>\n    </tr>\n  </tbody>\n</table>\n</div>"
     },
     "execution_count": 140,
     "metadata": {},
     "output_type": "execute_result"
    }
   ],
   "source": [
    "#operasi matematika dasar\n",
    "#berlaku juga dengan operasi matematika dasar yg lain ( + , - , /)\n",
    "df_belanjaan['jumlah x harga_satuan'] = df_belanjaan ['jumlah'] * df_belanjaan['harga_satuan']\n",
    "\n",
    "#tampilkan\n",
    "df_belanjaan"
   ],
   "metadata": {
    "collapsed": false
   }
  },
  {
   "cell_type": "code",
   "execution_count": 141,
   "outputs": [
    {
     "name": "stdout",
     "output_type": "stream",
     "text": [
      "jadi total jenis item yang dibeli adalah 6 item belanjaan, dengan harga total sebesar Rp. 136000\n"
     ]
    }
   ],
   "source": [
    "#menghitung harga total\n",
    "harga_total = sum(df_belanjaan['jumlah x harga_satuan'])\n",
    "barang_utama = len(df_belanjaan['belanjaan'])\n",
    "\n",
    "print(f\"jadi total jenis item yang dibeli adalah {barang_utama} item belanjaan, dengan harga total sebesar Rp. {harga_total}\")"
   ],
   "metadata": {
    "collapsed": false
   }
  },
  {
   "cell_type": "code",
   "execution_count": 142,
   "outputs": [
    {
     "data": {
      "text/plain": "  belanjaan  jenis  jumlah    satuan  harga_satuan  jumlah x harga_satuan\n0     tempe  alami      10  per-pack          3000                  30000\n1      tahu  alami      10  per-pack          2500                  25000",
      "text/html": "<div>\n<style scoped>\n    .dataframe tbody tr th:only-of-type {\n        vertical-align: middle;\n    }\n\n    .dataframe tbody tr th {\n        vertical-align: top;\n    }\n\n    .dataframe thead th {\n        text-align: right;\n    }\n</style>\n<table border=\"1\" class=\"dataframe\">\n  <thead>\n    <tr style=\"text-align: right;\">\n      <th></th>\n      <th>belanjaan</th>\n      <th>jenis</th>\n      <th>jumlah</th>\n      <th>satuan</th>\n      <th>harga_satuan</th>\n      <th>jumlah x harga_satuan</th>\n    </tr>\n  </thead>\n  <tbody>\n    <tr>\n      <th>0</th>\n      <td>tempe</td>\n      <td>alami</td>\n      <td>10</td>\n      <td>per-pack</td>\n      <td>3000</td>\n      <td>30000</td>\n    </tr>\n    <tr>\n      <th>1</th>\n      <td>tahu</td>\n      <td>alami</td>\n      <td>10</td>\n      <td>per-pack</td>\n      <td>2500</td>\n      <td>25000</td>\n    </tr>\n  </tbody>\n</table>\n</div>"
     },
     "execution_count": 142,
     "metadata": {},
     "output_type": "execute_result"
    }
   ],
   "source": [
    "#sortir dataframe dengan query\n",
    "#mensortir barang dengan jumlah lebih dari 5\n",
    "df_belanjaan.query(\"jumlah > 5\")"
   ],
   "metadata": {
    "collapsed": false
   }
  },
  {
   "cell_type": "code",
   "execution_count": 143,
   "outputs": [
    {
     "data": {
      "text/plain": "  belanjaan  jenis  jumlah  satuan  harga_satuan  jumlah x harga_satuan\n2     beras  alami       3  per-Kg         10000                  30000",
      "text/html": "<div>\n<style scoped>\n    .dataframe tbody tr th:only-of-type {\n        vertical-align: middle;\n    }\n\n    .dataframe tbody tr th {\n        vertical-align: top;\n    }\n\n    .dataframe thead th {\n        text-align: right;\n    }\n</style>\n<table border=\"1\" class=\"dataframe\">\n  <thead>\n    <tr style=\"text-align: right;\">\n      <th></th>\n      <th>belanjaan</th>\n      <th>jenis</th>\n      <th>jumlah</th>\n      <th>satuan</th>\n      <th>harga_satuan</th>\n      <th>jumlah x harga_satuan</th>\n    </tr>\n  </thead>\n  <tbody>\n    <tr>\n      <th>2</th>\n      <td>beras</td>\n      <td>alami</td>\n      <td>3</td>\n      <td>per-Kg</td>\n      <td>10000</td>\n      <td>30000</td>\n    </tr>\n  </tbody>\n</table>\n</div>"
     },
     "execution_count": 143,
     "metadata": {},
     "output_type": "execute_result"
    }
   ],
   "source": [
    "#mensortir barang dengan suatu nilai tertentu\n",
    "df_belanjaan.query(\"belanjaan == 'beras' \")"
   ],
   "metadata": {
    "collapsed": false
   }
  },
  {
   "cell_type": "code",
   "execution_count": 144,
   "outputs": [
    {
     "data": {
      "text/plain": "  belanjaan  jenis  jumlah    satuan  harga_satuan  jumlah x harga_satuan\n0     tempe  alami      10  per-pack          3000                  30000\n1      tahu  alami      10  per-pack          2500                  25000",
      "text/html": "<div>\n<style scoped>\n    .dataframe tbody tr th:only-of-type {\n        vertical-align: middle;\n    }\n\n    .dataframe tbody tr th {\n        vertical-align: top;\n    }\n\n    .dataframe thead th {\n        text-align: right;\n    }\n</style>\n<table border=\"1\" class=\"dataframe\">\n  <thead>\n    <tr style=\"text-align: right;\">\n      <th></th>\n      <th>belanjaan</th>\n      <th>jenis</th>\n      <th>jumlah</th>\n      <th>satuan</th>\n      <th>harga_satuan</th>\n      <th>jumlah x harga_satuan</th>\n    </tr>\n  </thead>\n  <tbody>\n    <tr>\n      <th>0</th>\n      <td>tempe</td>\n      <td>alami</td>\n      <td>10</td>\n      <td>per-pack</td>\n      <td>3000</td>\n      <td>30000</td>\n    </tr>\n    <tr>\n      <th>1</th>\n      <td>tahu</td>\n      <td>alami</td>\n      <td>10</td>\n      <td>per-pack</td>\n      <td>2500</td>\n      <td>25000</td>\n    </tr>\n  </tbody>\n</table>\n</div>"
     },
     "execution_count": 144,
     "metadata": {},
     "output_type": "execute_result"
    }
   ],
   "source": [
    "#mensortir barang dengan suatu nilai tertentu\n",
    "df_belanjaan.query(f\"jumlah == {10} \")"
   ],
   "metadata": {
    "collapsed": false
   }
  },
  {
   "cell_type": "code",
   "execution_count": 145,
   "outputs": [
    {
     "data": {
      "text/plain": "  belanjaan  jenis  jumlah    satuan  harga_satuan  jumlah x harga_satuan\n0     tempe  alami      10  per-pack          3000                  30000\n2     beras  alami       3    per-Kg         10000                  30000\n4     tomat  alami       4    per-Kg          6000                  24000",
      "text/html": "<div>\n<style scoped>\n    .dataframe tbody tr th:only-of-type {\n        vertical-align: middle;\n    }\n\n    .dataframe tbody tr th {\n        vertical-align: top;\n    }\n\n    .dataframe thead th {\n        text-align: right;\n    }\n</style>\n<table border=\"1\" class=\"dataframe\">\n  <thead>\n    <tr style=\"text-align: right;\">\n      <th></th>\n      <th>belanjaan</th>\n      <th>jenis</th>\n      <th>jumlah</th>\n      <th>satuan</th>\n      <th>harga_satuan</th>\n      <th>jumlah x harga_satuan</th>\n    </tr>\n  </thead>\n  <tbody>\n    <tr>\n      <th>0</th>\n      <td>tempe</td>\n      <td>alami</td>\n      <td>10</td>\n      <td>per-pack</td>\n      <td>3000</td>\n      <td>30000</td>\n    </tr>\n    <tr>\n      <th>2</th>\n      <td>beras</td>\n      <td>alami</td>\n      <td>3</td>\n      <td>per-Kg</td>\n      <td>10000</td>\n      <td>30000</td>\n    </tr>\n    <tr>\n      <th>4</th>\n      <td>tomat</td>\n      <td>alami</td>\n      <td>4</td>\n      <td>per-Kg</td>\n      <td>6000</td>\n      <td>24000</td>\n    </tr>\n  </tbody>\n</table>\n</div>"
     },
     "execution_count": 145,
     "metadata": {},
     "output_type": "execute_result"
    }
   ],
   "source": [
    "#mensortir barang dengan multi kriteria\n",
    "df_belanjaan.query(f\"harga_satuan > {2700} and jumlah > {2} \")"
   ],
   "metadata": {
    "collapsed": false
   }
  },
  {
   "cell_type": "code",
   "execution_count": 12,
   "outputs": [
    {
     "data": {
      "text/plain": "          jumlah  harga_satuan  jumlah x harga_satuan\njenis                                                \nalami         27         21500                 109000\npabrikan       2         27000                  27000",
      "text/html": "<div>\n<style scoped>\n    .dataframe tbody tr th:only-of-type {\n        vertical-align: middle;\n    }\n\n    .dataframe tbody tr th {\n        vertical-align: top;\n    }\n\n    .dataframe thead th {\n        text-align: right;\n    }\n</style>\n<table border=\"1\" class=\"dataframe\">\n  <thead>\n    <tr style=\"text-align: right;\">\n      <th></th>\n      <th>jumlah</th>\n      <th>harga_satuan</th>\n      <th>jumlah x harga_satuan</th>\n    </tr>\n    <tr>\n      <th>jenis</th>\n      <th></th>\n      <th></th>\n      <th></th>\n    </tr>\n  </thead>\n  <tbody>\n    <tr>\n      <th>alami</th>\n      <td>27</td>\n      <td>21500</td>\n      <td>109000</td>\n    </tr>\n    <tr>\n      <th>pabrikan</th>\n      <td>2</td>\n      <td>27000</td>\n      <td>27000</td>\n    </tr>\n  </tbody>\n</table>\n</div>"
     },
     "execution_count": 12,
     "metadata": {},
     "output_type": "execute_result"
    }
   ],
   "source": [
    "#melakukan analisis based on group \"sum\"\n",
    "df_belanjaan.groupby(by=\"jenis\").sum()"
   ],
   "metadata": {
    "collapsed": false
   }
  },
  {
   "cell_type": "code",
   "execution_count": 13,
   "outputs": [
    {
     "data": {
      "text/plain": "  belanjaan  jenis  jumlah    satuan  harga_satuan  jumlah x harga_satuan\n0     tempe  alami      10  per-pack          3000                  30000\n1      tahu  alami      10  per-pack          2500                  25000\n4     tomat  alami       4    per-Kg          6000                  24000",
      "text/html": "<div>\n<style scoped>\n    .dataframe tbody tr th:only-of-type {\n        vertical-align: middle;\n    }\n\n    .dataframe tbody tr th {\n        vertical-align: top;\n    }\n\n    .dataframe thead th {\n        text-align: right;\n    }\n</style>\n<table border=\"1\" class=\"dataframe\">\n  <thead>\n    <tr style=\"text-align: right;\">\n      <th></th>\n      <th>belanjaan</th>\n      <th>jenis</th>\n      <th>jumlah</th>\n      <th>satuan</th>\n      <th>harga_satuan</th>\n      <th>jumlah x harga_satuan</th>\n    </tr>\n  </thead>\n  <tbody>\n    <tr>\n      <th>0</th>\n      <td>tempe</td>\n      <td>alami</td>\n      <td>10</td>\n      <td>per-pack</td>\n      <td>3000</td>\n      <td>30000</td>\n    </tr>\n    <tr>\n      <th>1</th>\n      <td>tahu</td>\n      <td>alami</td>\n      <td>10</td>\n      <td>per-pack</td>\n      <td>2500</td>\n      <td>25000</td>\n    </tr>\n    <tr>\n      <th>4</th>\n      <td>tomat</td>\n      <td>alami</td>\n      <td>4</td>\n      <td>per-Kg</td>\n      <td>6000</td>\n      <td>24000</td>\n    </tr>\n  </tbody>\n</table>\n</div>"
     },
     "execution_count": 13,
     "metadata": {},
     "output_type": "execute_result"
    }
   ],
   "source": [
    "#melakukan ranking 3 teratas based on jumlah\n",
    "df_belanjaan.nlargest(3, \"jumlah\")"
   ],
   "metadata": {
    "collapsed": false
   }
  },
  {
   "cell_type": "code",
   "execution_count": 14,
   "outputs": [
    {
     "data": {
      "text/plain": "  belanjaan  jenis  jumlah    satuan  harga_satuan  jumlah x harga_satuan\n1      tahu  alami      10  per-pack          2500                  25000\n0     tempe  alami      10  per-pack          3000                  30000\n4     tomat  alami       4    per-Kg          6000                  24000",
      "text/html": "<div>\n<style scoped>\n    .dataframe tbody tr th:only-of-type {\n        vertical-align: middle;\n    }\n\n    .dataframe tbody tr th {\n        vertical-align: top;\n    }\n\n    .dataframe thead th {\n        text-align: right;\n    }\n</style>\n<table border=\"1\" class=\"dataframe\">\n  <thead>\n    <tr style=\"text-align: right;\">\n      <th></th>\n      <th>belanjaan</th>\n      <th>jenis</th>\n      <th>jumlah</th>\n      <th>satuan</th>\n      <th>harga_satuan</th>\n      <th>jumlah x harga_satuan</th>\n    </tr>\n  </thead>\n  <tbody>\n    <tr>\n      <th>1</th>\n      <td>tahu</td>\n      <td>alami</td>\n      <td>10</td>\n      <td>per-pack</td>\n      <td>2500</td>\n      <td>25000</td>\n    </tr>\n    <tr>\n      <th>0</th>\n      <td>tempe</td>\n      <td>alami</td>\n      <td>10</td>\n      <td>per-pack</td>\n      <td>3000</td>\n      <td>30000</td>\n    </tr>\n    <tr>\n      <th>4</th>\n      <td>tomat</td>\n      <td>alami</td>\n      <td>4</td>\n      <td>per-Kg</td>\n      <td>6000</td>\n      <td>24000</td>\n    </tr>\n  </tbody>\n</table>\n</div>"
     },
     "execution_count": 14,
     "metadata": {},
     "output_type": "execute_result"
    }
   ],
   "source": [
    "#melakukan ranking 3 barang termurah\n",
    "df_belanjaan.nsmallest(3, \"harga_satuan\")"
   ],
   "metadata": {
    "collapsed": false
   }
  },
  {
   "cell_type": "code",
   "execution_count": 15,
   "outputs": [
    {
     "data": {
      "text/plain": "   belanjaan     jenis  jumlah     satuan  harga_satuan  jumlah x harga_satuan\n0      tempe     alami      10   per-pack          3000                  30000\n1       tahu     alami      10   per-pack          2500                  25000\n2      beras     alami       3     per-Kg         10000                  30000\n3      kecap  pabrikan       1  per-botol         15000                  15000\n4      tomat     alami       4     per-Kg          6000                  24000\n5  mayonaise  pabrikan       1  per-botol         12000                  12000",
      "text/html": "<div>\n<style scoped>\n    .dataframe tbody tr th:only-of-type {\n        vertical-align: middle;\n    }\n\n    .dataframe tbody tr th {\n        vertical-align: top;\n    }\n\n    .dataframe thead th {\n        text-align: right;\n    }\n</style>\n<table border=\"1\" class=\"dataframe\">\n  <thead>\n    <tr style=\"text-align: right;\">\n      <th></th>\n      <th>belanjaan</th>\n      <th>jenis</th>\n      <th>jumlah</th>\n      <th>satuan</th>\n      <th>harga_satuan</th>\n      <th>jumlah x harga_satuan</th>\n    </tr>\n  </thead>\n  <tbody>\n    <tr>\n      <th>0</th>\n      <td>tempe</td>\n      <td>alami</td>\n      <td>10</td>\n      <td>per-pack</td>\n      <td>3000</td>\n      <td>30000</td>\n    </tr>\n    <tr>\n      <th>1</th>\n      <td>tahu</td>\n      <td>alami</td>\n      <td>10</td>\n      <td>per-pack</td>\n      <td>2500</td>\n      <td>25000</td>\n    </tr>\n    <tr>\n      <th>2</th>\n      <td>beras</td>\n      <td>alami</td>\n      <td>3</td>\n      <td>per-Kg</td>\n      <td>10000</td>\n      <td>30000</td>\n    </tr>\n    <tr>\n      <th>3</th>\n      <td>kecap</td>\n      <td>pabrikan</td>\n      <td>1</td>\n      <td>per-botol</td>\n      <td>15000</td>\n      <td>15000</td>\n    </tr>\n    <tr>\n      <th>4</th>\n      <td>tomat</td>\n      <td>alami</td>\n      <td>4</td>\n      <td>per-Kg</td>\n      <td>6000</td>\n      <td>24000</td>\n    </tr>\n    <tr>\n      <th>5</th>\n      <td>mayonaise</td>\n      <td>pabrikan</td>\n      <td>1</td>\n      <td>per-botol</td>\n      <td>12000</td>\n      <td>12000</td>\n    </tr>\n  </tbody>\n</table>\n</div>"
     },
     "execution_count": 15,
     "metadata": {},
     "output_type": "execute_result"
    }
   ],
   "source": [
    "df_belanjaan"
   ],
   "metadata": {
    "collapsed": false
   }
  },
  {
   "cell_type": "code",
   "execution_count": 16,
   "outputs": [
    {
     "data": {
      "text/plain": "15000"
     },
     "execution_count": 16,
     "metadata": {},
     "output_type": "execute_result"
    }
   ],
   "source": [
    "#fungsi df.iloc dan df.loc untuk data slicing (pemotongan)\n",
    "#untuk mengetahui nilai cell pada koordinat yang dituju\n",
    "#code dibawah menghasilkan nilai yang sama yaitu 15000\n",
    "#perbedaan 1: iloc menggunakan index angka, sedangkan loc menggunakan 'nama' dari index row dan kolom\n",
    "\n",
    "df_belanjaan.iloc[3,4]"
   ],
   "metadata": {
    "collapsed": false
   }
  },
  {
   "cell_type": "code",
   "execution_count": 17,
   "outputs": [
    {
     "data": {
      "text/plain": "15000"
     },
     "execution_count": 17,
     "metadata": {},
     "output_type": "execute_result"
    }
   ],
   "source": [
    "#slicing menggunakan loc. Function loc menggunakan 'nama' dari index row dan kolom\n",
    "df_belanjaan.loc[3,'harga_satuan']"
   ],
   "metadata": {
    "collapsed": false
   }
  },
  {
   "cell_type": "code",
   "execution_count": 18,
   "outputs": [
    {
     "data": {
      "text/plain": "belanjaan                    kecap\njenis                     pabrikan\njumlah                           1\nsatuan                   per-botol\nharga_satuan                 15000\njumlah x harga_satuan        15000\nName: 3, dtype: object"
     },
     "execution_count": 18,
     "metadata": {},
     "output_type": "execute_result"
    }
   ],
   "source": [
    "#iloc dan loc dengan satu angka akan memberikan nilai row\n",
    "#code dibawah untuk mengetahui row nomor 3\n",
    "\n",
    "df_belanjaan.iloc[3]"
   ],
   "metadata": {
    "collapsed": false
   }
  },
  {
   "cell_type": "code",
   "execution_count": 19,
   "outputs": [
    {
     "data": {
      "text/plain": "belanjaan                    kecap\njenis                     pabrikan\njumlah                           1\nsatuan                   per-botol\nharga_satuan                 15000\njumlah x harga_satuan        15000\nName: 3, dtype: object"
     },
     "execution_count": 19,
     "metadata": {},
     "output_type": "execute_result"
    }
   ],
   "source": [
    "df_belanjaan.loc[3]"
   ],
   "metadata": {
    "collapsed": false
   }
  },
  {
   "cell_type": "code",
   "execution_count": 20,
   "outputs": [
    {
     "data": {
      "text/plain": "   belanjaan     jenis  jumlah     satuan  harga_satuan  jumlah x harga_satuan\n0      tempe     alami      10   per-pack          3000                  30000\n1       tahu     alami      10   per-pack          2500                  25000\n2      beras     alami       3     per-Kg         10000                  30000\n3      kecap  pabrikan       1  per-botol         15000                  15000\n4      tomat     alami       4     per-Kg          6000                  24000\n5  mayonaise  pabrikan       1  per-botol         12000                  12000",
      "text/html": "<div>\n<style scoped>\n    .dataframe tbody tr th:only-of-type {\n        vertical-align: middle;\n    }\n\n    .dataframe tbody tr th {\n        vertical-align: top;\n    }\n\n    .dataframe thead th {\n        text-align: right;\n    }\n</style>\n<table border=\"1\" class=\"dataframe\">\n  <thead>\n    <tr style=\"text-align: right;\">\n      <th></th>\n      <th>belanjaan</th>\n      <th>jenis</th>\n      <th>jumlah</th>\n      <th>satuan</th>\n      <th>harga_satuan</th>\n      <th>jumlah x harga_satuan</th>\n    </tr>\n  </thead>\n  <tbody>\n    <tr>\n      <th>0</th>\n      <td>tempe</td>\n      <td>alami</td>\n      <td>10</td>\n      <td>per-pack</td>\n      <td>3000</td>\n      <td>30000</td>\n    </tr>\n    <tr>\n      <th>1</th>\n      <td>tahu</td>\n      <td>alami</td>\n      <td>10</td>\n      <td>per-pack</td>\n      <td>2500</td>\n      <td>25000</td>\n    </tr>\n    <tr>\n      <th>2</th>\n      <td>beras</td>\n      <td>alami</td>\n      <td>3</td>\n      <td>per-Kg</td>\n      <td>10000</td>\n      <td>30000</td>\n    </tr>\n    <tr>\n      <th>3</th>\n      <td>kecap</td>\n      <td>pabrikan</td>\n      <td>1</td>\n      <td>per-botol</td>\n      <td>15000</td>\n      <td>15000</td>\n    </tr>\n    <tr>\n      <th>4</th>\n      <td>tomat</td>\n      <td>alami</td>\n      <td>4</td>\n      <td>per-Kg</td>\n      <td>6000</td>\n      <td>24000</td>\n    </tr>\n    <tr>\n      <th>5</th>\n      <td>mayonaise</td>\n      <td>pabrikan</td>\n      <td>1</td>\n      <td>per-botol</td>\n      <td>12000</td>\n      <td>12000</td>\n    </tr>\n  </tbody>\n</table>\n</div>"
     },
     "execution_count": 20,
     "metadata": {},
     "output_type": "execute_result"
    }
   ],
   "source": [
    "#dataframe_anda.iloc [row_awal:row_akhir   ,  kolom_awal:kolom_akhir ]\n",
    "#dalam bentuk index angka row dan kolom\n",
    "\n",
    "#code dibawah untuk menampilkan semua data, jika awal dan akhir row/kolom dikosongi\n",
    "df_belanjaan.iloc[ : , :]"
   ],
   "metadata": {
    "collapsed": false
   }
  },
  {
   "cell_type": "code",
   "execution_count": 21,
   "outputs": [
    {
     "data": {
      "text/plain": "   belanjaan     jenis  jumlah     satuan  harga_satuan  jumlah x harga_satuan\n0      tempe     alami      10   per-pack          3000                  30000\n1       tahu     alami      10   per-pack          2500                  25000\n2      beras     alami       3     per-Kg         10000                  30000\n3      kecap  pabrikan       1  per-botol         15000                  15000\n4      tomat     alami       4     per-Kg          6000                  24000\n5  mayonaise  pabrikan       1  per-botol         12000                  12000",
      "text/html": "<div>\n<style scoped>\n    .dataframe tbody tr th:only-of-type {\n        vertical-align: middle;\n    }\n\n    .dataframe tbody tr th {\n        vertical-align: top;\n    }\n\n    .dataframe thead th {\n        text-align: right;\n    }\n</style>\n<table border=\"1\" class=\"dataframe\">\n  <thead>\n    <tr style=\"text-align: right;\">\n      <th></th>\n      <th>belanjaan</th>\n      <th>jenis</th>\n      <th>jumlah</th>\n      <th>satuan</th>\n      <th>harga_satuan</th>\n      <th>jumlah x harga_satuan</th>\n    </tr>\n  </thead>\n  <tbody>\n    <tr>\n      <th>0</th>\n      <td>tempe</td>\n      <td>alami</td>\n      <td>10</td>\n      <td>per-pack</td>\n      <td>3000</td>\n      <td>30000</td>\n    </tr>\n    <tr>\n      <th>1</th>\n      <td>tahu</td>\n      <td>alami</td>\n      <td>10</td>\n      <td>per-pack</td>\n      <td>2500</td>\n      <td>25000</td>\n    </tr>\n    <tr>\n      <th>2</th>\n      <td>beras</td>\n      <td>alami</td>\n      <td>3</td>\n      <td>per-Kg</td>\n      <td>10000</td>\n      <td>30000</td>\n    </tr>\n    <tr>\n      <th>3</th>\n      <td>kecap</td>\n      <td>pabrikan</td>\n      <td>1</td>\n      <td>per-botol</td>\n      <td>15000</td>\n      <td>15000</td>\n    </tr>\n    <tr>\n      <th>4</th>\n      <td>tomat</td>\n      <td>alami</td>\n      <td>4</td>\n      <td>per-Kg</td>\n      <td>6000</td>\n      <td>24000</td>\n    </tr>\n    <tr>\n      <th>5</th>\n      <td>mayonaise</td>\n      <td>pabrikan</td>\n      <td>1</td>\n      <td>per-botol</td>\n      <td>12000</td>\n      <td>12000</td>\n    </tr>\n  </tbody>\n</table>\n</div>"
     },
     "execution_count": 21,
     "metadata": {},
     "output_type": "execute_result"
    }
   ],
   "source": [
    "#dataframe_anda.loc [row_awal:row_akhir   ,  kolom_awal:kolom_akhir ]\n",
    "#dalam bentuk \"nama\" dari index row dan kolom\n",
    "\n",
    "#code dibawah untuk menampilkan semua data, jika awal dan akhir row/kolom dikosongi\n",
    "df_belanjaan.loc[ : , :]"
   ],
   "metadata": {
    "collapsed": false
   }
  },
  {
   "cell_type": "code",
   "execution_count": 22,
   "outputs": [
    {
     "data": {
      "text/plain": "  belanjaan  jenis  jumlah    satuan  harga_satuan  jumlah x harga_satuan\n0     tempe  alami      10  per-pack          3000                  30000\n1      tahu  alami      10  per-pack          2500                  25000\n2     beras  alami       3    per-Kg         10000                  30000",
      "text/html": "<div>\n<style scoped>\n    .dataframe tbody tr th:only-of-type {\n        vertical-align: middle;\n    }\n\n    .dataframe tbody tr th {\n        vertical-align: top;\n    }\n\n    .dataframe thead th {\n        text-align: right;\n    }\n</style>\n<table border=\"1\" class=\"dataframe\">\n  <thead>\n    <tr style=\"text-align: right;\">\n      <th></th>\n      <th>belanjaan</th>\n      <th>jenis</th>\n      <th>jumlah</th>\n      <th>satuan</th>\n      <th>harga_satuan</th>\n      <th>jumlah x harga_satuan</th>\n    </tr>\n  </thead>\n  <tbody>\n    <tr>\n      <th>0</th>\n      <td>tempe</td>\n      <td>alami</td>\n      <td>10</td>\n      <td>per-pack</td>\n      <td>3000</td>\n      <td>30000</td>\n    </tr>\n    <tr>\n      <th>1</th>\n      <td>tahu</td>\n      <td>alami</td>\n      <td>10</td>\n      <td>per-pack</td>\n      <td>2500</td>\n      <td>25000</td>\n    </tr>\n    <tr>\n      <th>2</th>\n      <td>beras</td>\n      <td>alami</td>\n      <td>3</td>\n      <td>per-Kg</td>\n      <td>10000</td>\n      <td>30000</td>\n    </tr>\n  </tbody>\n</table>\n</div>"
     },
     "execution_count": 22,
     "metadata": {},
     "output_type": "execute_result"
    }
   ],
   "source": [
    "#perbedaan 2:\n",
    "#jika setelah koma dikosongi maka  dataframe_anda.iloc [row_awal:row_akhir]\n",
    "#dengan iloc: code dibawah untuk memotong/mengambil data pada row 0 - 2\n",
    "df_belanjaan.iloc[0:3]"
   ],
   "metadata": {
    "collapsed": false
   }
  },
  {
   "cell_type": "code",
   "execution_count": 23,
   "outputs": [
    {
     "data": {
      "text/plain": "  belanjaan     jenis  jumlah     satuan  harga_satuan  jumlah x harga_satuan\n0     tempe     alami      10   per-pack          3000                  30000\n1      tahu     alami      10   per-pack          2500                  25000\n2     beras     alami       3     per-Kg         10000                  30000\n3     kecap  pabrikan       1  per-botol         15000                  15000",
      "text/html": "<div>\n<style scoped>\n    .dataframe tbody tr th:only-of-type {\n        vertical-align: middle;\n    }\n\n    .dataframe tbody tr th {\n        vertical-align: top;\n    }\n\n    .dataframe thead th {\n        text-align: right;\n    }\n</style>\n<table border=\"1\" class=\"dataframe\">\n  <thead>\n    <tr style=\"text-align: right;\">\n      <th></th>\n      <th>belanjaan</th>\n      <th>jenis</th>\n      <th>jumlah</th>\n      <th>satuan</th>\n      <th>harga_satuan</th>\n      <th>jumlah x harga_satuan</th>\n    </tr>\n  </thead>\n  <tbody>\n    <tr>\n      <th>0</th>\n      <td>tempe</td>\n      <td>alami</td>\n      <td>10</td>\n      <td>per-pack</td>\n      <td>3000</td>\n      <td>30000</td>\n    </tr>\n    <tr>\n      <th>1</th>\n      <td>tahu</td>\n      <td>alami</td>\n      <td>10</td>\n      <td>per-pack</td>\n      <td>2500</td>\n      <td>25000</td>\n    </tr>\n    <tr>\n      <th>2</th>\n      <td>beras</td>\n      <td>alami</td>\n      <td>3</td>\n      <td>per-Kg</td>\n      <td>10000</td>\n      <td>30000</td>\n    </tr>\n    <tr>\n      <th>3</th>\n      <td>kecap</td>\n      <td>pabrikan</td>\n      <td>1</td>\n      <td>per-botol</td>\n      <td>15000</td>\n      <td>15000</td>\n    </tr>\n  </tbody>\n</table>\n</div>"
     },
     "execution_count": 23,
     "metadata": {},
     "output_type": "execute_result"
    }
   ],
   "source": [
    "#dengan loc: code dibawah untuk mensortir data pada row 0 - 3\n",
    "#jika setelah koma dikosongi maka  dataframe_anda.iloc [row_awal:row_akhir]\n",
    "df_belanjaan.loc[0:3]"
   ],
   "metadata": {
    "collapsed": false
   }
  },
  {
   "cell_type": "code",
   "execution_count": 24,
   "outputs": [
    {
     "data": {
      "text/plain": "0    alami\n1    alami\n2    alami\nName: jenis, dtype: object"
     },
     "execution_count": 24,
     "metadata": {},
     "output_type": "execute_result"
    }
   ],
   "source": [
    "#setelah koma, baik iloc maupun loc adalah koordinat posisi kolom yang diinginkan\n",
    "#dengan code dibawah, akan di slice pada row index 0 - 2, dan kolom jenis\n",
    "df_belanjaan.iloc[0:3 , 1]"
   ],
   "metadata": {
    "collapsed": false
   }
  },
  {
   "cell_type": "code",
   "execution_count": 25,
   "outputs": [
    {
     "data": {
      "text/plain": "0       alami\n1       alami\n2       alami\n3    pabrikan\nName: jenis, dtype: object"
     },
     "execution_count": 25,
     "metadata": {},
     "output_type": "execute_result"
    }
   ],
   "source": [
    "#setelah koma baik iloc maupun loc adalah posisi kolom yang diinginkan\n",
    "#dengan code dibawah, akan di slice pada row index 0 - 3, dan kolom jenis\n",
    "df_belanjaan.loc[0:3 , 'jenis']"
   ],
   "metadata": {
    "collapsed": false
   }
  },
  {
   "cell_type": "code",
   "execution_count": 26,
   "outputs": [
    {
     "data": {
      "text/plain": "  belanjaan  harga_satuan\n0     tempe          3000\n1      tahu          2500\n2     beras         10000",
      "text/html": "<div>\n<style scoped>\n    .dataframe tbody tr th:only-of-type {\n        vertical-align: middle;\n    }\n\n    .dataframe tbody tr th {\n        vertical-align: top;\n    }\n\n    .dataframe thead th {\n        text-align: right;\n    }\n</style>\n<table border=\"1\" class=\"dataframe\">\n  <thead>\n    <tr style=\"text-align: right;\">\n      <th></th>\n      <th>belanjaan</th>\n      <th>harga_satuan</th>\n    </tr>\n  </thead>\n  <tbody>\n    <tr>\n      <th>0</th>\n      <td>tempe</td>\n      <td>3000</td>\n    </tr>\n    <tr>\n      <th>1</th>\n      <td>tahu</td>\n      <td>2500</td>\n    </tr>\n    <tr>\n      <th>2</th>\n      <td>beras</td>\n      <td>10000</td>\n    </tr>\n  </tbody>\n</table>\n</div>"
     },
     "execution_count": 26,
     "metadata": {},
     "output_type": "execute_result"
    }
   ],
   "source": [
    "#setelah koma baik iloc maupun loc adalah posisi kolom yang diinginkan\n",
    "#dengan code dibawah, akan di slice pada row index 0 - 2, dan kolom belanjaan dan harga satuan\n",
    "df_belanjaan.iloc[0:3 , [0,4]]"
   ],
   "metadata": {
    "collapsed": false
   }
  },
  {
   "cell_type": "code",
   "execution_count": 27,
   "outputs": [
    {
     "data": {
      "text/plain": "  belanjaan  harga_satuan\n0     tempe          3000\n1      tahu          2500\n2     beras         10000\n3     kecap         15000",
      "text/html": "<div>\n<style scoped>\n    .dataframe tbody tr th:only-of-type {\n        vertical-align: middle;\n    }\n\n    .dataframe tbody tr th {\n        vertical-align: top;\n    }\n\n    .dataframe thead th {\n        text-align: right;\n    }\n</style>\n<table border=\"1\" class=\"dataframe\">\n  <thead>\n    <tr style=\"text-align: right;\">\n      <th></th>\n      <th>belanjaan</th>\n      <th>harga_satuan</th>\n    </tr>\n  </thead>\n  <tbody>\n    <tr>\n      <th>0</th>\n      <td>tempe</td>\n      <td>3000</td>\n    </tr>\n    <tr>\n      <th>1</th>\n      <td>tahu</td>\n      <td>2500</td>\n    </tr>\n    <tr>\n      <th>2</th>\n      <td>beras</td>\n      <td>10000</td>\n    </tr>\n    <tr>\n      <th>3</th>\n      <td>kecap</td>\n      <td>15000</td>\n    </tr>\n  </tbody>\n</table>\n</div>"
     },
     "execution_count": 27,
     "metadata": {},
     "output_type": "execute_result"
    }
   ],
   "source": [
    "#dengan code dibawah, akan di slice pada row index 0 - 3, dan kolom belanjaan dan harga satuan\n",
    "df_belanjaan.loc[0:3 , ['belanjaan','harga_satuan']]"
   ],
   "metadata": {
    "collapsed": false
   }
  },
  {
   "cell_type": "code",
   "execution_count": 28,
   "outputs": [
    {
     "data": {
      "text/plain": "              jenis  jumlah     satuan  harga_satuan  jumlah x harga_satuan\nbelanjaan                                                                  \ntempe         alami      10   per-pack          3000                  30000\ntahu          alami      10   per-pack          2500                  25000\nberas         alami       3     per-Kg         10000                  30000\nkecap      pabrikan       1  per-botol         15000                  15000\ntomat         alami       4     per-Kg          6000                  24000\nmayonaise  pabrikan       1  per-botol         12000                  12000",
      "text/html": "<div>\n<style scoped>\n    .dataframe tbody tr th:only-of-type {\n        vertical-align: middle;\n    }\n\n    .dataframe tbody tr th {\n        vertical-align: top;\n    }\n\n    .dataframe thead th {\n        text-align: right;\n    }\n</style>\n<table border=\"1\" class=\"dataframe\">\n  <thead>\n    <tr style=\"text-align: right;\">\n      <th></th>\n      <th>jenis</th>\n      <th>jumlah</th>\n      <th>satuan</th>\n      <th>harga_satuan</th>\n      <th>jumlah x harga_satuan</th>\n    </tr>\n    <tr>\n      <th>belanjaan</th>\n      <th></th>\n      <th></th>\n      <th></th>\n      <th></th>\n      <th></th>\n    </tr>\n  </thead>\n  <tbody>\n    <tr>\n      <th>tempe</th>\n      <td>alami</td>\n      <td>10</td>\n      <td>per-pack</td>\n      <td>3000</td>\n      <td>30000</td>\n    </tr>\n    <tr>\n      <th>tahu</th>\n      <td>alami</td>\n      <td>10</td>\n      <td>per-pack</td>\n      <td>2500</td>\n      <td>25000</td>\n    </tr>\n    <tr>\n      <th>beras</th>\n      <td>alami</td>\n      <td>3</td>\n      <td>per-Kg</td>\n      <td>10000</td>\n      <td>30000</td>\n    </tr>\n    <tr>\n      <th>kecap</th>\n      <td>pabrikan</td>\n      <td>1</td>\n      <td>per-botol</td>\n      <td>15000</td>\n      <td>15000</td>\n    </tr>\n    <tr>\n      <th>tomat</th>\n      <td>alami</td>\n      <td>4</td>\n      <td>per-Kg</td>\n      <td>6000</td>\n      <td>24000</td>\n    </tr>\n    <tr>\n      <th>mayonaise</th>\n      <td>pabrikan</td>\n      <td>1</td>\n      <td>per-botol</td>\n      <td>12000</td>\n      <td>12000</td>\n    </tr>\n  </tbody>\n</table>\n</div>"
     },
     "execution_count": 28,
     "metadata": {},
     "output_type": "execute_result"
    }
   ],
   "source": [
    "#merubah index kolom menjadi suatu kolom\n",
    "#merubah index kolom ke nama belanjaan\n",
    "#code dibawah menggunakan nama variable baru untuk melakukan saving perubahan data,\n",
    "#dalam hal ini adalah perubahan index. tidak merubah dataframe lama\n",
    "\n",
    "df_belanjaan_indexbaru = df_belanjaan.set_index('belanjaan')\n",
    "df_belanjaan_indexbaru"
   ],
   "metadata": {
    "collapsed": false
   }
  },
  {
   "cell_type": "code",
   "execution_count": 29,
   "outputs": [
    {
     "data": {
      "text/plain": "              jenis  jumlah     satuan  harga_satuan  jumlah x harga_satuan\nbelanjaan                                                                  \ntempe         alami      10   per-pack          3000                  30000\ntahu          alami      10   per-pack          2500                  25000\nberas         alami       3     per-Kg         10000                  30000\nkecap      pabrikan       1  per-botol         15000                  15000\ntomat         alami       4     per-Kg          6000                  24000\nmayonaise  pabrikan       1  per-botol         12000                  12000",
      "text/html": "<div>\n<style scoped>\n    .dataframe tbody tr th:only-of-type {\n        vertical-align: middle;\n    }\n\n    .dataframe tbody tr th {\n        vertical-align: top;\n    }\n\n    .dataframe thead th {\n        text-align: right;\n    }\n</style>\n<table border=\"1\" class=\"dataframe\">\n  <thead>\n    <tr style=\"text-align: right;\">\n      <th></th>\n      <th>jenis</th>\n      <th>jumlah</th>\n      <th>satuan</th>\n      <th>harga_satuan</th>\n      <th>jumlah x harga_satuan</th>\n    </tr>\n    <tr>\n      <th>belanjaan</th>\n      <th></th>\n      <th></th>\n      <th></th>\n      <th></th>\n      <th></th>\n    </tr>\n  </thead>\n  <tbody>\n    <tr>\n      <th>tempe</th>\n      <td>alami</td>\n      <td>10</td>\n      <td>per-pack</td>\n      <td>3000</td>\n      <td>30000</td>\n    </tr>\n    <tr>\n      <th>tahu</th>\n      <td>alami</td>\n      <td>10</td>\n      <td>per-pack</td>\n      <td>2500</td>\n      <td>25000</td>\n    </tr>\n    <tr>\n      <th>beras</th>\n      <td>alami</td>\n      <td>3</td>\n      <td>per-Kg</td>\n      <td>10000</td>\n      <td>30000</td>\n    </tr>\n    <tr>\n      <th>kecap</th>\n      <td>pabrikan</td>\n      <td>1</td>\n      <td>per-botol</td>\n      <td>15000</td>\n      <td>15000</td>\n    </tr>\n    <tr>\n      <th>tomat</th>\n      <td>alami</td>\n      <td>4</td>\n      <td>per-Kg</td>\n      <td>6000</td>\n      <td>24000</td>\n    </tr>\n    <tr>\n      <th>mayonaise</th>\n      <td>pabrikan</td>\n      <td>1</td>\n      <td>per-botol</td>\n      <td>12000</td>\n      <td>12000</td>\n    </tr>\n  </tbody>\n</table>\n</div>"
     },
     "execution_count": 29,
     "metadata": {},
     "output_type": "execute_result"
    }
   ],
   "source": [
    "#jika ingin menggunakan variable nama yang lama, atau\n",
    "#ingin mereplace data yang lama dengan index baru, maka gunakan inplace\n",
    "\n",
    "df_belanjaan.set_index('belanjaan', inplace=True)\n",
    "df_belanjaan"
   ],
   "metadata": {
    "collapsed": false
   }
  },
  {
   "cell_type": "code",
   "execution_count": 30,
   "outputs": [
    {
     "data": {
      "text/plain": "belanjaan\ntempe    10\ntahu     10\nberas     3\nName: jumlah, dtype: int64"
     },
     "execution_count": 30,
     "metadata": {},
     "output_type": "execute_result"
    }
   ],
   "source": [
    "#karena index kolom sudah berubah menjadi nama belanjaan,\n",
    "#maka posisi kolom untuk df.iloc yang menggunakan angka juga berubah\n",
    "#dan posisi kolom untuk df.loc juga harus menggunakan nama index baru\n",
    "\n",
    "df_belanjaan.iloc[0:3 , 1]"
   ],
   "metadata": {
    "collapsed": false
   }
  },
  {
   "cell_type": "code",
   "execution_count": 31,
   "outputs": [
    {
     "data": {
      "text/plain": "belanjaan\ntempe    10\ntahu     10\nberas     3\nName: jumlah, dtype: int64"
     },
     "execution_count": 31,
     "metadata": {},
     "output_type": "execute_result"
    }
   ],
   "source": [
    "#sebelum di inplace pada row menggunakan angka, karena nama index masih angka\n",
    "#sekarang, df.loc harus menggunakan nama baru.\n",
    "\n",
    "df_belanjaan.loc['tempe':'beras' , 'jumlah']"
   ],
   "metadata": {
    "collapsed": false
   }
  },
  {
   "cell_type": "code",
   "execution_count": 32,
   "outputs": [
    {
     "data": {
      "text/plain": "              jenis  jumlah     satuan  harga_satuan  jumlah x harga_satuan\nbelanjaan                                                                  \nkecap      pabrikan       1  per-botol         15000                  15000\nmayonaise  pabrikan       1  per-botol         12000                  12000\nberas         alami       3     per-Kg         10000                  30000\ntomat         alami       4     per-Kg          6000                  24000\ntempe         alami      10   per-pack          3000                  30000\ntahu          alami      10   per-pack          2500                  25000",
      "text/html": "<div>\n<style scoped>\n    .dataframe tbody tr th:only-of-type {\n        vertical-align: middle;\n    }\n\n    .dataframe tbody tr th {\n        vertical-align: top;\n    }\n\n    .dataframe thead th {\n        text-align: right;\n    }\n</style>\n<table border=\"1\" class=\"dataframe\">\n  <thead>\n    <tr style=\"text-align: right;\">\n      <th></th>\n      <th>jenis</th>\n      <th>jumlah</th>\n      <th>satuan</th>\n      <th>harga_satuan</th>\n      <th>jumlah x harga_satuan</th>\n    </tr>\n    <tr>\n      <th>belanjaan</th>\n      <th></th>\n      <th></th>\n      <th></th>\n      <th></th>\n      <th></th>\n    </tr>\n  </thead>\n  <tbody>\n    <tr>\n      <th>kecap</th>\n      <td>pabrikan</td>\n      <td>1</td>\n      <td>per-botol</td>\n      <td>15000</td>\n      <td>15000</td>\n    </tr>\n    <tr>\n      <th>mayonaise</th>\n      <td>pabrikan</td>\n      <td>1</td>\n      <td>per-botol</td>\n      <td>12000</td>\n      <td>12000</td>\n    </tr>\n    <tr>\n      <th>beras</th>\n      <td>alami</td>\n      <td>3</td>\n      <td>per-Kg</td>\n      <td>10000</td>\n      <td>30000</td>\n    </tr>\n    <tr>\n      <th>tomat</th>\n      <td>alami</td>\n      <td>4</td>\n      <td>per-Kg</td>\n      <td>6000</td>\n      <td>24000</td>\n    </tr>\n    <tr>\n      <th>tempe</th>\n      <td>alami</td>\n      <td>10</td>\n      <td>per-pack</td>\n      <td>3000</td>\n      <td>30000</td>\n    </tr>\n    <tr>\n      <th>tahu</th>\n      <td>alami</td>\n      <td>10</td>\n      <td>per-pack</td>\n      <td>2500</td>\n      <td>25000</td>\n    </tr>\n  </tbody>\n</table>\n</div>"
     },
     "execution_count": 32,
     "metadata": {},
     "output_type": "execute_result"
    }
   ],
   "source": [
    "#mengurutkan data berdasarkan nilai suatu kolom\n",
    "df_belanjaan.sort_values(['jumlah'], ascending=[True])"
   ],
   "metadata": {
    "collapsed": false
   }
  },
  {
   "cell_type": "code",
   "execution_count": 33,
   "outputs": [
    {
     "data": {
      "text/plain": "              jenis  jumlah     satuan  harga_satuan  jumlah x harga_satuan\nbelanjaan                                                                  \nmayonaise  pabrikan       1  per-botol         12000                  12000\nkecap      pabrikan       1  per-botol         15000                  15000\nberas         alami       3     per-Kg         10000                  30000\ntomat         alami       4     per-Kg          6000                  24000\ntahu          alami      10   per-pack          2500                  25000\ntempe         alami      10   per-pack          3000                  30000",
      "text/html": "<div>\n<style scoped>\n    .dataframe tbody tr th:only-of-type {\n        vertical-align: middle;\n    }\n\n    .dataframe tbody tr th {\n        vertical-align: top;\n    }\n\n    .dataframe thead th {\n        text-align: right;\n    }\n</style>\n<table border=\"1\" class=\"dataframe\">\n  <thead>\n    <tr style=\"text-align: right;\">\n      <th></th>\n      <th>jenis</th>\n      <th>jumlah</th>\n      <th>satuan</th>\n      <th>harga_satuan</th>\n      <th>jumlah x harga_satuan</th>\n    </tr>\n    <tr>\n      <th>belanjaan</th>\n      <th></th>\n      <th></th>\n      <th></th>\n      <th></th>\n      <th></th>\n    </tr>\n  </thead>\n  <tbody>\n    <tr>\n      <th>mayonaise</th>\n      <td>pabrikan</td>\n      <td>1</td>\n      <td>per-botol</td>\n      <td>12000</td>\n      <td>12000</td>\n    </tr>\n    <tr>\n      <th>kecap</th>\n      <td>pabrikan</td>\n      <td>1</td>\n      <td>per-botol</td>\n      <td>15000</td>\n      <td>15000</td>\n    </tr>\n    <tr>\n      <th>beras</th>\n      <td>alami</td>\n      <td>3</td>\n      <td>per-Kg</td>\n      <td>10000</td>\n      <td>30000</td>\n    </tr>\n    <tr>\n      <th>tomat</th>\n      <td>alami</td>\n      <td>4</td>\n      <td>per-Kg</td>\n      <td>6000</td>\n      <td>24000</td>\n    </tr>\n    <tr>\n      <th>tahu</th>\n      <td>alami</td>\n      <td>10</td>\n      <td>per-pack</td>\n      <td>2500</td>\n      <td>25000</td>\n    </tr>\n    <tr>\n      <th>tempe</th>\n      <td>alami</td>\n      <td>10</td>\n      <td>per-pack</td>\n      <td>3000</td>\n      <td>30000</td>\n    </tr>\n  </tbody>\n</table>\n</div>"
     },
     "execution_count": 33,
     "metadata": {},
     "output_type": "execute_result"
    }
   ],
   "source": [
    "#mengurutkan data berdasarkan nilai multi kolom\n",
    "#sort_values urutan pertama akan dimenangkan\n",
    "df_belanjaan.sort_values(['jumlah','harga_satuan'], ascending=[True,True])"
   ],
   "metadata": {
    "collapsed": false
   }
  },
  {
   "cell_type": "code",
   "execution_count": 34,
   "outputs": [
    {
     "data": {
      "text/plain": "              jenis  jumlah     satuan  harga_satuan  jumlah x harga_satuan\nbelanjaan                                                                  \ntahu          alami      10   per-pack          2500                  25000\ntempe         alami      10   per-pack          3000                  30000\ntomat         alami       4     per-Kg          6000                  24000\nberas         alami       3     per-Kg         10000                  30000\nmayonaise  pabrikan       1  per-botol         12000                  12000\nkecap      pabrikan       1  per-botol         15000                  15000",
      "text/html": "<div>\n<style scoped>\n    .dataframe tbody tr th:only-of-type {\n        vertical-align: middle;\n    }\n\n    .dataframe tbody tr th {\n        vertical-align: top;\n    }\n\n    .dataframe thead th {\n        text-align: right;\n    }\n</style>\n<table border=\"1\" class=\"dataframe\">\n  <thead>\n    <tr style=\"text-align: right;\">\n      <th></th>\n      <th>jenis</th>\n      <th>jumlah</th>\n      <th>satuan</th>\n      <th>harga_satuan</th>\n      <th>jumlah x harga_satuan</th>\n    </tr>\n    <tr>\n      <th>belanjaan</th>\n      <th></th>\n      <th></th>\n      <th></th>\n      <th></th>\n      <th></th>\n    </tr>\n  </thead>\n  <tbody>\n    <tr>\n      <th>tahu</th>\n      <td>alami</td>\n      <td>10</td>\n      <td>per-pack</td>\n      <td>2500</td>\n      <td>25000</td>\n    </tr>\n    <tr>\n      <th>tempe</th>\n      <td>alami</td>\n      <td>10</td>\n      <td>per-pack</td>\n      <td>3000</td>\n      <td>30000</td>\n    </tr>\n    <tr>\n      <th>tomat</th>\n      <td>alami</td>\n      <td>4</td>\n      <td>per-Kg</td>\n      <td>6000</td>\n      <td>24000</td>\n    </tr>\n    <tr>\n      <th>beras</th>\n      <td>alami</td>\n      <td>3</td>\n      <td>per-Kg</td>\n      <td>10000</td>\n      <td>30000</td>\n    </tr>\n    <tr>\n      <th>mayonaise</th>\n      <td>pabrikan</td>\n      <td>1</td>\n      <td>per-botol</td>\n      <td>12000</td>\n      <td>12000</td>\n    </tr>\n    <tr>\n      <th>kecap</th>\n      <td>pabrikan</td>\n      <td>1</td>\n      <td>per-botol</td>\n      <td>15000</td>\n      <td>15000</td>\n    </tr>\n  </tbody>\n</table>\n</div>"
     },
     "execution_count": 34,
     "metadata": {},
     "output_type": "execute_result"
    }
   ],
   "source": [
    "#untuk merubah dataframe secara permanen gunakan inplace setelah sortir\n",
    "#atau assign kepada variable baru\n",
    "\n",
    "df_belanjaan.sort_values(['harga_satuan'], ascending=[True], inplace=True)\n",
    "df_belanjaan"
   ],
   "metadata": {
    "collapsed": false
   }
  },
  {
   "cell_type": "code",
   "execution_count": 35,
   "outputs": [
    {
     "data": {
      "text/plain": "   belanjaan     jenis  jumlah     satuan  harga_satuan  jumlah x harga_satuan\n0       tahu     alami      10   per-pack          2500                  25000\n1      tempe     alami      10   per-pack          3000                  30000\n2      tomat     alami       4     per-Kg          6000                  24000\n3      beras     alami       3     per-Kg         10000                  30000\n4  mayonaise  pabrikan       1  per-botol         12000                  12000\n5      kecap  pabrikan       1  per-botol         15000                  15000",
      "text/html": "<div>\n<style scoped>\n    .dataframe tbody tr th:only-of-type {\n        vertical-align: middle;\n    }\n\n    .dataframe tbody tr th {\n        vertical-align: top;\n    }\n\n    .dataframe thead th {\n        text-align: right;\n    }\n</style>\n<table border=\"1\" class=\"dataframe\">\n  <thead>\n    <tr style=\"text-align: right;\">\n      <th></th>\n      <th>belanjaan</th>\n      <th>jenis</th>\n      <th>jumlah</th>\n      <th>satuan</th>\n      <th>harga_satuan</th>\n      <th>jumlah x harga_satuan</th>\n    </tr>\n  </thead>\n  <tbody>\n    <tr>\n      <th>0</th>\n      <td>tahu</td>\n      <td>alami</td>\n      <td>10</td>\n      <td>per-pack</td>\n      <td>2500</td>\n      <td>25000</td>\n    </tr>\n    <tr>\n      <th>1</th>\n      <td>tempe</td>\n      <td>alami</td>\n      <td>10</td>\n      <td>per-pack</td>\n      <td>3000</td>\n      <td>30000</td>\n    </tr>\n    <tr>\n      <th>2</th>\n      <td>tomat</td>\n      <td>alami</td>\n      <td>4</td>\n      <td>per-Kg</td>\n      <td>6000</td>\n      <td>24000</td>\n    </tr>\n    <tr>\n      <th>3</th>\n      <td>beras</td>\n      <td>alami</td>\n      <td>3</td>\n      <td>per-Kg</td>\n      <td>10000</td>\n      <td>30000</td>\n    </tr>\n    <tr>\n      <th>4</th>\n      <td>mayonaise</td>\n      <td>pabrikan</td>\n      <td>1</td>\n      <td>per-botol</td>\n      <td>12000</td>\n      <td>12000</td>\n    </tr>\n    <tr>\n      <th>5</th>\n      <td>kecap</td>\n      <td>pabrikan</td>\n      <td>1</td>\n      <td>per-botol</td>\n      <td>15000</td>\n      <td>15000</td>\n    </tr>\n  </tbody>\n</table>\n</div>"
     },
     "execution_count": 35,
     "metadata": {},
     "output_type": "execute_result"
    }
   ],
   "source": [
    "#untuk mereset index gunakan fitur reset index\n",
    "df_belanjaan.reset_index(inplace=True)\n",
    "df_belanjaan"
   ],
   "metadata": {
    "collapsed": false
   }
  },
  {
   "cell_type": "code",
   "execution_count": 36,
   "outputs": [
    {
     "ename": "KeyError",
     "evalue": "\"['index'] not found in axis\"",
     "output_type": "error",
     "traceback": [
      "\u001B[1;31m---------------------------------------------------------------------------\u001B[0m",
      "\u001B[1;31mKeyError\u001B[0m                                  Traceback (most recent call last)",
      "\u001B[1;32m~\\AppData\\Local\\Temp\\ipykernel_6352\\1040040743.py\u001B[0m in \u001B[0;36m<module>\u001B[1;34m\u001B[0m\n\u001B[0;32m      1\u001B[0m \u001B[1;31m#membuang suatu kolom tertentu\u001B[0m\u001B[1;33m\u001B[0m\u001B[1;33m\u001B[0m\u001B[0m\n\u001B[1;32m----> 2\u001B[1;33m \u001B[0mdf_belanjaan\u001B[0m\u001B[1;33m.\u001B[0m\u001B[0mdrop\u001B[0m\u001B[1;33m(\u001B[0m\u001B[1;33m[\u001B[0m\u001B[1;34m'index'\u001B[0m\u001B[1;33m]\u001B[0m\u001B[1;33m,\u001B[0m \u001B[0maxis\u001B[0m\u001B[1;33m=\u001B[0m\u001B[1;36m1\u001B[0m\u001B[1;33m,\u001B[0m \u001B[0minplace\u001B[0m\u001B[1;33m=\u001B[0m\u001B[1;32mTrue\u001B[0m\u001B[1;33m)\u001B[0m\u001B[1;33m\u001B[0m\u001B[1;33m\u001B[0m\u001B[0m\n\u001B[0m",
      "\u001B[1;32mC:\\ProgramData\\Anaconda3\\lib\\site-packages\\pandas\\util\\_decorators.py\u001B[0m in \u001B[0;36mwrapper\u001B[1;34m(*args, **kwargs)\u001B[0m\n\u001B[0;32m    309\u001B[0m                     \u001B[0mstacklevel\u001B[0m\u001B[1;33m=\u001B[0m\u001B[0mstacklevel\u001B[0m\u001B[1;33m,\u001B[0m\u001B[1;33m\u001B[0m\u001B[1;33m\u001B[0m\u001B[0m\n\u001B[0;32m    310\u001B[0m                 )\n\u001B[1;32m--> 311\u001B[1;33m             \u001B[1;32mreturn\u001B[0m \u001B[0mfunc\u001B[0m\u001B[1;33m(\u001B[0m\u001B[1;33m*\u001B[0m\u001B[0margs\u001B[0m\u001B[1;33m,\u001B[0m \u001B[1;33m**\u001B[0m\u001B[0mkwargs\u001B[0m\u001B[1;33m)\u001B[0m\u001B[1;33m\u001B[0m\u001B[1;33m\u001B[0m\u001B[0m\n\u001B[0m\u001B[0;32m    312\u001B[0m \u001B[1;33m\u001B[0m\u001B[0m\n\u001B[0;32m    313\u001B[0m         \u001B[1;32mreturn\u001B[0m \u001B[0mwrapper\u001B[0m\u001B[1;33m\u001B[0m\u001B[1;33m\u001B[0m\u001B[0m\n",
      "\u001B[1;32mC:\\ProgramData\\Anaconda3\\lib\\site-packages\\pandas\\core\\frame.py\u001B[0m in \u001B[0;36mdrop\u001B[1;34m(self, labels, axis, index, columns, level, inplace, errors)\u001B[0m\n\u001B[0;32m   4955\u001B[0m                 \u001B[0mweight\u001B[0m  \u001B[1;36m1.0\u001B[0m     \u001B[1;36m0.8\u001B[0m\u001B[1;33m\u001B[0m\u001B[1;33m\u001B[0m\u001B[0m\n\u001B[0;32m   4956\u001B[0m         \"\"\"\n\u001B[1;32m-> 4957\u001B[1;33m         return super().drop(\n\u001B[0m\u001B[0;32m   4958\u001B[0m             \u001B[0mlabels\u001B[0m\u001B[1;33m=\u001B[0m\u001B[0mlabels\u001B[0m\u001B[1;33m,\u001B[0m\u001B[1;33m\u001B[0m\u001B[1;33m\u001B[0m\u001B[0m\n\u001B[0;32m   4959\u001B[0m             \u001B[0maxis\u001B[0m\u001B[1;33m=\u001B[0m\u001B[0maxis\u001B[0m\u001B[1;33m,\u001B[0m\u001B[1;33m\u001B[0m\u001B[1;33m\u001B[0m\u001B[0m\n",
      "\u001B[1;32mC:\\ProgramData\\Anaconda3\\lib\\site-packages\\pandas\\core\\generic.py\u001B[0m in \u001B[0;36mdrop\u001B[1;34m(self, labels, axis, index, columns, level, inplace, errors)\u001B[0m\n\u001B[0;32m   4265\u001B[0m         \u001B[1;32mfor\u001B[0m \u001B[0maxis\u001B[0m\u001B[1;33m,\u001B[0m \u001B[0mlabels\u001B[0m \u001B[1;32min\u001B[0m \u001B[0maxes\u001B[0m\u001B[1;33m.\u001B[0m\u001B[0mitems\u001B[0m\u001B[1;33m(\u001B[0m\u001B[1;33m)\u001B[0m\u001B[1;33m:\u001B[0m\u001B[1;33m\u001B[0m\u001B[1;33m\u001B[0m\u001B[0m\n\u001B[0;32m   4266\u001B[0m             \u001B[1;32mif\u001B[0m \u001B[0mlabels\u001B[0m \u001B[1;32mis\u001B[0m \u001B[1;32mnot\u001B[0m \u001B[1;32mNone\u001B[0m\u001B[1;33m:\u001B[0m\u001B[1;33m\u001B[0m\u001B[1;33m\u001B[0m\u001B[0m\n\u001B[1;32m-> 4267\u001B[1;33m                 \u001B[0mobj\u001B[0m \u001B[1;33m=\u001B[0m \u001B[0mobj\u001B[0m\u001B[1;33m.\u001B[0m\u001B[0m_drop_axis\u001B[0m\u001B[1;33m(\u001B[0m\u001B[0mlabels\u001B[0m\u001B[1;33m,\u001B[0m \u001B[0maxis\u001B[0m\u001B[1;33m,\u001B[0m \u001B[0mlevel\u001B[0m\u001B[1;33m=\u001B[0m\u001B[0mlevel\u001B[0m\u001B[1;33m,\u001B[0m \u001B[0merrors\u001B[0m\u001B[1;33m=\u001B[0m\u001B[0merrors\u001B[0m\u001B[1;33m)\u001B[0m\u001B[1;33m\u001B[0m\u001B[1;33m\u001B[0m\u001B[0m\n\u001B[0m\u001B[0;32m   4268\u001B[0m \u001B[1;33m\u001B[0m\u001B[0m\n\u001B[0;32m   4269\u001B[0m         \u001B[1;32mif\u001B[0m \u001B[0minplace\u001B[0m\u001B[1;33m:\u001B[0m\u001B[1;33m\u001B[0m\u001B[1;33m\u001B[0m\u001B[0m\n",
      "\u001B[1;32mC:\\ProgramData\\Anaconda3\\lib\\site-packages\\pandas\\core\\generic.py\u001B[0m in \u001B[0;36m_drop_axis\u001B[1;34m(self, labels, axis, level, errors, consolidate, only_slice)\u001B[0m\n\u001B[0;32m   4309\u001B[0m                 \u001B[0mnew_axis\u001B[0m \u001B[1;33m=\u001B[0m \u001B[0maxis\u001B[0m\u001B[1;33m.\u001B[0m\u001B[0mdrop\u001B[0m\u001B[1;33m(\u001B[0m\u001B[0mlabels\u001B[0m\u001B[1;33m,\u001B[0m \u001B[0mlevel\u001B[0m\u001B[1;33m=\u001B[0m\u001B[0mlevel\u001B[0m\u001B[1;33m,\u001B[0m \u001B[0merrors\u001B[0m\u001B[1;33m=\u001B[0m\u001B[0merrors\u001B[0m\u001B[1;33m)\u001B[0m\u001B[1;33m\u001B[0m\u001B[1;33m\u001B[0m\u001B[0m\n\u001B[0;32m   4310\u001B[0m             \u001B[1;32melse\u001B[0m\u001B[1;33m:\u001B[0m\u001B[1;33m\u001B[0m\u001B[1;33m\u001B[0m\u001B[0m\n\u001B[1;32m-> 4311\u001B[1;33m                 \u001B[0mnew_axis\u001B[0m \u001B[1;33m=\u001B[0m \u001B[0maxis\u001B[0m\u001B[1;33m.\u001B[0m\u001B[0mdrop\u001B[0m\u001B[1;33m(\u001B[0m\u001B[0mlabels\u001B[0m\u001B[1;33m,\u001B[0m \u001B[0merrors\u001B[0m\u001B[1;33m=\u001B[0m\u001B[0merrors\u001B[0m\u001B[1;33m)\u001B[0m\u001B[1;33m\u001B[0m\u001B[1;33m\u001B[0m\u001B[0m\n\u001B[0m\u001B[0;32m   4312\u001B[0m             \u001B[0mindexer\u001B[0m \u001B[1;33m=\u001B[0m \u001B[0maxis\u001B[0m\u001B[1;33m.\u001B[0m\u001B[0mget_indexer\u001B[0m\u001B[1;33m(\u001B[0m\u001B[0mnew_axis\u001B[0m\u001B[1;33m)\u001B[0m\u001B[1;33m\u001B[0m\u001B[1;33m\u001B[0m\u001B[0m\n\u001B[0;32m   4313\u001B[0m \u001B[1;33m\u001B[0m\u001B[0m\n",
      "\u001B[1;32mC:\\ProgramData\\Anaconda3\\lib\\site-packages\\pandas\\core\\indexes\\base.py\u001B[0m in \u001B[0;36mdrop\u001B[1;34m(self, labels, errors)\u001B[0m\n\u001B[0;32m   6659\u001B[0m         \u001B[1;32mif\u001B[0m \u001B[0mmask\u001B[0m\u001B[1;33m.\u001B[0m\u001B[0many\u001B[0m\u001B[1;33m(\u001B[0m\u001B[1;33m)\u001B[0m\u001B[1;33m:\u001B[0m\u001B[1;33m\u001B[0m\u001B[1;33m\u001B[0m\u001B[0m\n\u001B[0;32m   6660\u001B[0m             \u001B[1;32mif\u001B[0m \u001B[0merrors\u001B[0m \u001B[1;33m!=\u001B[0m \u001B[1;34m\"ignore\"\u001B[0m\u001B[1;33m:\u001B[0m\u001B[1;33m\u001B[0m\u001B[1;33m\u001B[0m\u001B[0m\n\u001B[1;32m-> 6661\u001B[1;33m                 \u001B[1;32mraise\u001B[0m \u001B[0mKeyError\u001B[0m\u001B[1;33m(\u001B[0m\u001B[1;34mf\"{list(labels[mask])} not found in axis\"\u001B[0m\u001B[1;33m)\u001B[0m\u001B[1;33m\u001B[0m\u001B[1;33m\u001B[0m\u001B[0m\n\u001B[0m\u001B[0;32m   6662\u001B[0m             \u001B[0mindexer\u001B[0m \u001B[1;33m=\u001B[0m \u001B[0mindexer\u001B[0m\u001B[1;33m[\u001B[0m\u001B[1;33m~\u001B[0m\u001B[0mmask\u001B[0m\u001B[1;33m]\u001B[0m\u001B[1;33m\u001B[0m\u001B[1;33m\u001B[0m\u001B[0m\n\u001B[0;32m   6663\u001B[0m         \u001B[1;32mreturn\u001B[0m \u001B[0mself\u001B[0m\u001B[1;33m.\u001B[0m\u001B[0mdelete\u001B[0m\u001B[1;33m(\u001B[0m\u001B[0mindexer\u001B[0m\u001B[1;33m)\u001B[0m\u001B[1;33m\u001B[0m\u001B[1;33m\u001B[0m\u001B[0m\n",
      "\u001B[1;31mKeyError\u001B[0m: \"['index'] not found in axis\""
     ]
    }
   ],
   "source": [
    "#membuang suatu kolom tertentu\n",
    "df_belanjaan.drop(['index'], axis=1, inplace=True)"
   ],
   "metadata": {
    "collapsed": false
   }
  },
  {
   "cell_type": "code",
   "execution_count": 37,
   "outputs": [
    {
     "data": {
      "text/plain": "   belanjaan     jenis  jumlah     satuan  harga_satuan  jumlah x harga_satuan\n0       tahu     alami      10   per-pack          2500                  25000\n1      tempe     alami      10   per-pack          3000                  30000\n2      tomat     alami       4     per-Kg          6000                  24000\n3      beras     alami       3     per-Kg         10000                  30000\n4  mayonaise  pabrikan       1  per-botol         12000                  12000\n5      kecap  pabrikan       1  per-botol         15000                  15000",
      "text/html": "<div>\n<style scoped>\n    .dataframe tbody tr th:only-of-type {\n        vertical-align: middle;\n    }\n\n    .dataframe tbody tr th {\n        vertical-align: top;\n    }\n\n    .dataframe thead th {\n        text-align: right;\n    }\n</style>\n<table border=\"1\" class=\"dataframe\">\n  <thead>\n    <tr style=\"text-align: right;\">\n      <th></th>\n      <th>belanjaan</th>\n      <th>jenis</th>\n      <th>jumlah</th>\n      <th>satuan</th>\n      <th>harga_satuan</th>\n      <th>jumlah x harga_satuan</th>\n    </tr>\n  </thead>\n  <tbody>\n    <tr>\n      <th>0</th>\n      <td>tahu</td>\n      <td>alami</td>\n      <td>10</td>\n      <td>per-pack</td>\n      <td>2500</td>\n      <td>25000</td>\n    </tr>\n    <tr>\n      <th>1</th>\n      <td>tempe</td>\n      <td>alami</td>\n      <td>10</td>\n      <td>per-pack</td>\n      <td>3000</td>\n      <td>30000</td>\n    </tr>\n    <tr>\n      <th>2</th>\n      <td>tomat</td>\n      <td>alami</td>\n      <td>4</td>\n      <td>per-Kg</td>\n      <td>6000</td>\n      <td>24000</td>\n    </tr>\n    <tr>\n      <th>3</th>\n      <td>beras</td>\n      <td>alami</td>\n      <td>3</td>\n      <td>per-Kg</td>\n      <td>10000</td>\n      <td>30000</td>\n    </tr>\n    <tr>\n      <th>4</th>\n      <td>mayonaise</td>\n      <td>pabrikan</td>\n      <td>1</td>\n      <td>per-botol</td>\n      <td>12000</td>\n      <td>12000</td>\n    </tr>\n    <tr>\n      <th>5</th>\n      <td>kecap</td>\n      <td>pabrikan</td>\n      <td>1</td>\n      <td>per-botol</td>\n      <td>15000</td>\n      <td>15000</td>\n    </tr>\n  </tbody>\n</table>\n</div>"
     },
     "execution_count": 37,
     "metadata": {},
     "output_type": "execute_result"
    }
   ],
   "source": [
    "df_belanjaan"
   ],
   "metadata": {
    "collapsed": false
   }
  },
  {
   "cell_type": "code",
   "execution_count": 44,
   "outputs": [
    {
     "data": {
      "text/plain": "   belanjaan     jenis  jumlah     satuan  harga_satuan  jumlah x harga_satuan\n0       tahu     alami      10   per-pack          2500                  25000\n1      tempe     alami      10   per-pack          3000                  30000\n2      tomat     alami       4     per-Kg          7000                  24000\n3      beras     alami       3     per-Kg         10000                  30000\n4  mayonaise  pabrikan       1  per-botol         12000                  12000\n5      kecap  pabrikan       1  per-botol         15000                  15000",
      "text/html": "<div>\n<style scoped>\n    .dataframe tbody tr th:only-of-type {\n        vertical-align: middle;\n    }\n\n    .dataframe tbody tr th {\n        vertical-align: top;\n    }\n\n    .dataframe thead th {\n        text-align: right;\n    }\n</style>\n<table border=\"1\" class=\"dataframe\">\n  <thead>\n    <tr style=\"text-align: right;\">\n      <th></th>\n      <th>belanjaan</th>\n      <th>jenis</th>\n      <th>jumlah</th>\n      <th>satuan</th>\n      <th>harga_satuan</th>\n      <th>jumlah x harga_satuan</th>\n    </tr>\n  </thead>\n  <tbody>\n    <tr>\n      <th>0</th>\n      <td>tahu</td>\n      <td>alami</td>\n      <td>10</td>\n      <td>per-pack</td>\n      <td>2500</td>\n      <td>25000</td>\n    </tr>\n    <tr>\n      <th>1</th>\n      <td>tempe</td>\n      <td>alami</td>\n      <td>10</td>\n      <td>per-pack</td>\n      <td>3000</td>\n      <td>30000</td>\n    </tr>\n    <tr>\n      <th>2</th>\n      <td>tomat</td>\n      <td>alami</td>\n      <td>4</td>\n      <td>per-Kg</td>\n      <td>7000</td>\n      <td>24000</td>\n    </tr>\n    <tr>\n      <th>3</th>\n      <td>beras</td>\n      <td>alami</td>\n      <td>3</td>\n      <td>per-Kg</td>\n      <td>10000</td>\n      <td>30000</td>\n    </tr>\n    <tr>\n      <th>4</th>\n      <td>mayonaise</td>\n      <td>pabrikan</td>\n      <td>1</td>\n      <td>per-botol</td>\n      <td>12000</td>\n      <td>12000</td>\n    </tr>\n    <tr>\n      <th>5</th>\n      <td>kecap</td>\n      <td>pabrikan</td>\n      <td>1</td>\n      <td>per-botol</td>\n      <td>15000</td>\n      <td>15000</td>\n    </tr>\n  </tbody>\n</table>\n</div>"
     },
     "execution_count": 44,
     "metadata": {},
     "output_type": "execute_result"
    }
   ],
   "source": [
    "#data modifikasi menggunakan iloc dan loc\n",
    "#contoh1: mengganti harga tomat menjadi 7000 dengan iloc\n",
    "\n",
    "#index kolom harga_satuan = No.4\n",
    "#index row tomat  = No.2\n",
    "\n",
    "df_belanjaan.iloc[2,4] = 7000\n",
    "df_belanjaan\n",
    "\n",
    "# kolom jumlah x harga satuan belum di update menjadi 28000, karena belum di eksekusi ulang"
   ],
   "metadata": {
    "collapsed": false
   }
  },
  {
   "cell_type": "code",
   "execution_count": 45,
   "outputs": [
    {
     "data": {
      "text/plain": "   belanjaan     jenis  jumlah     satuan  harga_satuan  jumlah x harga_satuan\n0       tahu     alami      10   per-pack          2500                  25000\n1      tempe     alami      10   per-pack          3000                  30000\n2      tomat     alami       4     per-Kg          7000                  28000\n3      beras     alami       3     per-Kg         10000                  30000\n4  mayonaise  pabrikan       1  per-botol         12000                  12000\n5      kecap  pabrikan       1  per-botol         15000                  15000",
      "text/html": "<div>\n<style scoped>\n    .dataframe tbody tr th:only-of-type {\n        vertical-align: middle;\n    }\n\n    .dataframe tbody tr th {\n        vertical-align: top;\n    }\n\n    .dataframe thead th {\n        text-align: right;\n    }\n</style>\n<table border=\"1\" class=\"dataframe\">\n  <thead>\n    <tr style=\"text-align: right;\">\n      <th></th>\n      <th>belanjaan</th>\n      <th>jenis</th>\n      <th>jumlah</th>\n      <th>satuan</th>\n      <th>harga_satuan</th>\n      <th>jumlah x harga_satuan</th>\n    </tr>\n  </thead>\n  <tbody>\n    <tr>\n      <th>0</th>\n      <td>tahu</td>\n      <td>alami</td>\n      <td>10</td>\n      <td>per-pack</td>\n      <td>2500</td>\n      <td>25000</td>\n    </tr>\n    <tr>\n      <th>1</th>\n      <td>tempe</td>\n      <td>alami</td>\n      <td>10</td>\n      <td>per-pack</td>\n      <td>3000</td>\n      <td>30000</td>\n    </tr>\n    <tr>\n      <th>2</th>\n      <td>tomat</td>\n      <td>alami</td>\n      <td>4</td>\n      <td>per-Kg</td>\n      <td>7000</td>\n      <td>28000</td>\n    </tr>\n    <tr>\n      <th>3</th>\n      <td>beras</td>\n      <td>alami</td>\n      <td>3</td>\n      <td>per-Kg</td>\n      <td>10000</td>\n      <td>30000</td>\n    </tr>\n    <tr>\n      <th>4</th>\n      <td>mayonaise</td>\n      <td>pabrikan</td>\n      <td>1</td>\n      <td>per-botol</td>\n      <td>12000</td>\n      <td>12000</td>\n    </tr>\n    <tr>\n      <th>5</th>\n      <td>kecap</td>\n      <td>pabrikan</td>\n      <td>1</td>\n      <td>per-botol</td>\n      <td>15000</td>\n      <td>15000</td>\n    </tr>\n  </tbody>\n</table>\n</div>"
     },
     "execution_count": 45,
     "metadata": {},
     "output_type": "execute_result"
    }
   ],
   "source": [
    "#contoh2: mengganti jumlah x harga_satuan tomat menjadi 28000 dengan loc\n",
    "\n",
    "#nama kolom harga_satuan = 'jumlah x harga_satuan'\n",
    "#nama row tomat adalah  = No. 2\n",
    "\n",
    "df_belanjaan.loc[2,'jumlah x harga_satuan'] = 28000\n",
    "df_belanjaan"
   ],
   "metadata": {
    "collapsed": false
   }
  },
  {
   "cell_type": "code",
   "execution_count": 46,
   "outputs": [
    {
     "data": {
      "text/plain": "   belanjaan     jenis  jumlah     satuan  harga_satuan  \\\n0       tahu     alami      10   per-pack          2500   \n1      tempe     alami      10   per-pack          3000   \n2      tomat     alami       4     per-Kg          7000   \n3      beras     alami       3     per-Kg         10000   \n4  mayonaise  pabrikan       1  per-botol         12000   \n5      kecap  pabrikan       1  per-botol         15000   \n\n   jumlah x harga_satuan  harga_kumulatif  \n0                  25000            25000  \n1                  30000            55000  \n2                  28000            83000  \n3                  30000           113000  \n4                  12000           125000  \n5                  15000           140000  ",
      "text/html": "<div>\n<style scoped>\n    .dataframe tbody tr th:only-of-type {\n        vertical-align: middle;\n    }\n\n    .dataframe tbody tr th {\n        vertical-align: top;\n    }\n\n    .dataframe thead th {\n        text-align: right;\n    }\n</style>\n<table border=\"1\" class=\"dataframe\">\n  <thead>\n    <tr style=\"text-align: right;\">\n      <th></th>\n      <th>belanjaan</th>\n      <th>jenis</th>\n      <th>jumlah</th>\n      <th>satuan</th>\n      <th>harga_satuan</th>\n      <th>jumlah x harga_satuan</th>\n      <th>harga_kumulatif</th>\n    </tr>\n  </thead>\n  <tbody>\n    <tr>\n      <th>0</th>\n      <td>tahu</td>\n      <td>alami</td>\n      <td>10</td>\n      <td>per-pack</td>\n      <td>2500</td>\n      <td>25000</td>\n      <td>25000</td>\n    </tr>\n    <tr>\n      <th>1</th>\n      <td>tempe</td>\n      <td>alami</td>\n      <td>10</td>\n      <td>per-pack</td>\n      <td>3000</td>\n      <td>30000</td>\n      <td>55000</td>\n    </tr>\n    <tr>\n      <th>2</th>\n      <td>tomat</td>\n      <td>alami</td>\n      <td>4</td>\n      <td>per-Kg</td>\n      <td>7000</td>\n      <td>28000</td>\n      <td>83000</td>\n    </tr>\n    <tr>\n      <th>3</th>\n      <td>beras</td>\n      <td>alami</td>\n      <td>3</td>\n      <td>per-Kg</td>\n      <td>10000</td>\n      <td>30000</td>\n      <td>113000</td>\n    </tr>\n    <tr>\n      <th>4</th>\n      <td>mayonaise</td>\n      <td>pabrikan</td>\n      <td>1</td>\n      <td>per-botol</td>\n      <td>12000</td>\n      <td>12000</td>\n      <td>125000</td>\n    </tr>\n    <tr>\n      <th>5</th>\n      <td>kecap</td>\n      <td>pabrikan</td>\n      <td>1</td>\n      <td>per-botol</td>\n      <td>15000</td>\n      <td>15000</td>\n      <td>140000</td>\n    </tr>\n  </tbody>\n</table>\n</div>"
     },
     "execution_count": 46,
     "metadata": {},
     "output_type": "execute_result"
    }
   ],
   "source": [
    "#cumsum: fitur pandas untuk menghitung kumulatif suatu kolom\n",
    "#dari atas kolom ke bawah\n",
    "df_belanjaan['harga_kumulatif'] = df_belanjaan['jumlah x harga_satuan'].cumsum()\n",
    "df_belanjaan"
   ],
   "metadata": {
    "collapsed": false
   }
  },
  {
   "cell_type": "markdown",
   "source": [
    "pandas soil profile"
   ],
   "metadata": {
    "collapsed": false
   }
  },
  {
   "cell_type": "code",
   "execution_count": 2,
   "outputs": [],
   "source": [
    "import pandas as pd\n",
    "import numpy as np\n",
    "\n",
    "#import CSV file 1\n",
    "df_soil_profile = pd.read_csv('ground.csv')\n",
    "df_spt = pd.read_csv('spt.csv')\n",
    "\n",
    "jumlah_layer = len(df_soil_profile['soil_type'])"
   ],
   "metadata": {
    "collapsed": false
   }
  },
  {
   "cell_type": "code",
   "execution_count": 5,
   "outputs": [
    {
     "data": {
      "text/plain": "   depth  SPT\n0    1.0    8\n1    1.5    9\n2    3.0    8\n3    4.5   12\n4    6.0   15\n5    7.5   15\n6    9.0   16",
      "text/html": "<div>\n<style scoped>\n    .dataframe tbody tr th:only-of-type {\n        vertical-align: middle;\n    }\n\n    .dataframe tbody tr th {\n        vertical-align: top;\n    }\n\n    .dataframe thead th {\n        text-align: right;\n    }\n</style>\n<table border=\"1\" class=\"dataframe\">\n  <thead>\n    <tr style=\"text-align: right;\">\n      <th></th>\n      <th>depth</th>\n      <th>SPT</th>\n    </tr>\n  </thead>\n  <tbody>\n    <tr>\n      <th>0</th>\n      <td>1.0</td>\n      <td>8</td>\n    </tr>\n    <tr>\n      <th>1</th>\n      <td>1.5</td>\n      <td>9</td>\n    </tr>\n    <tr>\n      <th>2</th>\n      <td>3.0</td>\n      <td>8</td>\n    </tr>\n    <tr>\n      <th>3</th>\n      <td>4.5</td>\n      <td>12</td>\n    </tr>\n    <tr>\n      <th>4</th>\n      <td>6.0</td>\n      <td>15</td>\n    </tr>\n    <tr>\n      <th>5</th>\n      <td>7.5</td>\n      <td>15</td>\n    </tr>\n    <tr>\n      <th>6</th>\n      <td>9.0</td>\n      <td>16</td>\n    </tr>\n  </tbody>\n</table>\n</div>"
     },
     "execution_count": 5,
     "metadata": {},
     "output_type": "execute_result"
    }
   ],
   "source": [
    "df_spt"
   ],
   "metadata": {
    "collapsed": false
   }
  },
  {
   "cell_type": "code",
   "execution_count": 7,
   "outputs": [],
   "source": [
    "#membuat threshold kedalaman yang nanti akan digunakan pada data frame utama\n",
    "interval = 0.01\n",
    "bottom = 12\n",
    "list_depth = np.arange(0,bottom,interval)"
   ],
   "metadata": {
    "collapsed": false
   }
  },
  {
   "cell_type": "code",
   "execution_count": 8,
   "outputs": [
    {
     "data": {
      "text/plain": "   depth_top  depth_bot                soil_type  gsat  gunsat\n0        0.0       0.01      sand - medium dense    17      18\n1        3.0       3.01       silty clay - stiff    15      15\n2        5.5       5.51  silty clay - very stiff    16      16",
      "text/html": "<div>\n<style scoped>\n    .dataframe tbody tr th:only-of-type {\n        vertical-align: middle;\n    }\n\n    .dataframe tbody tr th {\n        vertical-align: top;\n    }\n\n    .dataframe thead th {\n        text-align: right;\n    }\n</style>\n<table border=\"1\" class=\"dataframe\">\n  <thead>\n    <tr style=\"text-align: right;\">\n      <th></th>\n      <th>depth_top</th>\n      <th>depth_bot</th>\n      <th>soil_type</th>\n      <th>gsat</th>\n      <th>gunsat</th>\n    </tr>\n  </thead>\n  <tbody>\n    <tr>\n      <th>0</th>\n      <td>0.0</td>\n      <td>0.01</td>\n      <td>sand - medium dense</td>\n      <td>17</td>\n      <td>18</td>\n    </tr>\n    <tr>\n      <th>1</th>\n      <td>3.0</td>\n      <td>3.01</td>\n      <td>silty clay - stiff</td>\n      <td>15</td>\n      <td>15</td>\n    </tr>\n    <tr>\n      <th>2</th>\n      <td>5.5</td>\n      <td>5.51</td>\n      <td>silty clay - very stiff</td>\n      <td>16</td>\n      <td>16</td>\n    </tr>\n  </tbody>\n</table>\n</div>"
     },
     "execution_count": 8,
     "metadata": {},
     "output_type": "execute_result"
    }
   ],
   "source": [
    "#soil profile top layer\n",
    "# akan digunakan/digabung dengan data yang lain\n",
    "soil_top = df_soil_profile.drop('depth_bot', axis=1)\n",
    "soil_top['depth_bot']=soil_top['depth_top']+interval\n",
    "second_column = soil_top.pop('depth_bot')\n",
    "soil_top.insert(1, 'depth_bot', second_column)\n",
    "soil_top"
   ],
   "metadata": {
    "collapsed": false
   }
  },
  {
   "cell_type": "code",
   "execution_count": 9,
   "outputs": [
    {
     "data": {
      "text/plain": "      depth_top\n0          0.00\n1          0.01\n2          0.02\n3          0.03\n4          0.04\n...         ...\n1195      11.95\n1196      11.96\n1197      11.97\n1198      11.98\n1199      11.99\n\n[1200 rows x 1 columns]",
      "text/html": "<div>\n<style scoped>\n    .dataframe tbody tr th:only-of-type {\n        vertical-align: middle;\n    }\n\n    .dataframe tbody tr th {\n        vertical-align: top;\n    }\n\n    .dataframe thead th {\n        text-align: right;\n    }\n</style>\n<table border=\"1\" class=\"dataframe\">\n  <thead>\n    <tr style=\"text-align: right;\">\n      <th></th>\n      <th>depth_top</th>\n    </tr>\n  </thead>\n  <tbody>\n    <tr>\n      <th>0</th>\n      <td>0.00</td>\n    </tr>\n    <tr>\n      <th>1</th>\n      <td>0.01</td>\n    </tr>\n    <tr>\n      <th>2</th>\n      <td>0.02</td>\n    </tr>\n    <tr>\n      <th>3</th>\n      <td>0.03</td>\n    </tr>\n    <tr>\n      <th>4</th>\n      <td>0.04</td>\n    </tr>\n    <tr>\n      <th>...</th>\n      <td>...</td>\n    </tr>\n    <tr>\n      <th>1195</th>\n      <td>11.95</td>\n    </tr>\n    <tr>\n      <th>1196</th>\n      <td>11.96</td>\n    </tr>\n    <tr>\n      <th>1197</th>\n      <td>11.97</td>\n    </tr>\n    <tr>\n      <th>1198</th>\n      <td>11.98</td>\n    </tr>\n    <tr>\n      <th>1199</th>\n      <td>11.99</td>\n    </tr>\n  </tbody>\n</table>\n<p>1200 rows × 1 columns</p>\n</div>"
     },
     "execution_count": 9,
     "metadata": {},
     "output_type": "execute_result"
    }
   ],
   "source": [
    "#membuat dataframe utama untuk perhitungan\n",
    "df_calculation = pd.DataFrame()\n",
    "df_calculation['depth_top']=list_depth\n",
    "\n",
    "df_calculation = df_calculation.round({'depth_top': 2, 'depth_bot': 2})\n",
    "df_calculation"
   ],
   "metadata": {
    "collapsed": false
   }
  },
  {
   "cell_type": "code",
   "execution_count": 10,
   "outputs": [
    {
     "data": {
      "text/plain": "      depth_top  depth_bot            soil_type  gsat  gunsat  SPT\n0          0.00       0.01  sand - medium dense  17.0    18.0  NaN\n1          0.01       0.02                  NaN   NaN     NaN  NaN\n2          0.02       0.03                  NaN   NaN     NaN  NaN\n3          0.03       0.04                  NaN   NaN     NaN  NaN\n4          0.04       0.05                  NaN   NaN     NaN  NaN\n...         ...        ...                  ...   ...     ...  ...\n1195      11.95      11.96                  NaN   NaN     NaN  NaN\n1196      11.96      11.97                  NaN   NaN     NaN  NaN\n1197      11.97      11.98                  NaN   NaN     NaN  NaN\n1198      11.98      11.99                  NaN   NaN     NaN  NaN\n1199      11.99      12.00                  NaN   NaN     NaN  NaN\n\n[1200 rows x 6 columns]",
      "text/html": "<div>\n<style scoped>\n    .dataframe tbody tr th:only-of-type {\n        vertical-align: middle;\n    }\n\n    .dataframe tbody tr th {\n        vertical-align: top;\n    }\n\n    .dataframe thead th {\n        text-align: right;\n    }\n</style>\n<table border=\"1\" class=\"dataframe\">\n  <thead>\n    <tr style=\"text-align: right;\">\n      <th></th>\n      <th>depth_top</th>\n      <th>depth_bot</th>\n      <th>soil_type</th>\n      <th>gsat</th>\n      <th>gunsat</th>\n      <th>SPT</th>\n    </tr>\n  </thead>\n  <tbody>\n    <tr>\n      <th>0</th>\n      <td>0.00</td>\n      <td>0.01</td>\n      <td>sand - medium dense</td>\n      <td>17.0</td>\n      <td>18.0</td>\n      <td>NaN</td>\n    </tr>\n    <tr>\n      <th>1</th>\n      <td>0.01</td>\n      <td>0.02</td>\n      <td>NaN</td>\n      <td>NaN</td>\n      <td>NaN</td>\n      <td>NaN</td>\n    </tr>\n    <tr>\n      <th>2</th>\n      <td>0.02</td>\n      <td>0.03</td>\n      <td>NaN</td>\n      <td>NaN</td>\n      <td>NaN</td>\n      <td>NaN</td>\n    </tr>\n    <tr>\n      <th>3</th>\n      <td>0.03</td>\n      <td>0.04</td>\n      <td>NaN</td>\n      <td>NaN</td>\n      <td>NaN</td>\n      <td>NaN</td>\n    </tr>\n    <tr>\n      <th>4</th>\n      <td>0.04</td>\n      <td>0.05</td>\n      <td>NaN</td>\n      <td>NaN</td>\n      <td>NaN</td>\n      <td>NaN</td>\n    </tr>\n    <tr>\n      <th>...</th>\n      <td>...</td>\n      <td>...</td>\n      <td>...</td>\n      <td>...</td>\n      <td>...</td>\n      <td>...</td>\n    </tr>\n    <tr>\n      <th>1195</th>\n      <td>11.95</td>\n      <td>11.96</td>\n      <td>NaN</td>\n      <td>NaN</td>\n      <td>NaN</td>\n      <td>NaN</td>\n    </tr>\n    <tr>\n      <th>1196</th>\n      <td>11.96</td>\n      <td>11.97</td>\n      <td>NaN</td>\n      <td>NaN</td>\n      <td>NaN</td>\n      <td>NaN</td>\n    </tr>\n    <tr>\n      <th>1197</th>\n      <td>11.97</td>\n      <td>11.98</td>\n      <td>NaN</td>\n      <td>NaN</td>\n      <td>NaN</td>\n      <td>NaN</td>\n    </tr>\n    <tr>\n      <th>1198</th>\n      <td>11.98</td>\n      <td>11.99</td>\n      <td>NaN</td>\n      <td>NaN</td>\n      <td>NaN</td>\n      <td>NaN</td>\n    </tr>\n    <tr>\n      <th>1199</th>\n      <td>11.99</td>\n      <td>12.00</td>\n      <td>NaN</td>\n      <td>NaN</td>\n      <td>NaN</td>\n      <td>NaN</td>\n    </tr>\n  </tbody>\n</table>\n<p>1200 rows × 6 columns</p>\n</div>"
     },
     "execution_count": 10,
     "metadata": {},
     "output_type": "execute_result"
    }
   ],
   "source": [
    "#menggabungkan dataframe utama dengan data soil profile dan SPT\n",
    "#kotak ini run sekali saja, kalau di run berkali2 akan muncul kolom baru bekas index\n",
    "\n",
    "#dari data csv SPT, nama depth akan dirubah menjadi depth_top\n",
    "#hal  ini berguna saat melakukan join data.\n",
    "df_spt.rename(columns = {'depth':'depth_top'}, inplace = True)\n",
    "\n",
    "df_all = df_calculation.set_index('depth_top').join(soil_top.set_index('depth_top')).join(df_spt.set_index('depth_top'))\n",
    "df_all.reset_index(inplace=True)\n",
    "\n",
    "#melakukan update kedalaman bawah\n",
    "df_all['depth_bot']=df_all['depth_top']+interval\n",
    "df_all"
   ],
   "metadata": {
    "collapsed": false
   }
  },
  {
   "cell_type": "code",
   "execution_count": 11,
   "outputs": [
    {
     "data": {
      "text/plain": "      depth_top  depth_bot                soil_type  gsat  gunsat   SPT\n0          0.00       0.01      sand - medium dense  17.0    18.0   NaN\n1          0.01       0.02      sand - medium dense  17.0    18.0   NaN\n2          0.02       0.03      sand - medium dense  17.0    18.0   NaN\n3          0.03       0.04      sand - medium dense  17.0    18.0   NaN\n4          0.04       0.05      sand - medium dense  17.0    18.0   NaN\n...         ...        ...                      ...   ...     ...   ...\n1195      11.95      11.96  silty clay - very stiff  16.0    16.0  16.0\n1196      11.96      11.97  silty clay - very stiff  16.0    16.0  16.0\n1197      11.97      11.98  silty clay - very stiff  16.0    16.0  16.0\n1198      11.98      11.99  silty clay - very stiff  16.0    16.0  16.0\n1199      11.99      12.00  silty clay - very stiff  16.0    16.0  16.0\n\n[1200 rows x 6 columns]",
      "text/html": "<div>\n<style scoped>\n    .dataframe tbody tr th:only-of-type {\n        vertical-align: middle;\n    }\n\n    .dataframe tbody tr th {\n        vertical-align: top;\n    }\n\n    .dataframe thead th {\n        text-align: right;\n    }\n</style>\n<table border=\"1\" class=\"dataframe\">\n  <thead>\n    <tr style=\"text-align: right;\">\n      <th></th>\n      <th>depth_top</th>\n      <th>depth_bot</th>\n      <th>soil_type</th>\n      <th>gsat</th>\n      <th>gunsat</th>\n      <th>SPT</th>\n    </tr>\n  </thead>\n  <tbody>\n    <tr>\n      <th>0</th>\n      <td>0.00</td>\n      <td>0.01</td>\n      <td>sand - medium dense</td>\n      <td>17.0</td>\n      <td>18.0</td>\n      <td>NaN</td>\n    </tr>\n    <tr>\n      <th>1</th>\n      <td>0.01</td>\n      <td>0.02</td>\n      <td>sand - medium dense</td>\n      <td>17.0</td>\n      <td>18.0</td>\n      <td>NaN</td>\n    </tr>\n    <tr>\n      <th>2</th>\n      <td>0.02</td>\n      <td>0.03</td>\n      <td>sand - medium dense</td>\n      <td>17.0</td>\n      <td>18.0</td>\n      <td>NaN</td>\n    </tr>\n    <tr>\n      <th>3</th>\n      <td>0.03</td>\n      <td>0.04</td>\n      <td>sand - medium dense</td>\n      <td>17.0</td>\n      <td>18.0</td>\n      <td>NaN</td>\n    </tr>\n    <tr>\n      <th>4</th>\n      <td>0.04</td>\n      <td>0.05</td>\n      <td>sand - medium dense</td>\n      <td>17.0</td>\n      <td>18.0</td>\n      <td>NaN</td>\n    </tr>\n    <tr>\n      <th>...</th>\n      <td>...</td>\n      <td>...</td>\n      <td>...</td>\n      <td>...</td>\n      <td>...</td>\n      <td>...</td>\n    </tr>\n    <tr>\n      <th>1195</th>\n      <td>11.95</td>\n      <td>11.96</td>\n      <td>silty clay - very stiff</td>\n      <td>16.0</td>\n      <td>16.0</td>\n      <td>16.0</td>\n    </tr>\n    <tr>\n      <th>1196</th>\n      <td>11.96</td>\n      <td>11.97</td>\n      <td>silty clay - very stiff</td>\n      <td>16.0</td>\n      <td>16.0</td>\n      <td>16.0</td>\n    </tr>\n    <tr>\n      <th>1197</th>\n      <td>11.97</td>\n      <td>11.98</td>\n      <td>silty clay - very stiff</td>\n      <td>16.0</td>\n      <td>16.0</td>\n      <td>16.0</td>\n    </tr>\n    <tr>\n      <th>1198</th>\n      <td>11.98</td>\n      <td>11.99</td>\n      <td>silty clay - very stiff</td>\n      <td>16.0</td>\n      <td>16.0</td>\n      <td>16.0</td>\n    </tr>\n    <tr>\n      <th>1199</th>\n      <td>11.99</td>\n      <td>12.00</td>\n      <td>silty clay - very stiff</td>\n      <td>16.0</td>\n      <td>16.0</td>\n      <td>16.0</td>\n    </tr>\n  </tbody>\n</table>\n<p>1200 rows × 6 columns</p>\n</div>"
     },
     "execution_count": 11,
     "metadata": {},
     "output_type": "execute_result"
    }
   ],
   "source": [
    "#dengan ffill maka semua NaN akan terisi otomatis dari value diatasnya.\n",
    "#untuk nilai NSPT permukaan akan tidak berubah, karena NSPT tidak dimulai dari kedalaman 0\n",
    "df_all.fillna(method='ffill',inplace=True)\n",
    "df_all"
   ],
   "metadata": {
    "collapsed": false
   }
  },
  {
   "cell_type": "code",
   "execution_count": 12,
   "outputs": [
    {
     "data": {
      "text/plain": "      depth_top  depth_bot                soil_type  gsat  gunsat   SPT\n0          0.00       0.01      sand - medium dense  17.0    18.0   8.0\n1          0.01       0.02      sand - medium dense  17.0    18.0   8.0\n2          0.02       0.03      sand - medium dense  17.0    18.0   8.0\n3          0.03       0.04      sand - medium dense  17.0    18.0   8.0\n4          0.04       0.05      sand - medium dense  17.0    18.0   8.0\n...         ...        ...                      ...   ...     ...   ...\n1195      11.95      11.96  silty clay - very stiff  16.0    16.0  16.0\n1196      11.96      11.97  silty clay - very stiff  16.0    16.0  16.0\n1197      11.97      11.98  silty clay - very stiff  16.0    16.0  16.0\n1198      11.98      11.99  silty clay - very stiff  16.0    16.0  16.0\n1199      11.99      12.00  silty clay - very stiff  16.0    16.0  16.0\n\n[1200 rows x 6 columns]",
      "text/html": "<div>\n<style scoped>\n    .dataframe tbody tr th:only-of-type {\n        vertical-align: middle;\n    }\n\n    .dataframe tbody tr th {\n        vertical-align: top;\n    }\n\n    .dataframe thead th {\n        text-align: right;\n    }\n</style>\n<table border=\"1\" class=\"dataframe\">\n  <thead>\n    <tr style=\"text-align: right;\">\n      <th></th>\n      <th>depth_top</th>\n      <th>depth_bot</th>\n      <th>soil_type</th>\n      <th>gsat</th>\n      <th>gunsat</th>\n      <th>SPT</th>\n    </tr>\n  </thead>\n  <tbody>\n    <tr>\n      <th>0</th>\n      <td>0.00</td>\n      <td>0.01</td>\n      <td>sand - medium dense</td>\n      <td>17.0</td>\n      <td>18.0</td>\n      <td>8.0</td>\n    </tr>\n    <tr>\n      <th>1</th>\n      <td>0.01</td>\n      <td>0.02</td>\n      <td>sand - medium dense</td>\n      <td>17.0</td>\n      <td>18.0</td>\n      <td>8.0</td>\n    </tr>\n    <tr>\n      <th>2</th>\n      <td>0.02</td>\n      <td>0.03</td>\n      <td>sand - medium dense</td>\n      <td>17.0</td>\n      <td>18.0</td>\n      <td>8.0</td>\n    </tr>\n    <tr>\n      <th>3</th>\n      <td>0.03</td>\n      <td>0.04</td>\n      <td>sand - medium dense</td>\n      <td>17.0</td>\n      <td>18.0</td>\n      <td>8.0</td>\n    </tr>\n    <tr>\n      <th>4</th>\n      <td>0.04</td>\n      <td>0.05</td>\n      <td>sand - medium dense</td>\n      <td>17.0</td>\n      <td>18.0</td>\n      <td>8.0</td>\n    </tr>\n    <tr>\n      <th>...</th>\n      <td>...</td>\n      <td>...</td>\n      <td>...</td>\n      <td>...</td>\n      <td>...</td>\n      <td>...</td>\n    </tr>\n    <tr>\n      <th>1195</th>\n      <td>11.95</td>\n      <td>11.96</td>\n      <td>silty clay - very stiff</td>\n      <td>16.0</td>\n      <td>16.0</td>\n      <td>16.0</td>\n    </tr>\n    <tr>\n      <th>1196</th>\n      <td>11.96</td>\n      <td>11.97</td>\n      <td>silty clay - very stiff</td>\n      <td>16.0</td>\n      <td>16.0</td>\n      <td>16.0</td>\n    </tr>\n    <tr>\n      <th>1197</th>\n      <td>11.97</td>\n      <td>11.98</td>\n      <td>silty clay - very stiff</td>\n      <td>16.0</td>\n      <td>16.0</td>\n      <td>16.0</td>\n    </tr>\n    <tr>\n      <th>1198</th>\n      <td>11.98</td>\n      <td>11.99</td>\n      <td>silty clay - very stiff</td>\n      <td>16.0</td>\n      <td>16.0</td>\n      <td>16.0</td>\n    </tr>\n    <tr>\n      <th>1199</th>\n      <td>11.99</td>\n      <td>12.00</td>\n      <td>silty clay - very stiff</td>\n      <td>16.0</td>\n      <td>16.0</td>\n      <td>16.0</td>\n    </tr>\n  </tbody>\n</table>\n<p>1200 rows × 6 columns</p>\n</div>"
     },
     "execution_count": 12,
     "metadata": {},
     "output_type": "execute_result"
    }
   ],
   "source": [
    "#untuk itu SPT pada permukaan harus dimodifikasi\n",
    "# berAsumsi bahwa nilai SPT permukaan sama dengan nilai SPT pertama yang muncul (depth 1.0 m)\n",
    "df_all.loc[0,'SPT']=df_spt.loc[0,'SPT']\n",
    "\n",
    "df_all.fillna(method='ffill',inplace=True)\n",
    "df_all"
   ],
   "metadata": {
    "collapsed": false
   }
  },
  {
   "cell_type": "code",
   "execution_count": 13,
   "outputs": [
    {
     "data": {
      "text/plain": "      depth_top  depth_bot                soil_type  gsat  gunsat   SPT  \\\n0          0.00       0.01      sand - medium dense  17.0    18.0   8.0   \n1          0.01       0.02      sand - medium dense  17.0    18.0   8.0   \n2          0.02       0.03      sand - medium dense  17.0    18.0   8.0   \n3          0.03       0.04      sand - medium dense  17.0    18.0   8.0   \n4          0.04       0.05      sand - medium dense  17.0    18.0   8.0   \n...         ...        ...                      ...   ...     ...   ...   \n1195      11.95      11.96  silty clay - very stiff  16.0    16.0  16.0   \n1196      11.96      11.97  silty clay - very stiff  16.0    16.0  16.0   \n1197      11.97      11.98  silty clay - very stiff  16.0    16.0  16.0   \n1198      11.98      11.99  silty clay - very stiff  16.0    16.0  16.0   \n1199      11.99      12.00  silty clay - very stiff  16.0    16.0  16.0   \n\n           status  \n0     above_water  \n1     above_water  \n2     above_water  \n3     above_water  \n4     above_water  \n...           ...  \n1195  below_water  \n1196  below_water  \n1197  below_water  \n1198  below_water  \n1199  below_water  \n\n[1200 rows x 7 columns]",
      "text/html": "<div>\n<style scoped>\n    .dataframe tbody tr th:only-of-type {\n        vertical-align: middle;\n    }\n\n    .dataframe tbody tr th {\n        vertical-align: top;\n    }\n\n    .dataframe thead th {\n        text-align: right;\n    }\n</style>\n<table border=\"1\" class=\"dataframe\">\n  <thead>\n    <tr style=\"text-align: right;\">\n      <th></th>\n      <th>depth_top</th>\n      <th>depth_bot</th>\n      <th>soil_type</th>\n      <th>gsat</th>\n      <th>gunsat</th>\n      <th>SPT</th>\n      <th>status</th>\n    </tr>\n  </thead>\n  <tbody>\n    <tr>\n      <th>0</th>\n      <td>0.00</td>\n      <td>0.01</td>\n      <td>sand - medium dense</td>\n      <td>17.0</td>\n      <td>18.0</td>\n      <td>8.0</td>\n      <td>above_water</td>\n    </tr>\n    <tr>\n      <th>1</th>\n      <td>0.01</td>\n      <td>0.02</td>\n      <td>sand - medium dense</td>\n      <td>17.0</td>\n      <td>18.0</td>\n      <td>8.0</td>\n      <td>above_water</td>\n    </tr>\n    <tr>\n      <th>2</th>\n      <td>0.02</td>\n      <td>0.03</td>\n      <td>sand - medium dense</td>\n      <td>17.0</td>\n      <td>18.0</td>\n      <td>8.0</td>\n      <td>above_water</td>\n    </tr>\n    <tr>\n      <th>3</th>\n      <td>0.03</td>\n      <td>0.04</td>\n      <td>sand - medium dense</td>\n      <td>17.0</td>\n      <td>18.0</td>\n      <td>8.0</td>\n      <td>above_water</td>\n    </tr>\n    <tr>\n      <th>4</th>\n      <td>0.04</td>\n      <td>0.05</td>\n      <td>sand - medium dense</td>\n      <td>17.0</td>\n      <td>18.0</td>\n      <td>8.0</td>\n      <td>above_water</td>\n    </tr>\n    <tr>\n      <th>...</th>\n      <td>...</td>\n      <td>...</td>\n      <td>...</td>\n      <td>...</td>\n      <td>...</td>\n      <td>...</td>\n      <td>...</td>\n    </tr>\n    <tr>\n      <th>1195</th>\n      <td>11.95</td>\n      <td>11.96</td>\n      <td>silty clay - very stiff</td>\n      <td>16.0</td>\n      <td>16.0</td>\n      <td>16.0</td>\n      <td>below_water</td>\n    </tr>\n    <tr>\n      <th>1196</th>\n      <td>11.96</td>\n      <td>11.97</td>\n      <td>silty clay - very stiff</td>\n      <td>16.0</td>\n      <td>16.0</td>\n      <td>16.0</td>\n      <td>below_water</td>\n    </tr>\n    <tr>\n      <th>1197</th>\n      <td>11.97</td>\n      <td>11.98</td>\n      <td>silty clay - very stiff</td>\n      <td>16.0</td>\n      <td>16.0</td>\n      <td>16.0</td>\n      <td>below_water</td>\n    </tr>\n    <tr>\n      <th>1198</th>\n      <td>11.98</td>\n      <td>11.99</td>\n      <td>silty clay - very stiff</td>\n      <td>16.0</td>\n      <td>16.0</td>\n      <td>16.0</td>\n      <td>below_water</td>\n    </tr>\n    <tr>\n      <th>1199</th>\n      <td>11.99</td>\n      <td>12.00</td>\n      <td>silty clay - very stiff</td>\n      <td>16.0</td>\n      <td>16.0</td>\n      <td>16.0</td>\n      <td>below_water</td>\n    </tr>\n  </tbody>\n</table>\n<p>1200 rows × 7 columns</p>\n</div>"
     },
     "execution_count": 13,
     "metadata": {},
     "output_type": "execute_result"
    }
   ],
   "source": [
    "#contoh 1: function lambda apply\n",
    "#buat dataframe status yg berguna untuk memberi keterangan bahwa posisi ini diatas air atau dibawah air\n",
    "#jika kedalaman air di 1 m dibawah muka tanah maka\n",
    "\n",
    "#buat kolom tanpa value\n",
    "df_all['status']=np.NaN\n",
    "\n",
    "water_depth = 1\n",
    "\n",
    "df_all['status'] = df_all['depth_bot'].apply(lambda x: 'above_water' if x <= water_depth else \"below_water\")\n",
    "df_all"
   ],
   "metadata": {
    "collapsed": false
   }
  },
  {
   "cell_type": "code",
   "execution_count": 14,
   "outputs": [],
   "source": [
    "#contoh 2: function assign\n",
    "# menghitung effective stress yang terjadi\n",
    "df_all['Δσtotal_bot'] = np.nan\n",
    "\n",
    "def stress_calculation(x):\n",
    "    global interval\n",
    "    if x['status'] == 'above_water':\n",
    "        return x['gunsat']*interval\n",
    "    elif x['status'] == 'below_water':\n",
    "        return x['gsat']*interval\n",
    "\n",
    "df_all = df_all.assign(Δσtotal_bot=df_all.apply(stress_calculation, axis=1))"
   ],
   "metadata": {
    "collapsed": false
   }
  },
  {
   "cell_type": "code",
   "execution_count": 15,
   "outputs": [
    {
     "data": {
      "text/plain": "      depth_top  depth_bot                soil_type  gsat  gunsat   SPT  \\\n0          0.00       0.01      sand - medium dense  17.0    18.0   8.0   \n1          0.01       0.02      sand - medium dense  17.0    18.0   8.0   \n2          0.02       0.03      sand - medium dense  17.0    18.0   8.0   \n3          0.03       0.04      sand - medium dense  17.0    18.0   8.0   \n4          0.04       0.05      sand - medium dense  17.0    18.0   8.0   \n...         ...        ...                      ...   ...     ...   ...   \n1195      11.95      11.96  silty clay - very stiff  16.0    16.0  16.0   \n1196      11.96      11.97  silty clay - very stiff  16.0    16.0  16.0   \n1197      11.97      11.98  silty clay - very stiff  16.0    16.0  16.0   \n1198      11.98      11.99  silty clay - very stiff  16.0    16.0  16.0   \n1199      11.99      12.00  silty clay - very stiff  16.0    16.0  16.0   \n\n           status  Δσtotal_bot  σtotal_bot  \n0     above_water         0.18        0.18  \n1     above_water         0.18        0.36  \n2     above_water         0.18        0.54  \n3     above_water         0.18        0.72  \n4     above_water         0.18        0.90  \n...           ...          ...         ...  \n1195  below_water         0.16      192.86  \n1196  below_water         0.16      193.02  \n1197  below_water         0.16      193.18  \n1198  below_water         0.16      193.34  \n1199  below_water         0.16      193.50  \n\n[1200 rows x 9 columns]",
      "text/html": "<div>\n<style scoped>\n    .dataframe tbody tr th:only-of-type {\n        vertical-align: middle;\n    }\n\n    .dataframe tbody tr th {\n        vertical-align: top;\n    }\n\n    .dataframe thead th {\n        text-align: right;\n    }\n</style>\n<table border=\"1\" class=\"dataframe\">\n  <thead>\n    <tr style=\"text-align: right;\">\n      <th></th>\n      <th>depth_top</th>\n      <th>depth_bot</th>\n      <th>soil_type</th>\n      <th>gsat</th>\n      <th>gunsat</th>\n      <th>SPT</th>\n      <th>status</th>\n      <th>Δσtotal_bot</th>\n      <th>σtotal_bot</th>\n    </tr>\n  </thead>\n  <tbody>\n    <tr>\n      <th>0</th>\n      <td>0.00</td>\n      <td>0.01</td>\n      <td>sand - medium dense</td>\n      <td>17.0</td>\n      <td>18.0</td>\n      <td>8.0</td>\n      <td>above_water</td>\n      <td>0.18</td>\n      <td>0.18</td>\n    </tr>\n    <tr>\n      <th>1</th>\n      <td>0.01</td>\n      <td>0.02</td>\n      <td>sand - medium dense</td>\n      <td>17.0</td>\n      <td>18.0</td>\n      <td>8.0</td>\n      <td>above_water</td>\n      <td>0.18</td>\n      <td>0.36</td>\n    </tr>\n    <tr>\n      <th>2</th>\n      <td>0.02</td>\n      <td>0.03</td>\n      <td>sand - medium dense</td>\n      <td>17.0</td>\n      <td>18.0</td>\n      <td>8.0</td>\n      <td>above_water</td>\n      <td>0.18</td>\n      <td>0.54</td>\n    </tr>\n    <tr>\n      <th>3</th>\n      <td>0.03</td>\n      <td>0.04</td>\n      <td>sand - medium dense</td>\n      <td>17.0</td>\n      <td>18.0</td>\n      <td>8.0</td>\n      <td>above_water</td>\n      <td>0.18</td>\n      <td>0.72</td>\n    </tr>\n    <tr>\n      <th>4</th>\n      <td>0.04</td>\n      <td>0.05</td>\n      <td>sand - medium dense</td>\n      <td>17.0</td>\n      <td>18.0</td>\n      <td>8.0</td>\n      <td>above_water</td>\n      <td>0.18</td>\n      <td>0.90</td>\n    </tr>\n    <tr>\n      <th>...</th>\n      <td>...</td>\n      <td>...</td>\n      <td>...</td>\n      <td>...</td>\n      <td>...</td>\n      <td>...</td>\n      <td>...</td>\n      <td>...</td>\n      <td>...</td>\n    </tr>\n    <tr>\n      <th>1195</th>\n      <td>11.95</td>\n      <td>11.96</td>\n      <td>silty clay - very stiff</td>\n      <td>16.0</td>\n      <td>16.0</td>\n      <td>16.0</td>\n      <td>below_water</td>\n      <td>0.16</td>\n      <td>192.86</td>\n    </tr>\n    <tr>\n      <th>1196</th>\n      <td>11.96</td>\n      <td>11.97</td>\n      <td>silty clay - very stiff</td>\n      <td>16.0</td>\n      <td>16.0</td>\n      <td>16.0</td>\n      <td>below_water</td>\n      <td>0.16</td>\n      <td>193.02</td>\n    </tr>\n    <tr>\n      <th>1197</th>\n      <td>11.97</td>\n      <td>11.98</td>\n      <td>silty clay - very stiff</td>\n      <td>16.0</td>\n      <td>16.0</td>\n      <td>16.0</td>\n      <td>below_water</td>\n      <td>0.16</td>\n      <td>193.18</td>\n    </tr>\n    <tr>\n      <th>1198</th>\n      <td>11.98</td>\n      <td>11.99</td>\n      <td>silty clay - very stiff</td>\n      <td>16.0</td>\n      <td>16.0</td>\n      <td>16.0</td>\n      <td>below_water</td>\n      <td>0.16</td>\n      <td>193.34</td>\n    </tr>\n    <tr>\n      <th>1199</th>\n      <td>11.99</td>\n      <td>12.00</td>\n      <td>silty clay - very stiff</td>\n      <td>16.0</td>\n      <td>16.0</td>\n      <td>16.0</td>\n      <td>below_water</td>\n      <td>0.16</td>\n      <td>193.50</td>\n    </tr>\n  </tbody>\n</table>\n<p>1200 rows × 9 columns</p>\n</div>"
     },
     "execution_count": 15,
     "metadata": {},
     "output_type": "execute_result"
    }
   ],
   "source": [
    "#menghitung kumulatif total stress yang terjadi\n",
    "df_all['σtotal_bot']= df_all['Δσtotal_bot'].cumsum()\n",
    "df_all"
   ],
   "metadata": {
    "collapsed": false
   }
  },
  {
   "cell_type": "code",
   "execution_count": 17,
   "outputs": [
    {
     "data": {
      "text/plain": "      depth_top  depth_bot                soil_type  gsat  gunsat   SPT  \\\n0          0.00       0.01      sand - medium dense  17.0    18.0   8.0   \n1          0.01       0.02      sand - medium dense  17.0    18.0   8.0   \n2          0.02       0.03      sand - medium dense  17.0    18.0   8.0   \n3          0.03       0.04      sand - medium dense  17.0    18.0   8.0   \n4          0.04       0.05      sand - medium dense  17.0    18.0   8.0   \n...         ...        ...                      ...   ...     ...   ...   \n1195      11.95      11.96  silty clay - very stiff  16.0    16.0  16.0   \n1196      11.96      11.97  silty clay - very stiff  16.0    16.0  16.0   \n1197      11.97      11.98  silty clay - very stiff  16.0    16.0  16.0   \n1198      11.98      11.99  silty clay - very stiff  16.0    16.0  16.0   \n1199      11.99      12.00  silty clay - very stiff  16.0    16.0  16.0   \n\n           status  Δσtotal_bot  σtotal_bot  σw_bot  \n0     above_water         0.18        0.18     0.0  \n1     above_water         0.18        0.36     0.0  \n2     above_water         0.18        0.54     0.0  \n3     above_water         0.18        0.72     0.0  \n4     above_water         0.18        0.90     0.0  \n...           ...          ...         ...     ...  \n1195  below_water         0.16      192.86   109.6  \n1196  below_water         0.16      193.02   109.7  \n1197  below_water         0.16      193.18   109.8  \n1198  below_water         0.16      193.34   109.9  \n1199  below_water         0.16      193.50   110.0  \n\n[1200 rows x 10 columns]",
      "text/html": "<div>\n<style scoped>\n    .dataframe tbody tr th:only-of-type {\n        vertical-align: middle;\n    }\n\n    .dataframe tbody tr th {\n        vertical-align: top;\n    }\n\n    .dataframe thead th {\n        text-align: right;\n    }\n</style>\n<table border=\"1\" class=\"dataframe\">\n  <thead>\n    <tr style=\"text-align: right;\">\n      <th></th>\n      <th>depth_top</th>\n      <th>depth_bot</th>\n      <th>soil_type</th>\n      <th>gsat</th>\n      <th>gunsat</th>\n      <th>SPT</th>\n      <th>status</th>\n      <th>Δσtotal_bot</th>\n      <th>σtotal_bot</th>\n      <th>σw_bot</th>\n    </tr>\n  </thead>\n  <tbody>\n    <tr>\n      <th>0</th>\n      <td>0.00</td>\n      <td>0.01</td>\n      <td>sand - medium dense</td>\n      <td>17.0</td>\n      <td>18.0</td>\n      <td>8.0</td>\n      <td>above_water</td>\n      <td>0.18</td>\n      <td>0.18</td>\n      <td>0.0</td>\n    </tr>\n    <tr>\n      <th>1</th>\n      <td>0.01</td>\n      <td>0.02</td>\n      <td>sand - medium dense</td>\n      <td>17.0</td>\n      <td>18.0</td>\n      <td>8.0</td>\n      <td>above_water</td>\n      <td>0.18</td>\n      <td>0.36</td>\n      <td>0.0</td>\n    </tr>\n    <tr>\n      <th>2</th>\n      <td>0.02</td>\n      <td>0.03</td>\n      <td>sand - medium dense</td>\n      <td>17.0</td>\n      <td>18.0</td>\n      <td>8.0</td>\n      <td>above_water</td>\n      <td>0.18</td>\n      <td>0.54</td>\n      <td>0.0</td>\n    </tr>\n    <tr>\n      <th>3</th>\n      <td>0.03</td>\n      <td>0.04</td>\n      <td>sand - medium dense</td>\n      <td>17.0</td>\n      <td>18.0</td>\n      <td>8.0</td>\n      <td>above_water</td>\n      <td>0.18</td>\n      <td>0.72</td>\n      <td>0.0</td>\n    </tr>\n    <tr>\n      <th>4</th>\n      <td>0.04</td>\n      <td>0.05</td>\n      <td>sand - medium dense</td>\n      <td>17.0</td>\n      <td>18.0</td>\n      <td>8.0</td>\n      <td>above_water</td>\n      <td>0.18</td>\n      <td>0.90</td>\n      <td>0.0</td>\n    </tr>\n    <tr>\n      <th>...</th>\n      <td>...</td>\n      <td>...</td>\n      <td>...</td>\n      <td>...</td>\n      <td>...</td>\n      <td>...</td>\n      <td>...</td>\n      <td>...</td>\n      <td>...</td>\n      <td>...</td>\n    </tr>\n    <tr>\n      <th>1195</th>\n      <td>11.95</td>\n      <td>11.96</td>\n      <td>silty clay - very stiff</td>\n      <td>16.0</td>\n      <td>16.0</td>\n      <td>16.0</td>\n      <td>below_water</td>\n      <td>0.16</td>\n      <td>192.86</td>\n      <td>109.6</td>\n    </tr>\n    <tr>\n      <th>1196</th>\n      <td>11.96</td>\n      <td>11.97</td>\n      <td>silty clay - very stiff</td>\n      <td>16.0</td>\n      <td>16.0</td>\n      <td>16.0</td>\n      <td>below_water</td>\n      <td>0.16</td>\n      <td>193.02</td>\n      <td>109.7</td>\n    </tr>\n    <tr>\n      <th>1197</th>\n      <td>11.97</td>\n      <td>11.98</td>\n      <td>silty clay - very stiff</td>\n      <td>16.0</td>\n      <td>16.0</td>\n      <td>16.0</td>\n      <td>below_water</td>\n      <td>0.16</td>\n      <td>193.18</td>\n      <td>109.8</td>\n    </tr>\n    <tr>\n      <th>1198</th>\n      <td>11.98</td>\n      <td>11.99</td>\n      <td>silty clay - very stiff</td>\n      <td>16.0</td>\n      <td>16.0</td>\n      <td>16.0</td>\n      <td>below_water</td>\n      <td>0.16</td>\n      <td>193.34</td>\n      <td>109.9</td>\n    </tr>\n    <tr>\n      <th>1199</th>\n      <td>11.99</td>\n      <td>12.00</td>\n      <td>silty clay - very stiff</td>\n      <td>16.0</td>\n      <td>16.0</td>\n      <td>16.0</td>\n      <td>below_water</td>\n      <td>0.16</td>\n      <td>193.50</td>\n      <td>110.0</td>\n    </tr>\n  </tbody>\n</table>\n<p>1200 rows × 10 columns</p>\n</div>"
     },
     "execution_count": 17,
     "metadata": {},
     "output_type": "execute_result"
    }
   ],
   "source": [
    "#menghitung tekanan air\n",
    "df_all['σw_bot']= np.nan\n",
    "\n",
    "def hidrostatic_press(x):\n",
    "    global water_depth\n",
    "    gwater = 10\n",
    "    if x['status'] == 'above_water':\n",
    "        return 0\n",
    "    elif x['status'] == 'below_water':\n",
    "        return (x['depth_bot'] - water_depth)*gwater\n",
    "\n",
    "df_all = df_all.assign(σw_bot=df_all.apply(hidrostatic_press, axis=1))\n",
    "df_all"
   ],
   "metadata": {
    "collapsed": false
   }
  },
  {
   "cell_type": "code",
   "execution_count": 17,
   "outputs": [
    {
     "data": {
      "text/plain": "      depth_top  depth_bot                soil_type  gsat  gunsat   SPT  \\\n0          0.00       0.01      sand - medium dense  17.0    18.0   8.0   \n1          0.01       0.02      sand - medium dense  17.0    18.0   8.0   \n2          0.02       0.03      sand - medium dense  17.0    18.0   8.0   \n3          0.03       0.04      sand - medium dense  17.0    18.0   8.0   \n4          0.04       0.05      sand - medium dense  17.0    18.0   8.0   \n...         ...        ...                      ...   ...     ...   ...   \n1195      11.95      11.96  silty clay - very stiff  16.0    16.0  16.0   \n1196      11.96      11.97  silty clay - very stiff  16.0    16.0  16.0   \n1197      11.97      11.98  silty clay - very stiff  16.0    16.0  16.0   \n1198      11.98      11.99  silty clay - very stiff  16.0    16.0  16.0   \n1199      11.99      12.00  silty clay - very stiff  16.0    16.0  16.0   \n\n           status  Δσtotal_bot  σtotal_bot  σw_bot  σ'v_bot  \n0     above_water         0.18        0.18     0.0     0.18  \n1     above_water         0.18        0.36     0.0     0.36  \n2     above_water         0.18        0.54     0.0     0.54  \n3     above_water         0.18        0.72     0.0     0.72  \n4     above_water         0.18        0.90     0.0     0.90  \n...           ...          ...         ...     ...      ...  \n1195  below_water         0.16      192.86   109.6    83.26  \n1196  below_water         0.16      193.02   109.7    83.32  \n1197  below_water         0.16      193.18   109.8    83.38  \n1198  below_water         0.16      193.34   109.9    83.44  \n1199  below_water         0.16      193.50   110.0    83.50  \n\n[1200 rows x 11 columns]",
      "text/html": "<div>\n<style scoped>\n    .dataframe tbody tr th:only-of-type {\n        vertical-align: middle;\n    }\n\n    .dataframe tbody tr th {\n        vertical-align: top;\n    }\n\n    .dataframe thead th {\n        text-align: right;\n    }\n</style>\n<table border=\"1\" class=\"dataframe\">\n  <thead>\n    <tr style=\"text-align: right;\">\n      <th></th>\n      <th>depth_top</th>\n      <th>depth_bot</th>\n      <th>soil_type</th>\n      <th>gsat</th>\n      <th>gunsat</th>\n      <th>SPT</th>\n      <th>status</th>\n      <th>Δσtotal_bot</th>\n      <th>σtotal_bot</th>\n      <th>σw_bot</th>\n      <th>σ'v_bot</th>\n    </tr>\n  </thead>\n  <tbody>\n    <tr>\n      <th>0</th>\n      <td>0.00</td>\n      <td>0.01</td>\n      <td>sand - medium dense</td>\n      <td>17.0</td>\n      <td>18.0</td>\n      <td>8.0</td>\n      <td>above_water</td>\n      <td>0.18</td>\n      <td>0.18</td>\n      <td>0.0</td>\n      <td>0.18</td>\n    </tr>\n    <tr>\n      <th>1</th>\n      <td>0.01</td>\n      <td>0.02</td>\n      <td>sand - medium dense</td>\n      <td>17.0</td>\n      <td>18.0</td>\n      <td>8.0</td>\n      <td>above_water</td>\n      <td>0.18</td>\n      <td>0.36</td>\n      <td>0.0</td>\n      <td>0.36</td>\n    </tr>\n    <tr>\n      <th>2</th>\n      <td>0.02</td>\n      <td>0.03</td>\n      <td>sand - medium dense</td>\n      <td>17.0</td>\n      <td>18.0</td>\n      <td>8.0</td>\n      <td>above_water</td>\n      <td>0.18</td>\n      <td>0.54</td>\n      <td>0.0</td>\n      <td>0.54</td>\n    </tr>\n    <tr>\n      <th>3</th>\n      <td>0.03</td>\n      <td>0.04</td>\n      <td>sand - medium dense</td>\n      <td>17.0</td>\n      <td>18.0</td>\n      <td>8.0</td>\n      <td>above_water</td>\n      <td>0.18</td>\n      <td>0.72</td>\n      <td>0.0</td>\n      <td>0.72</td>\n    </tr>\n    <tr>\n      <th>4</th>\n      <td>0.04</td>\n      <td>0.05</td>\n      <td>sand - medium dense</td>\n      <td>17.0</td>\n      <td>18.0</td>\n      <td>8.0</td>\n      <td>above_water</td>\n      <td>0.18</td>\n      <td>0.90</td>\n      <td>0.0</td>\n      <td>0.90</td>\n    </tr>\n    <tr>\n      <th>...</th>\n      <td>...</td>\n      <td>...</td>\n      <td>...</td>\n      <td>...</td>\n      <td>...</td>\n      <td>...</td>\n      <td>...</td>\n      <td>...</td>\n      <td>...</td>\n      <td>...</td>\n      <td>...</td>\n    </tr>\n    <tr>\n      <th>1195</th>\n      <td>11.95</td>\n      <td>11.96</td>\n      <td>silty clay - very stiff</td>\n      <td>16.0</td>\n      <td>16.0</td>\n      <td>16.0</td>\n      <td>below_water</td>\n      <td>0.16</td>\n      <td>192.86</td>\n      <td>109.6</td>\n      <td>83.26</td>\n    </tr>\n    <tr>\n      <th>1196</th>\n      <td>11.96</td>\n      <td>11.97</td>\n      <td>silty clay - very stiff</td>\n      <td>16.0</td>\n      <td>16.0</td>\n      <td>16.0</td>\n      <td>below_water</td>\n      <td>0.16</td>\n      <td>193.02</td>\n      <td>109.7</td>\n      <td>83.32</td>\n    </tr>\n    <tr>\n      <th>1197</th>\n      <td>11.97</td>\n      <td>11.98</td>\n      <td>silty clay - very stiff</td>\n      <td>16.0</td>\n      <td>16.0</td>\n      <td>16.0</td>\n      <td>below_water</td>\n      <td>0.16</td>\n      <td>193.18</td>\n      <td>109.8</td>\n      <td>83.38</td>\n    </tr>\n    <tr>\n      <th>1198</th>\n      <td>11.98</td>\n      <td>11.99</td>\n      <td>silty clay - very stiff</td>\n      <td>16.0</td>\n      <td>16.0</td>\n      <td>16.0</td>\n      <td>below_water</td>\n      <td>0.16</td>\n      <td>193.34</td>\n      <td>109.9</td>\n      <td>83.44</td>\n    </tr>\n    <tr>\n      <th>1199</th>\n      <td>11.99</td>\n      <td>12.00</td>\n      <td>silty clay - very stiff</td>\n      <td>16.0</td>\n      <td>16.0</td>\n      <td>16.0</td>\n      <td>below_water</td>\n      <td>0.16</td>\n      <td>193.50</td>\n      <td>110.0</td>\n      <td>83.50</td>\n    </tr>\n  </tbody>\n</table>\n<p>1200 rows × 11 columns</p>\n</div>"
     },
     "execution_count": 17,
     "metadata": {},
     "output_type": "execute_result"
    }
   ],
   "source": [
    "#menghitung vertical eff stress\n",
    "df_all[\"σ'v_bot\"]=df_all['σtotal_bot'] - df_all['σw_bot']\n",
    "df_all"
   ],
   "metadata": {
    "collapsed": false
   }
  },
  {
   "cell_type": "code",
   "execution_count": 1,
   "outputs": [
    {
     "data": {
      "text/plain": "      semen  pasir  kerikil  air   w/c\nK100    247    869      999  215  0.87\nK125    276    828     1012  215  0.78\nK150    299    799     1017  215  0.72\nK175    326    760     1029  215  0.66\nK200    352    731     1031  215  0.61\nK225    371    698     1047  215  0.58\nK250    384    692     1039  215  0.56\nK275    406    684     1026  215  0.53\nK300    413    681     1021  215  0.52\nK325    439    670     1006  215  0.49\nK350    448    667     1000  215  0.48",
      "text/html": "<div>\n<style scoped>\n    .dataframe tbody tr th:only-of-type {\n        vertical-align: middle;\n    }\n\n    .dataframe tbody tr th {\n        vertical-align: top;\n    }\n\n    .dataframe thead th {\n        text-align: right;\n    }\n</style>\n<table border=\"1\" class=\"dataframe\">\n  <thead>\n    <tr style=\"text-align: right;\">\n      <th></th>\n      <th>semen</th>\n      <th>pasir</th>\n      <th>kerikil</th>\n      <th>air</th>\n      <th>w/c</th>\n    </tr>\n  </thead>\n  <tbody>\n    <tr>\n      <th>K100</th>\n      <td>247</td>\n      <td>869</td>\n      <td>999</td>\n      <td>215</td>\n      <td>0.87</td>\n    </tr>\n    <tr>\n      <th>K125</th>\n      <td>276</td>\n      <td>828</td>\n      <td>1012</td>\n      <td>215</td>\n      <td>0.78</td>\n    </tr>\n    <tr>\n      <th>K150</th>\n      <td>299</td>\n      <td>799</td>\n      <td>1017</td>\n      <td>215</td>\n      <td>0.72</td>\n    </tr>\n    <tr>\n      <th>K175</th>\n      <td>326</td>\n      <td>760</td>\n      <td>1029</td>\n      <td>215</td>\n      <td>0.66</td>\n    </tr>\n    <tr>\n      <th>K200</th>\n      <td>352</td>\n      <td>731</td>\n      <td>1031</td>\n      <td>215</td>\n      <td>0.61</td>\n    </tr>\n    <tr>\n      <th>K225</th>\n      <td>371</td>\n      <td>698</td>\n      <td>1047</td>\n      <td>215</td>\n      <td>0.58</td>\n    </tr>\n    <tr>\n      <th>K250</th>\n      <td>384</td>\n      <td>692</td>\n      <td>1039</td>\n      <td>215</td>\n      <td>0.56</td>\n    </tr>\n    <tr>\n      <th>K275</th>\n      <td>406</td>\n      <td>684</td>\n      <td>1026</td>\n      <td>215</td>\n      <td>0.53</td>\n    </tr>\n    <tr>\n      <th>K300</th>\n      <td>413</td>\n      <td>681</td>\n      <td>1021</td>\n      <td>215</td>\n      <td>0.52</td>\n    </tr>\n    <tr>\n      <th>K325</th>\n      <td>439</td>\n      <td>670</td>\n      <td>1006</td>\n      <td>215</td>\n      <td>0.49</td>\n    </tr>\n    <tr>\n      <th>K350</th>\n      <td>448</td>\n      <td>667</td>\n      <td>1000</td>\n      <td>215</td>\n      <td>0.48</td>\n    </tr>\n  </tbody>\n</table>\n</div>"
     },
     "execution_count": 1,
     "metadata": {},
     "output_type": "execute_result"
    }
   ],
   "source": [
    "import pandas as pd\n",
    "\n",
    "#Komposisi beton berdasarkan kualitasnya menurut SNI DT-91-2007\n",
    "beton_1 = {'K100': {'semen': 247, 'pasir': 869, 'kerikil': 999,'air':215,'w/c':0.87}}\n",
    "beton_2 = {'K125': {'semen': 276, 'pasir': 828, 'kerikil': 1012,'air':215,'w/c':0.78}}\n",
    "beton_3 = {'K150': {'semen': 299, 'pasir': 799, 'kerikil': 1017,'air':215,'w/c':0.72}}\n",
    "beton_4 = {'K175': {'semen': 326, 'pasir': 760, 'kerikil': 1029,'air':215,'w/c':0.66}}\n",
    "beton_5 = {'K200': {'semen': 352, 'pasir': 731, 'kerikil': 1031,'air':215,'w/c':0.61}}\n",
    "beton_6 = {'K225': {'semen': 371, 'pasir': 698, 'kerikil': 1047,'air':215,'w/c':0.58}}\n",
    "beton_7 = {'K250': {'semen': 384, 'pasir': 692, 'kerikil': 1039,'air':215,'w/c':0.56}}\n",
    "beton_8 = {'K275': {'semen': 406, 'pasir': 684, 'kerikil': 1026,'air':215,'w/c':0.53}}\n",
    "beton_9 = {'K300': {'semen': 413, 'pasir': 681, 'kerikil': 1021,'air':215,'w/c':0.52}}\n",
    "beton_10 = {'K325': {'semen': 439, 'pasir': 670, 'kerikil': 1006,'air':215,'w/c':0.49}}\n",
    "beton_11 = {'K350': {'semen': 448, 'pasir': 667, 'kerikil': 1000,'air':215,'w/c':0.48}}\n",
    "\n",
    "#gabung semua dictionary dengan nama beton\n",
    "beton = {}\n",
    "for i in range(11):\n",
    "    beton.update(globals()[f'beton_{i+1}'])\n",
    "\n",
    "#dari practical example sebelumnya. format dictionary pada tiap beton sudah\n",
    "#sesuai dengan template yang dapat dibaca oleh pandas.\n",
    "#yang mana format dataframe contoh beton ini berbeda dengan template pada sub bab dict\n",
    "\n",
    "#table model 1\n",
    "df_beton_1 = pd.DataFrame.from_dict(beton)\n",
    "df_beton_1\n",
    "\n",
    "#table model 2\n",
    "df_beton_2 = pd.DataFrame.from_dict(beton, orient='index')\n",
    "df_beton_2"
   ],
   "metadata": {
    "collapsed": false
   }
  },
  {
   "cell_type": "code",
   "execution_count": 2,
   "outputs": [
    {
     "data": {
      "text/plain": "{'K100': {'semen': 247, 'pasir': 869, 'kerikil': 999, 'air': 215, 'w/c': 0.87},\n 'K125': {'semen': 276,\n  'pasir': 828,\n  'kerikil': 1012,\n  'air': 215,\n  'w/c': 0.78},\n 'K150': {'semen': 299,\n  'pasir': 799,\n  'kerikil': 1017,\n  'air': 215,\n  'w/c': 0.72},\n 'K175': {'semen': 326,\n  'pasir': 760,\n  'kerikil': 1029,\n  'air': 215,\n  'w/c': 0.66},\n 'K200': {'semen': 352,\n  'pasir': 731,\n  'kerikil': 1031,\n  'air': 215,\n  'w/c': 0.61},\n 'K225': {'semen': 371,\n  'pasir': 698,\n  'kerikil': 1047,\n  'air': 215,\n  'w/c': 0.58},\n 'K250': {'semen': 384,\n  'pasir': 692,\n  'kerikil': 1039,\n  'air': 215,\n  'w/c': 0.56},\n 'K275': {'semen': 406,\n  'pasir': 684,\n  'kerikil': 1026,\n  'air': 215,\n  'w/c': 0.53},\n 'K300': {'semen': 413,\n  'pasir': 681,\n  'kerikil': 1021,\n  'air': 215,\n  'w/c': 0.52},\n 'K325': {'semen': 439,\n  'pasir': 670,\n  'kerikil': 1006,\n  'air': 215,\n  'w/c': 0.49},\n 'K350': {'semen': 448,\n  'pasir': 667,\n  'kerikil': 1000,\n  'air': 215,\n  'w/c': 0.48}}"
     },
     "execution_count": 2,
     "metadata": {},
     "output_type": "execute_result"
    }
   ],
   "source": [
    "beton"
   ],
   "metadata": {
    "collapsed": false
   }
  }
 ],
 "metadata": {
  "kernelspec": {
   "display_name": "Python 3 (ipykernel)",
   "language": "python",
   "name": "python3"
  },
  "language_info": {
   "codemirror_mode": {
    "name": "ipython",
    "version": 3
   },
   "file_extension": ".py",
   "mimetype": "text/x-python",
   "name": "python",
   "nbconvert_exporter": "python",
   "pygments_lexer": "ipython3",
   "version": "3.9.16"
  }
 },
 "nbformat": 4,
 "nbformat_minor": 1
}
