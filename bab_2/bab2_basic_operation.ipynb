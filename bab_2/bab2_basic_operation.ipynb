{
 "cells": [
  {
   "cell_type": "code",
   "execution_count": 1,
   "metadata": {},
   "outputs": [
    {
     "name": "stdout",
     "output_type": "stream",
     "text": [
      "selamat datang di bab 2\n"
     ]
    }
   ],
   "source": [
    "#tutor1\n",
    "print('selamat datang di bab 2')"
   ]
  },
  {
   "cell_type": "code",
   "execution_count": 8,
   "outputs": [
    {
     "name": "stdout",
     "output_type": "stream",
     "text": [
      "selamat datang di bab 1\n"
     ]
    }
   ],
   "source": [
    "def tulis_ini(kalimat):\n",
    "    return print(kalimat)\n",
    "\n",
    "tulis_ini('selamat datang di bab 1')"
   ],
   "metadata": {
    "collapsed": false
   }
  },
  {
   "cell_type": "code",
   "execution_count": 2,
   "metadata": {},
   "outputs": [
    {
     "name": "stdout",
     "output_type": "stream",
     "text": [
      "<class 'int'> <class 'float'> <class 'str'> <class 'bool'>\n"
     ]
    }
   ],
   "source": [
    "#jenis-jenis data\n",
    "\n",
    "a = 1                   #bilangan bulat = integer (int)\n",
    "b = 4.33                #bilangan pecah = float (float)\n",
    "c = 'saya pasti bisa'   #huruf/kalimat  = string (str)\n",
    "d = True                #True or False = Boolean (bool)\n",
    "\n",
    "print(type(a), type(b), type(c), type(d))"
   ]
  },
  {
   "cell_type": "code",
   "execution_count": 45,
   "metadata": {},
   "outputs": [
    {
     "name": "stdout",
     "output_type": "stream",
     "text": [
      "5.33\n"
     ]
    }
   ],
   "source": [
    "nilai = a + b\n",
    "print(nilai)"
   ]
  },
  {
   "cell_type": "code",
   "execution_count": 33,
   "metadata": {},
   "outputs": [
    {
     "data": {
      "text/plain": [
       "'saya pasti bisa 4.33'"
      ]
     },
     "execution_count": 33,
     "metadata": {},
     "output_type": "execute_result"
    }
   ],
   "source": [
    "#mengkonversi tipe data lin ke string dengan str()\n",
    "print (c + ' ' + str(b))"
   ]
  },
  {
   "cell_type": "code",
   "execution_count": 80,
   "metadata": {},
   "outputs": [],
   "source": [
    "#segala sesuatu didalam list [] disebut dengan element\n",
    "#pelajari lebih lanjut tentang list \"https://developers.google.com/edu/python/lists#for-and-in\"\n",
    "list_belanjaan = ['tempe', 'tahu', 'beras']\n",
    "list_angka = [10 , 20 , 99, 5]"
   ]
  },
  {
   "cell_type": "code",
   "execution_count": 81,
   "metadata": {},
   "outputs": [
    {
     "name": "stdout",
     "output_type": "stream",
     "text": [
      "['tempe', 'tahu', 'beras', 'kecap']\n"
     ]
    }
   ],
   "source": [
    "#menambahkan item ke list\n",
    "\n",
    "list_belanjaan.append('kecap')\n",
    "print(list_belanjaan)"
   ]
  },
  {
   "cell_type": "code",
   "execution_count": 64,
   "metadata": {},
   "outputs": [
    {
     "name": "stdout",
     "output_type": "stream",
     "text": [
      "tempe\n",
      "kecap\n",
      "kecap\n"
     ]
    }
   ],
   "source": [
    "#mengetahui element list pada posisi index tertentu\n",
    "#dari depan dimulai dari 0  , jika dari belakang -1\n",
    "print(list_belanjaan[0])\n",
    "print(list_belanjaan[3])\n",
    "print(list_belanjaan[-1])"
   ]
  },
  {
   "cell_type": "code",
   "execution_count": 89,
   "metadata": {},
   "outputs": [
    {
     "name": "stdout",
     "output_type": "stream",
     "text": [
      "4\n"
     ]
    }
   ],
   "source": [
    "#menghitung jumlah element pada suatu list dengan len()\n",
    "jumlah_total = len(list_belanjaan)\n",
    "print(jumlah_total)"
   ]
  },
  {
   "cell_type": "code",
   "execution_count": 93,
   "metadata": {},
   "outputs": [
    {
     "name": "stdout",
     "output_type": "stream",
     "text": [
      "saya di suruh ibu untuk membeli tempe, tahu, beras, dan kecap di pasar. total belanjaan saya keseluruhan adalah 4 item.\n"
     ]
    }
   ],
   "source": [
    "#sebelum di append ['tempe', 'tahu', 'beras']\n",
    "#setelah di append ['tempe', 'tahu', 'beras', 'kecap']\n",
    "#jika list index out of range terjadi maka perhatikan jumlah list anda\n",
    "\n",
    "kalimat_panjang = f\"saya di suruh ibu untuk membeli {list_belanjaan[0]}, {list_belanjaan[1]}, {list_belanjaan[2]}, dan {list_belanjaan[3]} di pasar. total belanjaan saya keseluruhan adalah {jumlah_total} item.\"\n",
    "\n",
    "print(kalimat_panjang)"
   ]
  },
  {
   "cell_type": "code",
   "execution_count": 36,
   "outputs": [],
   "source": [
    "# assign variables cara1\n",
    "X1 = 5\n",
    "X2 = 10\n",
    "X3 = 6\n",
    "\n",
    "# assign variables cara2 dengan list\n",
    "\n",
    "Y1, Y2, Y3 = [3, 5.1, 6]"
   ],
   "metadata": {
    "collapsed": false
   }
  },
  {
   "cell_type": "markdown",
   "metadata": {},
   "source": [
    "If, else, elif, in, and, or statements"
   ]
  },
  {
   "cell_type": "code",
   "execution_count": 114,
   "metadata": {},
   "outputs": [
    {
     "data": {
      "text/plain": [
       "True"
      ]
     },
     "execution_count": 114,
     "metadata": {},
     "output_type": "execute_result"
    }
   ],
   "source": [
    "list_belanjaan = ['tempe', 'tahu', 'beras', 'kecap']\n",
    "\n",
    "barang_ini = 'tempe'\n",
    "\n",
    "#menanyakan apakah tempe ada di list belanjaan\n",
    "barang_ini in list_belanjaan"
   ]
  },
  {
   "cell_type": "code",
   "execution_count": 118,
   "metadata": {},
   "outputs": [
    {
     "name": "stdout",
     "output_type": "stream",
     "text": [
      "bakso tidak ada pada list belanjaan\n"
     ]
    }
   ],
   "source": [
    "barang_ini = 'bakso'\n",
    "\n",
    "if barang_ini in list_belanjaan:\n",
    "    print(f'{barang_ini} ada pada list belanjaan')\n",
    "else:\n",
    "    print(f'{barang_ini} tidak ada pada list belanjaan')"
   ]
  },
  {
   "cell_type": "code",
   "execution_count": 126,
   "metadata": {},
   "outputs": [
    {
     "name": "stdout",
     "output_type": "stream",
     "text": [
      "baik\n"
     ]
    }
   ],
   "source": [
    "#nilai sangat baik  90 - 100\n",
    "#nilai baik         80 - 90\n",
    "#nilai cukup        70 - 80\n",
    "\n",
    "nilai = 82\n",
    "\n",
    "if (nilai>70 and nilai <=80):\n",
    "    print('cukup')\n",
    "elif (nilai>80 and nilai <=90):\n",
    "    print('baik')\n",
    "elif (nilai>90 and nilai <=100):\n",
    "    print('sangat baik')\n",
    "else:\n",
    "    print('nilai kurang dari atau sama dengan 70')\n",
    "\n",
    "#jika anda punya multi kriteria maka  if (kriteria1 and kriteria2 and kriteria3 and dst.)"
   ]
  },
  {
   "cell_type": "code",
   "execution_count": 131,
   "metadata": {},
   "outputs": [
    {
     "name": "stdout",
     "output_type": "stream",
     "text": [
      "maaf, gratisan tidak berlaku\n"
     ]
    }
   ],
   "source": [
    "#jika umur kurang dari 10 tahun atau lebih dari 90 tahun maka anda dapat gratisan\n",
    "\n",
    "umur = 50\n",
    "\n",
    "if (umur < 10 or umur > 90):\n",
    "    print('anda berhak dapat gratisan')\n",
    "else:\n",
    "    print('maaf, gratisan tidak berlaku')"
   ]
  },
  {
   "cell_type": "markdown",
   "metadata": {},
   "source": [
    "Matematika dasar"
   ]
  },
  {
   "cell_type": "code",
   "execution_count": 4,
   "outputs": [],
   "source": [
    "import numpy as np"
   ],
   "metadata": {
    "collapsed": false
   }
  },
  {
   "cell_type": "code",
   "execution_count": 38,
   "metadata": {},
   "outputs": [
    {
     "name": "stdout",
     "output_type": "stream",
     "text": [
      "1963.4954084936207\n"
     ]
    }
   ],
   "source": [
    "#geometry\n",
    "diameter_lingkaran = 50\n",
    "\n",
    "luas_lingkaran = np.pi * (diameter_lingkaran **2) / 4\n",
    "print(luas_lingkaran)"
   ]
  },
  {
   "cell_type": "code",
   "execution_count": 43,
   "metadata": {},
   "outputs": [
    {
     "name": "stdout",
     "output_type": "stream",
     "text": [
      "nilai dari sin(30°) adalah 0.49999999999999994\n",
      "\n",
      "0.49999999999999994 jika dibulatkan menjadi 0.5\n"
     ]
    }
   ],
   "source": [
    "#trigonometri\n",
    "alpha = 30 #derajat\n",
    "sin_alpha = np.sin(np.radians(alpha))\n",
    "\n",
    "#\\n berfungsi untuk memberikan spacing  1 line kebawah\n",
    "print(f'nilai dari sin({alpha}°) adalah {sin_alpha}\\n')\n",
    "print(f'{sin_alpha} jika dibulatkan menjadi {round(sin_alpha,2)}')"
   ]
  },
  {
   "cell_type": "markdown",
   "metadata": {},
   "source": [
    "Matrix"
   ]
  },
  {
   "cell_type": "code",
   "execution_count": 11,
   "metadata": {},
   "outputs": [
    {
     "data": {
      "text/plain": [
       "matrix([[27, 36],\n",
       "        [18, 24]])"
      ]
     },
     "execution_count": 11,
     "metadata": {},
     "output_type": "execute_result"
    }
   ],
   "source": [
    "#contoh matrix1\n",
    "matrix_A = np.matrix([[3,6],[2,4]])\n",
    "matrix_B = np.matrix([[1,2],[4,5]])\n",
    "\n",
    "matrix_A * matrix_B"
   ]
  },
  {
   "cell_type": "code",
   "execution_count": 9,
   "metadata": {},
   "outputs": [
    {
     "data": {
      "text/plain": [
       "matrix([[140, 146],\n",
       "        [320, 335]])"
      ]
     },
     "execution_count": 9,
     "metadata": {},
     "output_type": "execute_result"
    }
   ],
   "source": [
    "#contoh matrix2\n",
    "x = np.matrix([[1,2,3],[4,5,6]])\n",
    "y = np.matrix([[10,11],[20,21],[30,31]])\n",
    "\n",
    "x*y"
   ]
  },
  {
   "cell_type": "markdown",
   "metadata": {},
   "source": [
    "PYTHON LOOP \"in range\""
   ]
  },
  {
   "cell_type": "code",
   "execution_count": 134,
   "metadata": {},
   "outputs": [
    {
     "name": "stdout",
     "output_type": "stream",
     "text": [
      "4\n",
      "7\n",
      "10\n",
      "13\n",
      "16\n",
      "19\n",
      "22\n"
     ]
    }
   ],
   "source": [
    "#melakukan loop 7x\n",
    "#menambahkan variable i dengan angka 3 sebanyak 7x\n",
    "i = 1\n",
    "for angka in range (7):\n",
    "    i = i + 3\n",
    "    print(i)"
   ]
  },
  {
   "cell_type": "code",
   "execution_count": 140,
   "metadata": {},
   "outputs": [
    {
     "name": "stdout",
     "output_type": "stream",
     "text": [
      "loop ke-0, hasilnya 4\n",
      "loop ke-1, hasilnya 7\n",
      "loop ke-2, hasilnya 10\n",
      "loop ke-3, hasilnya 13\n",
      "loop ke-4, hasilnya 16\n",
      "loop ke-5, hasilnya 19\n",
      "loop ke-6, hasilnya 22\n"
     ]
    }
   ],
   "source": [
    "# dari code diatas kata \"angka\" bisa diganti dengan apa saja, contoh dibawah adalah 'x',\n",
    "# lalu i = i + 3 bisa disederhanakan menjadi +=\n",
    "i = 1\n",
    "for x in range (7):\n",
    "    i += 3\n",
    "    print(f'loop ke-{x}, hasilnya {i}')\n",
    "\n",
    "#berlaku juga untuk -= , *=, /="
   ]
  },
  {
   "cell_type": "code",
   "execution_count": 138,
   "metadata": {},
   "outputs": [
    {
     "name": "stdout",
     "output_type": "stream",
     "text": [
      "loop ke-1, hasilnya 4\n",
      "loop ke-2, hasilnya 7\n",
      "loop ke-3, hasilnya 10\n",
      "loop ke-4, hasilnya 13\n",
      "loop ke-5, hasilnya 16\n",
      "loop ke-6, hasilnya 19\n",
      "loop ke-7, hasilnya 22\n"
     ]
    }
   ],
   "source": [
    "#code \"in range (7)\" akan memberikan nilai \"for x\" dari angka 0 ke 6 (7-1).\n",
    "#hasil, 0,1,2,3,4,5,6  namun tetap 7x karena dimulai dari 0\n",
    "#maka code dapat diupdate sebagai berikut:\n",
    "\n",
    "i = 1\n",
    "for x in range (7):\n",
    "    i += 3\n",
    "    print(f'loop ke-{x+1}, hasilnya {i}')\n"
   ]
  },
  {
   "cell_type": "code",
   "execution_count": 143,
   "metadata": {},
   "outputs": [
    {
     "name": "stdout",
     "output_type": "stream",
     "text": [
      "[4, 7, 10, 13, 16, 19, 22]\n"
     ]
    }
   ],
   "source": [
    "list_awal = []\n",
    "i = 1\n",
    "for x in range (7):\n",
    "    i += 3\n",
    "    list_awal.append(i)\n",
    "\n",
    "print(list_awal)"
   ]
  },
  {
   "cell_type": "code",
   "execution_count": 145,
   "metadata": {},
   "outputs": [
    {
     "name": "stdout",
     "output_type": "stream",
     "text": [
      "2\n",
      "3\n",
      "4\n",
      "5\n",
      "6\n"
     ]
    }
   ],
   "source": [
    "#memulai loop tidak dari angka 0\n",
    "for x in range (2,7):\n",
    "    print(x)"
   ]
  },
  {
   "cell_type": "code",
   "execution_count": 147,
   "metadata": {},
   "outputs": [
    {
     "name": "stdout",
     "output_type": "stream",
     "text": [
      "0\n",
      "2\n",
      "4\n",
      "6\n",
      "8\n",
      "10\n",
      "12\n",
      "14\n",
      "16\n",
      "18\n"
     ]
    }
   ],
   "source": [
    "#memulai loop dengan interval. contoh dari 0 dan interval 2\n",
    "for x in range (0,20,2):\n",
    "    print(x)"
   ]
  },
  {
   "cell_type": "markdown",
   "metadata": {},
   "source": [
    "PYTHON LOOP \"in list\""
   ]
  },
  {
   "cell_type": "code",
   "execution_count": 154,
   "metadata": {},
   "outputs": [
    {
     "name": "stdout",
     "output_type": "stream",
     "text": [
      "tempe\n",
      "tahu\n",
      "beras\n",
      "kecap\n"
     ]
    }
   ],
   "source": [
    "list_belanjaan = ['tempe', 'tahu', 'beras', 'kecap']\n",
    "\n",
    "for item in list_belanjaan:\n",
    "    print(item)\n"
   ]
  },
  {
   "cell_type": "code",
   "execution_count": 155,
   "metadata": {},
   "outputs": [
    {
     "name": "stdout",
     "output_type": "stream",
     "text": [
      "tempe\n",
      "1\n",
      "tahu\n",
      "2\n",
      "beras\n",
      "3\n",
      "kecap\n",
      "4\n"
     ]
    }
   ],
   "source": [
    "#python akan otomatis menghitung jumlah element pada list anda,\n",
    "#lalu melakukan loop sebanyak itu pula. dalam hal ini jumlah element pada\n",
    "#list belanjaan adalah 4, sehingga akan di loop 4x\n",
    "\n",
    "list_belanjaan = ['tempe', 'tahu', 'beras', 'kecap']\n",
    "\n",
    "berhitung = 0\n",
    "for item in list_belanjaan:\n",
    "    berhitung += 1\n",
    "    print(item)\n",
    "    print(berhitung)"
   ]
  },
  {
   "cell_type": "code",
   "execution_count": 5,
   "metadata": {},
   "outputs": [
    {
     "name": "stdout",
     "output_type": "stream",
     "text": [
      "0\n",
      "1\n",
      "2\n",
      "3\n"
     ]
    }
   ],
   "source": [
    "#jika jenis loop diganti dengan in range,\n",
    "#maka item akan menghasilkan nilai dari 0,1,2,3 karena len(list_belanjaan) = 4\n",
    "\n",
    "list_belanjaan = ['tempe', 'tahu', 'beras', 'kecap']\n",
    "\n",
    "for x in range(len(list_belanjaan)):\n",
    "    print(x)"
   ]
  },
  {
   "cell_type": "code",
   "execution_count": 158,
   "metadata": {},
   "outputs": [
    {
     "name": "stdout",
     "output_type": "stream",
     "text": [
      "tempe\n",
      "tahu\n",
      "beras\n",
      "kecap\n"
     ]
    }
   ],
   "source": [
    "#hasil dari pada deret 0,1,2,3 dari len bisa digunakan untuk hal lain seperti contoh dibawah,\n",
    "#Dalam hal ini adalah untuk memanggil element pada list belanjaan\n",
    "\n",
    "list_belanjaan = ['tempe', 'tahu', 'beras', 'kecap']\n",
    "\n",
    "for i in range(len(list_belanjaan)):\n",
    "    print(list_belanjaan[i])"
   ]
  },
  {
   "cell_type": "code",
   "execution_count": 162,
   "metadata": {},
   "outputs": [
    {
     "name": "stdout",
     "output_type": "stream",
     "text": [
      "jika i = 0 maka list_belanjaan[0] = tempe\n",
      "jika i = 1 maka list_belanjaan[1] = tahu\n",
      "jika i = 2 maka list_belanjaan[2] = beras\n",
      "jika i = 3 maka list_belanjaan[3] = kecap\n"
     ]
    }
   ],
   "source": [
    "#hasil dari pada deret 0,1,2,3 dari len bisa digunakan untuk hal lain\n",
    "#seperti pada  contoh dibawah, yaitu untuk memanggil element pada list belanjaan\n",
    "list_belanjaan = ['tempe', 'tahu', 'beras', 'kecap']\n",
    "\n",
    "for i in range(len(list_belanjaan)):\n",
    "    print(f'jika i = {i} maka list_belanjaan[{i}] = {list_belanjaan[i]}')"
   ]
  },
  {
   "cell_type": "code",
   "execution_count": null,
   "outputs": [],
   "source": [
    "#membuat variable baru dengan loop\n",
    "#buat 10 variable baru dengan format :   nama_urutan = urutan\n",
    "\n",
    "for i in range (11):\n",
    "    globals()[f'nama_{i}'] = i\n",
    "\n",
    "print (nama_1)  #10 variable baru dengan format nama_angka tercipta."
   ],
   "metadata": {
    "collapsed": false
   }
  },
  {
   "cell_type": "code",
   "execution_count": 2,
   "outputs": [
    {
     "name": "stdout",
     "output_type": "stream",
     "text": [
      "['tikus_1', 'tikus_2', 'tikus_3', 'tikus_4', 'tikus_5', 'tikus_6', 'tikus_7', 'tikus_8', 'tikus_9']\n"
     ]
    }
   ],
   "source": [
    "#membuat isi list dengan loop\n",
    "\n",
    "berapa_tikus = [f'tikus_{i}' for i in range (1,10)]\n",
    "print(berapa_tikus)"
   ],
   "metadata": {
    "collapsed": false
   }
  },
  {
   "cell_type": "code",
   "execution_count": 107,
   "metadata": {},
   "outputs": [
    {
     "name": "stdout",
     "output_type": "stream",
     "text": [
      "[18203.0, 21019.0, 25743.0, 29725.0, 33234.0, 36406.0]\n"
     ]
    }
   ],
   "source": [
    "#Practical Example 1:\n",
    "#jika Econcrete = 4700(fc)^0.5. buat list E\n",
    "\n",
    "list_fc = [15,20,30,40,50,60]\n",
    "jumlah_test = len(list_fc)\n",
    "\n",
    "list_E = []\n",
    "\n",
    "for m in range (jumlah_test):\n",
    "    E = 4700 * np.sqrt(list_fc[m])\n",
    "    E_dibulatkan = round(E,0)\n",
    "    list_E.append(E_dibulatkan)\n",
    "\n",
    "print(list_E)"
   ]
  },
  {
   "cell_type": "code",
   "execution_count": 85,
   "metadata": {},
   "outputs": [],
   "source": [
    "#Practical Example 2:\n",
    "#dari angka 1 sampai 1000 buat 2 list, list angka ganjil dan genap\n",
    "#tips: operasi modulus (modulo atau %) adalah sebuah operasi yang menghasilkan sisa pembagian\n",
    "#dari suatu bilangan terhadap bilangan lainnya maka jika suatu angka di modulo dengan 2\n",
    "#menyisakan nilai yang bukan 0 (e.g 5 % 2 = 1) maka angka tersebut adalah angka ganjil\n",
    "\n",
    "list_angka = np.arange(1,1001,1).tolist()\n",
    "angka_ganjil = []\n",
    "angka_genap = []\n",
    "\n",
    "for angka in list_angka:\n",
    "    if angka % 2 == 0:\n",
    "        angka_genap.append(angka)\n",
    "    elif angka % 2 != 0:\n",
    "        angka_ganjil.append(angka)\n"
   ]
  },
  {
   "cell_type": "code",
   "execution_count": 17,
   "metadata": {},
   "outputs": [
    {
     "data": {
      "text/plain": [
       "50"
      ]
     },
     "execution_count": 17,
     "metadata": {},
     "output_type": "execute_result"
    }
   ],
   "source": [
    "#dictionary  {'key': value}\n",
    "barang_belanjaan = {'tempe': 50, 'ayam': 2}\n",
    "barang_belanjaan['tempe']"
   ]
  },
  {
   "cell_type": "code",
   "execution_count": 97,
   "metadata": {},
   "outputs": [
    {
     "data": {
      "text/plain": [
       "{'tempe': 50, 'ayam': 2, 'garam': 500}"
      ]
     },
     "execution_count": 97,
     "metadata": {},
     "output_type": "execute_result"
    }
   ],
   "source": [
    "#menambah dictionary\n",
    "tambahan = {'garam': 500}\n",
    "barang_belanjaan.update(tambahan)\n",
    "barang_belanjaan"
   ]
  },
  {
   "cell_type": "code",
   "execution_count": 18,
   "outputs": [
    {
     "name": "stdout",
     "output_type": "stream",
     "text": [
      "score babak 1 pertandingan antara Madrid dan MU adalah 2 - 0 \n"
     ]
    }
   ],
   "source": [
    "#nested list or dictionary\n",
    "tim_sepakbola = {'real madrid': {'goal': [2,1]},'manchester united': {'goal': [0,0]}}\n",
    "\n",
    "babak_1_RM = tim_sepakbola['real madrid']['goal'][0]\n",
    "babak_1_MU = tim_sepakbola['manchester united']['goal'][0]\n",
    "print(f\"score babak 1 pertandingan antara Madrid dan MU adalah {babak_1_RM} - {babak_1_MU} \")"
   ],
   "metadata": {
    "collapsed": false
   }
  },
  {
   "cell_type": "code",
   "execution_count": 1,
   "metadata": {},
   "outputs": [
    {
     "name": "stdout",
     "output_type": "stream",
     "text": [
      "{'semen': 352, 'pasir': 731, 'kerikil': 1031, 'air': 215, 'w/c': 0.61}\n",
      "1021\n"
     ]
    }
   ],
   "source": [
    "#Komposisi beton berdasarkan kualitasnya menurut SNI DT-91-2007\n",
    "\n",
    "beton_1 = {'K100': {'semen': 247, 'pasir': 869, 'kerikil': 999,'air':215,'w/c':0.87}}\n",
    "beton_2 = {'K125': {'semen': 276, 'pasir': 828, 'kerikil': 1012,'air':215,'w/c':0.78}}\n",
    "beton_3 = {'K150': {'semen': 299, 'pasir': 799, 'kerikil': 1017,'air':215,'w/c':0.72}}\n",
    "beton_4 = {'K175': {'semen': 326, 'pasir': 760, 'kerikil': 1029,'air':215,'w/c':0.66}}\n",
    "beton_5 = {'K200': {'semen': 352, 'pasir': 731, 'kerikil': 1031,'air':215,'w/c':0.61}}\n",
    "beton_6 = {'K225': {'semen': 371, 'pasir': 698, 'kerikil': 1047,'air':215,'w/c':0.58}}\n",
    "beton_7 = {'K250': {'semen': 384, 'pasir': 692, 'kerikil': 1039,'air':215,'w/c':0.56}}\n",
    "beton_8 = {'K275': {'semen': 406, 'pasir': 684, 'kerikil': 1026,'air':215,'w/c':0.53}}\n",
    "beton_9 = {'K300': {'semen': 413, 'pasir': 681, 'kerikil': 1021,'air':215,'w/c':0.52}}\n",
    "beton_10 = {'K325': {'semen': 439, 'pasir': 670, 'kerikil': 1006,'air':215,'w/c':0.49}}\n",
    "beton_11 = {'K350': {'semen': 448, 'pasir': 667, 'kerikil': 1000,'air':215,'w/c':0.48}}\n",
    "\n",
    "#gabung semua dictionary dengan nama beton\n",
    "beton = {}\n",
    "for i in range(11):\n",
    "    beton.update(globals()[f'beton_{i+1}'])\n",
    "\n",
    "print(beton['K200'])\n",
    "print(beton['K300']['kerikil'])"
   ]
  },
  {
   "cell_type": "code",
   "execution_count": 106,
   "metadata": {},
   "outputs": [
    {
     "data": {
      "text/html": [
       "<div>\n",
       "<style scoped>\n",
       "    .dataframe tbody tr th:only-of-type {\n",
       "        vertical-align: middle;\n",
       "    }\n",
       "\n",
       "    .dataframe tbody tr th {\n",
       "        vertical-align: top;\n",
       "    }\n",
       "\n",
       "    .dataframe thead th {\n",
       "        text-align: right;\n",
       "    }\n",
       "</style>\n",
       "<table border=\"1\" class=\"dataframe\">\n",
       "  <thead>\n",
       "    <tr style=\"text-align: right;\">\n",
       "      <th></th>\n",
       "      <th>semen</th>\n",
       "      <th>pasir</th>\n",
       "      <th>kerikil</th>\n",
       "      <th>air</th>\n",
       "      <th>w/c</th>\n",
       "    </tr>\n",
       "  </thead>\n",
       "  <tbody>\n",
       "    <tr>\n",
       "      <th>K100</th>\n",
       "      <td>247</td>\n",
       "      <td>869</td>\n",
       "      <td>999</td>\n",
       "      <td>215</td>\n",
       "      <td>0.87</td>\n",
       "    </tr>\n",
       "    <tr>\n",
       "      <th>K125</th>\n",
       "      <td>276</td>\n",
       "      <td>828</td>\n",
       "      <td>1012</td>\n",
       "      <td>215</td>\n",
       "      <td>0.78</td>\n",
       "    </tr>\n",
       "    <tr>\n",
       "      <th>K150</th>\n",
       "      <td>299</td>\n",
       "      <td>799</td>\n",
       "      <td>1017</td>\n",
       "      <td>215</td>\n",
       "      <td>0.72</td>\n",
       "    </tr>\n",
       "    <tr>\n",
       "      <th>K175</th>\n",
       "      <td>326</td>\n",
       "      <td>760</td>\n",
       "      <td>1029</td>\n",
       "      <td>215</td>\n",
       "      <td>0.66</td>\n",
       "    </tr>\n",
       "    <tr>\n",
       "      <th>K200</th>\n",
       "      <td>352</td>\n",
       "      <td>731</td>\n",
       "      <td>1031</td>\n",
       "      <td>215</td>\n",
       "      <td>0.61</td>\n",
       "    </tr>\n",
       "    <tr>\n",
       "      <th>K225</th>\n",
       "      <td>371</td>\n",
       "      <td>698</td>\n",
       "      <td>1047</td>\n",
       "      <td>215</td>\n",
       "      <td>0.58</td>\n",
       "    </tr>\n",
       "    <tr>\n",
       "      <th>K250</th>\n",
       "      <td>384</td>\n",
       "      <td>692</td>\n",
       "      <td>1039</td>\n",
       "      <td>215</td>\n",
       "      <td>0.56</td>\n",
       "    </tr>\n",
       "    <tr>\n",
       "      <th>K275</th>\n",
       "      <td>406</td>\n",
       "      <td>684</td>\n",
       "      <td>1026</td>\n",
       "      <td>215</td>\n",
       "      <td>0.53</td>\n",
       "    </tr>\n",
       "    <tr>\n",
       "      <th>K300</th>\n",
       "      <td>413</td>\n",
       "      <td>681</td>\n",
       "      <td>1021</td>\n",
       "      <td>215</td>\n",
       "      <td>0.52</td>\n",
       "    </tr>\n",
       "    <tr>\n",
       "      <th>K325</th>\n",
       "      <td>439</td>\n",
       "      <td>670</td>\n",
       "      <td>1006</td>\n",
       "      <td>215</td>\n",
       "      <td>0.49</td>\n",
       "    </tr>\n",
       "    <tr>\n",
       "      <th>K350</th>\n",
       "      <td>448</td>\n",
       "      <td>667</td>\n",
       "      <td>1000</td>\n",
       "      <td>215</td>\n",
       "      <td>0.48</td>\n",
       "    </tr>\n",
       "  </tbody>\n",
       "</table>\n",
       "</div>"
      ],
      "text/plain": [
       "      semen  pasir  kerikil  air   w/c\n",
       "K100    247    869      999  215  0.87\n",
       "K125    276    828     1012  215  0.78\n",
       "K150    299    799     1017  215  0.72\n",
       "K175    326    760     1029  215  0.66\n",
       "K200    352    731     1031  215  0.61\n",
       "K225    371    698     1047  215  0.58\n",
       "K250    384    692     1039  215  0.56\n",
       "K275    406    684     1026  215  0.53\n",
       "K300    413    681     1021  215  0.52\n",
       "K325    439    670     1006  215  0.49\n",
       "K350    448    667     1000  215  0.48"
      ]
     },
     "execution_count": 106,
     "metadata": {},
     "output_type": "execute_result"
    }
   ],
   "source": [
    "test = pd.DataFrame.from_dict(beton, orient='index')\n",
    "test"
   ]
  },
  {
   "cell_type": "markdown",
   "source": [
    "WHILE LOOP"
   ],
   "metadata": {
    "collapsed": false
   }
  },
  {
   "cell_type": "code",
   "execution_count": 3,
   "outputs": [
    {
     "name": "stdout",
     "output_type": "stream",
     "text": [
      "0\n",
      "1\n",
      "2\n",
      "3\n",
      "4\n",
      "5\n",
      "6\n",
      "7\n",
      "8\n",
      "9\n",
      "10\n",
      "11\n",
      "12\n",
      "13\n",
      "14\n",
      "15\n",
      "16\n",
      "17\n",
      "18\n",
      "19\n",
      "20\n",
      "21\n",
      "22\n",
      "23\n",
      "24\n",
      "25\n",
      "26\n",
      "27\n",
      "28\n",
      "29\n",
      "30\n",
      "31\n",
      "32\n",
      "33\n",
      "34\n",
      "35\n",
      "36\n",
      "37\n",
      "38\n",
      "39\n",
      "40\n",
      "41\n",
      "42\n",
      "43\n",
      "44\n",
      "45\n",
      "46\n",
      "47\n",
      "48\n",
      "49\n",
      "50\n",
      "51\n",
      "52\n",
      "53\n",
      "54\n",
      "55\n",
      "56\n",
      "57\n",
      "58\n",
      "59\n",
      "60\n",
      "61\n",
      "62\n",
      "63\n",
      "64\n",
      "65\n",
      "66\n",
      "67\n",
      "68\n",
      "69\n",
      "70\n",
      "71\n",
      "72\n",
      "73\n",
      "74\n",
      "75\n",
      "76\n",
      "77\n",
      "78\n",
      "79\n",
      "80\n",
      "81\n",
      "82\n",
      "83\n",
      "84\n",
      "85\n",
      "86\n",
      "87\n",
      "88\n",
      "89\n",
      "90\n",
      "91\n",
      "92\n",
      "93\n",
      "94\n",
      "95\n",
      "96\n",
      "97\n",
      "98\n",
      "99\n",
      "100\n"
     ]
    }
   ],
   "source": [
    "#contoh1: keluar loop jika suatu variable sudah di atas threshold\n",
    "berhitung = 0\n",
    "while berhitung <= 100:\n",
    "    print(berhitung)\n",
    "    berhitung += 1\n"
   ],
   "metadata": {
    "collapsed": false
   }
  },
  {
   "cell_type": "code",
   "execution_count": 10,
   "outputs": [
    {
     "name": "stdout",
     "output_type": "stream",
     "text": [
      "jadi harus beli 8 kaleng cat, untuk memenuhi kebutuhan pengecetan\n"
     ]
    }
   ],
   "source": [
    "#contoh2: keluar loop jika kondisi sudah terpenuhi, dengan memberikan statement True/False.\n",
    "kebutuhan_area = 100 #m2\n",
    "perkaleng = 13 #m2   satu kaleng cat dapat memenuhi 13 m2\n",
    "\n",
    "jumlah_cat = 1\n",
    "trial = True\n",
    "\n",
    "while trial == True:\n",
    "    hasil = jumlah_cat * perkaleng\n",
    "    if hasil >= kebutuhan_area:\n",
    "        print(f'jadi harus beli {jumlah_cat} kaleng cat, untuk memenuhi kebutuhan pengecetan')\n",
    "        trial = False   #statement keluar loop\n",
    "    else:\n",
    "        jumlah_cat += 1"
   ],
   "metadata": {
    "collapsed": false
   }
  },
  {
   "cell_type": "code",
   "execution_count": 24,
   "outputs": [
    {
     "name": "stdout",
     "output_type": "stream",
     "text": [
      "hasil dari f(2) adalah 30'.Dan nilai c pada f(2) bukan 5\n"
     ]
    }
   ],
   "source": [
    "#contoh 1A\n",
    "def f(x):\n",
    "    c = 10  #local variable\n",
    "    return 5*x**2 + c\n",
    "\n",
    "x = 2\n",
    "f(x)\n",
    "print(f\"hasil dari f({x}) adalah {f(x)}'.Dan nilai c pada f({x}) bukan {c}\")"
   ],
   "metadata": {
    "collapsed": false
   }
  },
  {
   "cell_type": "code",
   "execution_count": 25,
   "outputs": [
    {
     "name": "stdout",
     "output_type": "stream",
     "text": [
      "hasil dari f(2) adalah 30. Dan nilai c pada f(2) bukan 5\n"
     ]
    }
   ],
   "source": [
    "#contoh 1B\n",
    "def f(x):\n",
    "    c = 10  #local variable\n",
    "    return 5*x**2 + c\n",
    "\n",
    "c = 5 #global variable\n",
    "var_1 = 2\n",
    "f(x=var_1)\n",
    "print(f'hasil dari f({var_1}) adalah {f(x=var_1)}. Dan nilai c pada f({var_1}) bukan {c}')"
   ],
   "metadata": {
    "collapsed": false
   }
  },
  {
   "cell_type": "code",
   "execution_count": 26,
   "outputs": [
    {
     "name": "stdout",
     "output_type": "stream",
     "text": [
      "hasil dari f(2) adalah 30. Dan nilai c pada f(2) bukan 5\n"
     ]
    }
   ],
   "source": [
    "#contoh 1C\n",
    "c = 5 #global variable\n",
    "\n",
    "def f(x):\n",
    "    c = 10  #local variable\n",
    "    return 5*x**2 + c\n",
    "\n",
    "x = 2\n",
    "f(x)\n",
    "print(f'hasil dari f({x}) adalah {f(x)}. Dan nilai c pada f({x}) bukan {c}')"
   ],
   "metadata": {
    "collapsed": false
   }
  },
  {
   "cell_type": "code",
   "execution_count": 11,
   "outputs": [
    {
     "name": "stdout",
     "output_type": "stream",
     "text": [
      "Shear forces:\n",
      "[33.33, 32.83, 32.33, 31.83, 31.33, 30.83, 30.33, 29.83, 29.33, 28.83, 28.33, 27.83, 27.33, 26.83, 26.33, 25.83, 25.33, 24.83, 24.33, 23.83, 23.33, 22.83, 22.33, 21.83, 21.33, 20.83, 20.33, 19.83, 19.33, 18.83, 18.33, 17.83, 17.33, 16.83, 16.33, 15.83, 15.33, 14.83, 14.33, 13.83, 13.33, 12.83, 12.33, 11.83, 11.33, 10.83, 10.33, 9.83, 9.33, 8.83, 8.33, 7.83, 7.33, 6.83, 6.33, 5.83, 5.33, 4.83, 4.33, 3.83, 3.33, 2.83, 2.33, 1.83, 1.33, 0.83, 0.33, -0.17, -0.67, -1.17, -1.67, -2.17, -2.67, -3.17, -3.67, -4.17, -4.67, -5.17, -5.67, -6.17, -6.67, -7.17, -7.67, -8.17, -8.67, -9.17, -9.67, -10.17, -10.67, -11.17, -11.67, -12.17, -12.67, -13.17, -13.67, -14.17, -14.67, -15.17, -15.67, -16.17, -16.67, -16.67, -16.67, -16.67, -16.67, -16.67, -16.67, -16.67, -16.67, -16.67, -16.67, -16.67, -16.67, -16.67, -16.67, -16.67, -16.67, -16.67, -16.67, -16.67, -16.67, -16.67, -16.67, -16.67, -16.67, -16.67, -16.67, -16.67, -16.67, -16.67, -16.67, -16.67, -16.67, -16.67, -16.67, -16.67, -16.67, -16.67, -16.67, -16.67, -16.67, -16.67, -16.67, -16.67, -16.67, -16.67, -16.67, -16.67, -16.67, -16.67, -16.67]\n",
      "\n",
      "Bending moment:\n",
      "[0.0, 3.31, 6.57, 9.78, 12.93, 16.04, 19.1, 22.11, 25.07, 27.98, 30.83, 33.64, 36.4, 39.11, 41.77, 44.38, 46.93, 49.44, 51.9, 54.31, 56.67, 58.98, 61.23, 63.44, 65.6, 67.71, 69.77, 71.78, 73.73, 75.64, 77.5, 79.31, 81.07, 82.78, 84.43, 86.04, 87.6, 89.11, 90.57, 91.98, 93.33, 94.64, 95.9, 97.11, 98.27, 99.38, 100.43, 101.44, 102.4, 103.31, 104.17, 104.98, 105.73, 106.44, 107.1, 107.71, 108.27, 108.78, 109.23, 109.64, 110.0, 110.31, 110.57, 110.78, 110.93, 111.04, 111.1, 111.11, 111.07, 110.98, 110.83, 110.64, 110.4, 110.11, 109.77, 109.38, 108.93, 108.44, 107.9, 107.31, 106.67, 105.98, 105.23, 104.44, 103.6, 102.71, 101.77, 100.78, 99.73, 98.64, 97.5, 96.31, 95.07, 93.78, 92.43, 91.04, 89.6, 88.11, 86.57, 84.98, 83.33, 81.67, 80.0, 78.33, 76.67, 75.0, 73.33, 71.67, 70.0, 68.33, 66.67, 65.0, 63.33, 61.67, 60.0, 58.33, 56.67, 55.0, 53.33, 51.67, 50.0, 48.33, 46.67, 45.0, 43.33, 41.67, 40.0, 38.33, 36.67, 35.0, 33.33, 31.67, 30.0, 28.33, 26.67, 25.0, 23.33, 21.67, 20.0, 18.33, 16.67, 15.0, 13.33, 11.67, 10.0, 8.33, 6.67, 5.0, 3.33, 1.67, 0.0]\n"
     ]
    }
   ],
   "source": [
    "#functional programming contoh 2A\n",
    "\n",
    "import numpy as np\n",
    "\n",
    "#functional programming contoh 2\n",
    "def check_geometry(l,b,a):      #function 1\n",
    "    c = l - b - a\n",
    "    if c < 0:\n",
    "        return print(\"nilai c negatif. harap review geometry\")\n",
    "    return c\n",
    "\n",
    "def shearforce(x):              #function 2\n",
    "    global a,b, V1, V2\n",
    "    if x <= a:\n",
    "        return V1\n",
    "    elif (x > a and x < (a+b)):\n",
    "        return V1 - w*(x-a)\n",
    "    else:\n",
    "        return -V2\n",
    "\n",
    "def bendingmoment(x):           #function 3\n",
    "    global a,b\n",
    "    if x <= a:\n",
    "        return V1*x\n",
    "    elif (x > a and x < (a+b)):\n",
    "        return V1*x - w/2 * (x - a)**2\n",
    "    else:\n",
    "        return V2 * ( l - x)\n",
    "\n",
    "#geometry\n",
    "w = 5\n",
    "l = 15\n",
    "a = 0\n",
    "b = 10\n",
    "\n",
    "#initial check\n",
    "#pada function 1, variable di assign dengan urutan l,b,a.\n",
    "#maka pada saat pemanggilan harus juga sesuai urutan atau dengan cara contoh 1B.\n",
    "c = check_geometry(l,b,a)\n",
    "\n",
    "#untuk grafik\n",
    "interval = 0.1\n",
    "tinjauan_x = np.arange(0,l+interval,interval)\n",
    "shear_V = []\n",
    "moment_M = []\n",
    "\n",
    "#grafik beban\n",
    "surcharge_x = [a,a,a+b,a+b]\n",
    "surcharge_y = [0,w,w,0]\n",
    "\n",
    "#forces\n",
    "V1 = w * b /(2*l) * (2*c+b)\n",
    "V2 = w * b /(2*l) * (2*a+b)\n",
    "\n",
    "#maximum moment dan posisi max moment\n",
    "x_Mmax = a + V1 / w\n",
    "Mmax = V1 * (a + V1 / (2 * w))\n",
    "\n",
    "#calculation: calling the functions\n",
    "for x in tinjauan_x:\n",
    "    shear_V.append(shearforce(x))\n",
    "    moment_M.append(bendingmoment(x))\n",
    "\n",
    "#dibulatkan\n",
    "sfd_rounded = list(np.around(np.array(shear_V),2))\n",
    "bmd_rounded = list(np.around(np.array(moment_M),2))\n",
    "\n",
    "#summary\n",
    "print('Shear forces:')\n",
    "print(sfd_rounded)\n",
    "print('\\nBending moment:')\n",
    "print(bmd_rounded)"
   ],
   "metadata": {
    "collapsed": false
   }
  },
  {
   "cell_type": "code",
   "execution_count": 7,
   "outputs": [
    {
     "name": "stdout",
     "output_type": "stream",
     "text": [
      "Shear forces:\n",
      "[82.5, 82.5, 82.5, 82.5, 82.5, 82.5, 82.5, 82.5, 82.5, 82.5, 82.5, 82.5, 82.5, 82.5, 82.5, 82.5, 82.5, 82.5, 82.5, 82.5, 82.5, 82.5, 82.5, 82.5, 82.5, 82.5, 82.5, 82.5, 82.5, 82.5, 82.5, 82.5, 82.5, 82.5, 82.5, 82.5, 82.5, 82.5, 82.5, 82.5, 82.5, 81.0, 79.5, 78.0, 76.5, 75.0, 73.5, 72.0, 70.5, 69.0, 67.5, 66.0, 64.5, 63.0, 61.5, 60.0, 58.5, 57.0, 55.5, 54.0, 52.5, 51.0, 49.5, 48.0, 46.5, 45.0, 43.5, 42.0, 40.5, 39.0, 37.5, 36.0, 34.5, 33.0, 31.5, 30.0, 28.5, 27.0, 25.5, 24.0, 22.5, 21.0, 19.5, 18.0, 16.5, 15.0, 13.5, 12.0, 10.5, 9.0, 7.5, 6.0, 4.5, 3.0, 1.5, 0.0, -1.5, -3.0, -4.5, -6.0, -7.5, -9.0, -10.5, -12.0, -13.5, -15.0, -16.5, -18.0, -19.5, -21.0, -22.5, -24.0, -25.5, -27.0, -28.5, -30.0, -31.5, -33.0, -34.5, -36.0, -37.5, -39.0, -40.5, -42.0, -43.5, -45.0, -46.5, -48.0, -49.5, -51.0, -52.5, -54.0, -55.5, -57.0, -58.5, -60.0, -61.5, -63.0, -64.5, -66.0, -67.5, -67.5, -67.5, -67.5, -67.5, -67.5, -67.5, -67.5, -67.5, -67.5, -67.5, -67.5, -67.5, -67.5, -67.5, -67.5, -67.5, -67.5, -67.5, -67.5, -67.5, -67.5, -67.5, -67.5, -67.5, -67.5, -67.5, -67.5, -67.5, -67.5, -67.5, -67.5, -67.5, -67.5, -67.5, -67.5, -67.5, -67.5, -67.5, -67.5, -67.5, -67.5, -67.5, -67.5, -67.5, -67.5, -67.5, -67.5, -67.5, -67.5, -67.5, -67.5, -67.5, -67.5, -67.5, -67.5, -67.5, -67.5, -67.5, -67.5, -67.5]\n",
      "\n",
      "Bending moment:\n",
      "[0.0, 8.25, 16.5, 24.75, 33.0, 41.25, 49.5, 57.75, 66.0, 74.25, 82.5, 90.75, 99.0, 107.25, 115.5, 123.75, 132.0, 140.25, 148.5, 156.75, 165.0, 173.25, 181.5, 189.75, 198.0, 206.25, 214.5, 222.75, 231.0, 239.25, 247.5, 255.75, 264.0, 272.25, 280.5, 288.75, 297.0, 305.25, 313.5, 321.75, 330.0, 338.175, 346.2, 354.075, 361.8, 369.375, 376.8, 384.075, 391.2, 398.175, 405.0, 411.675, 418.2, 424.575, 430.8, 436.875, 442.8, 448.575, 454.2, 459.675, 465.0, 470.175, 475.2, 480.075, 484.8, 489.375, 493.8, 498.075, 502.2, 506.175, 510.0, 513.675, 517.2, 520.575, 523.8, 526.875, 529.8, 532.575, 535.2, 537.675, 540.0, 542.175, 544.2, 546.075, 547.8, 549.375, 550.8, 552.075, 553.2, 554.175, 555.0, 555.675, 556.2, 556.575, 556.8, 556.875, 556.8, 556.575, 556.2, 555.675, 555.0, 554.175, 553.2, 552.075, 550.8, 549.375, 547.8, 546.075, 544.2, 542.175, 540.0, 537.675, 535.2, 532.575, 529.8, 526.875, 523.8, 520.575, 517.2, 513.675, 510.0, 506.175, 502.2, 498.075, 493.8, 489.375, 484.8, 480.075, 475.2, 470.175, 465.0, 459.675, 454.2, 448.575, 442.8, 436.875, 430.8, 424.575, 418.2, 411.675, 405.0, 398.25, 391.5, 384.75, 378.0, 371.25, 364.5, 357.75, 351.0, 344.25, 337.5, 330.75, 324.0, 317.25, 310.5, 303.75, 297.0, 290.25, 283.5, 276.75, 270.0, 263.25, 256.5, 249.75, 243.0, 236.25, 229.5, 222.75, 216.0, 209.25, 202.5, 195.75, 189.0, 182.25, 175.5, 168.75, 162.0, 155.25, 148.5, 141.75, 135.0, 128.25, 121.5, 114.75, 108.0, 101.25, 94.5, 87.75, 81.0, 74.25, 67.5, 60.75, 54.0, 47.25, 40.5, 33.75, 27.0, 20.25, 13.5, 6.75, 0.0]\n"
     ]
    }
   ],
   "source": [
    "#functional programming contoh 2B\n",
    "import numpy as np\n",
    "\n",
    "#functional programming contoh 2\n",
    "def check_geometry(l,b,a):      #function 1\n",
    "    c = l - b - a\n",
    "    if c < 0:\n",
    "        return print(\"nilai c negatif. harap review geometry\")\n",
    "    return c\n",
    "\n",
    "def shearforce(x):              #function 2\n",
    "    global a,b, V1, V2\n",
    "    if x <= a:\n",
    "        return V1\n",
    "    elif (x > a and x < (a+b)):\n",
    "        return V1 - w*(x-a)\n",
    "    else:\n",
    "        return -V2\n",
    "\n",
    "def bendingmoment(x):           #function 3\n",
    "    global a,b\n",
    "    if x <= a:\n",
    "        return V1*x\n",
    "    elif (x > a and x < (a+b)):\n",
    "        return V1*x - w/2 * (x - a)**2\n",
    "    else:\n",
    "        return V2 * ( l - x)\n",
    "\n",
    "#geometry\n",
    "w = float(input('masukkan nilai beban: '))\n",
    "l = float(input('masukkan panjang bentang: '))\n",
    "a = float(input('masukkan jarak a: '))\n",
    "b = float(input('masukkan jarak b: '))\n",
    "\n",
    "#initial check\n",
    "c = check_geometry(l,b,a)       #pada function 1, variable di assign dengan urutan l,b,a. maka saat memanggil juga harus sesuai urutan.\n",
    "\n",
    "#untuk grafik\n",
    "interval = 0.1\n",
    "tinjauan_x = np.arange(0,l+interval,interval)\n",
    "shear_V = []\n",
    "moment_M = []\n",
    "\n",
    "#grafik beban\n",
    "surcharge_x = [a,a,a+b,a+b]\n",
    "surcharge_y = [0,w,w,0]\n",
    "\n",
    "#forces\n",
    "V1 = w * b /(2*l) * (2*c+b)\n",
    "V2 = w * b /(2*l) * (2*a+b)\n",
    "\n",
    "#maximum moment dan posisi max moment\n",
    "x_Mmax = a + V1 / w\n",
    "Mmax = V1 * (a + V1 / (2 * w))\n",
    "\n",
    "#calculation: calling the functions\n",
    "for x in tinjauan_x:\n",
    "    shear_V.append(shearforce(x))\n",
    "    moment_M.append(bendingmoment(x))\n",
    "\n",
    "#dibulatkan\n",
    "sfd_rounded = list(np.around(np.array(shear_V),4))\n",
    "bmd_rounded = list(np.around(np.array(moment_M),4))\n",
    "\n",
    "#summary\n",
    "print('Shear forces:')\n",
    "print(sfd_rounded)\n",
    "print('\\nBending moment:')\n",
    "print(bmd_rounded)"
   ],
   "metadata": {
    "collapsed": false
   }
  },
  {
   "cell_type": "code",
   "execution_count": 12,
   "outputs": [
    {
     "data": {
      "text/plain": "<Figure size 1000x500 with 1 Axes>",
      "image/png": "[encoded data removed]"
     },
     "metadata": {},
     "output_type": "display_data"
    }
   ],
   "source": [
    "#single plot: dengan Matplotlib\n",
    "\n",
    "import matplotlib.pyplot as plt\n",
    "\n",
    "#initial\n",
    "fig_plotsatu = plt.figure(figsize=(10,5))\n",
    "\n",
    "#skala x vs y\n",
    "plot_satu = fig_plotsatu.add_axes([0, 0, 1, 1])         #add_axes([xmin,ymin,dx,dy])\n",
    "\n",
    "#parameters\n",
    "plot_satu.plot(tinjauan_x, moment_M, 'k')               #(x, y, 'warna')\n",
    "plot_satu.fill_between(tinjauan_x, 0, moment_M, color='red', alpha=0.3)     #(x,0, y, 'warna', opacity)\n",
    "plot_satu.set_xticks(np.arange(0,l+interval,1))         #set x interval label\n",
    "plot_satu.set_xlabel('span [m]')                        #set judul label x\n",
    "plot_satu.set_ylabel('M [kNm]')                         #set judul label y\n",
    "\n",
    "#setting limit label secara manual\n",
    "xmin, xmax, ymin, ymax = [0, 15, 0, 200]\n",
    "plot_satu.set(xlim=(xmin, xmax), ylim=(ymin, ymax))\n",
    "\n",
    "#setting invert axis dan show grid\n",
    "plot_satu.invert_yaxis()                        #invert y axis\n",
    "plot_satu.grid(True)                            #show grid\n",
    "\n",
    "#tampilkan\n",
    "plt.show()"
   ],
   "metadata": {
    "collapsed": false
   }
  },
  {
   "cell_type": "code",
   "execution_count": 6,
   "outputs": [
    {
     "data": {
      "text/plain": "<Figure size 1200x600 with 3 Axes>",
      "image/png": "[encoded data removed]"
     },
     "metadata": {},
     "output_type": "display_data"
    }
   ],
   "source": [
    "#Multi plot: dengan Matplotlib\n",
    "#initial\n",
    "fig, (ax1, ax2, ax3)=plt.subplots(nrows=3, ncols=1, figsize=(12,6))\n",
    "\n",
    "#laod\n",
    "ax1.plot(surcharge_x,surcharge_y, \"k\", label=\"Load\")\n",
    "ax1.fill_between(surcharge_x, 0, surcharge_y, color='black', hatch='|||', alpha=0.3)\n",
    "ax1.set_ylabel(\"Load [kN/m]\")\n",
    "ax1.plot([0,l],[0,0], linewidth=2, color=\"dimgrey\",marker=6, markersize=16)     #plot sendi\n",
    "ax1.set_xticks(np.arange(0,l+interval,1))\n",
    "ax1.set_yticks(np.arange(-w,2*w,w/2))\n",
    "ax1.grid(True)\n",
    "\n",
    "#shearforce\n",
    "ax2.plot(tinjauan_x,shear_V, \"k\", label=\"V\")\n",
    "ax2.fill_between(tinjauan_x, 0, shear_V, color='red',hatch='///', alpha=0.3)\n",
    "ax2.set_ylabel(\"V [kN]\")\n",
    "ax2.plot([0,l],[0,0], linewidth=2, color=\"dimgrey\", marker=6, markersize=16)    #plot sendi\n",
    "ax2.set_xticks(np.arange(0,l+interval,1))\n",
    "\n",
    "V_max = max(V1,V2)\n",
    "ax2.set_yticks(np.arange(-(V_max+15),(V_max+15),V_max/2))\n",
    "ax2.grid(True)\n",
    "\n",
    "#bending moment\n",
    "ax3.invert_yaxis()\n",
    "ax3.plot(tinjauan_x,moment_M, label=\"M\")\n",
    "ax3.fill_between(tinjauan_x, 0, moment_M, color='blue',hatch='xx', alpha=0.3)\n",
    "ax3.set_ylabel(\"M [kNm]\")\n",
    "ax3.plot([0,l],[0,0], linewidth=2, color=\"dimgrey\",marker=6, markersize=16)     #plot sendi\n",
    "ax3.set_xticks(np.arange(0,l+interval,1))\n",
    "ax3.grid(True)\n",
    "\n",
    "#tampilkan\n",
    "plt.show()"
   ],
   "metadata": {
    "collapsed": false
   }
  },
  {
   "cell_type": "code",
   "execution_count": 3,
   "outputs": [
    {
     "name": "stdout",
     "output_type": "stream",
     "text": [
      "summary:\n",
      "Load = 103.0 kN/m, a = 5.0 m, b = 5.0 m, c = 40.0 m\n",
      "        x  SFD [kN/m]  BMD [kN/m]\n",
      "0     0.0      437.75       0.000\n",
      "1     0.1      437.75      43.775\n",
      "2     0.2      437.75      87.550\n",
      "3     0.3      437.75     131.325\n",
      "4     0.4      437.75     175.100\n",
      "..    ...         ...         ...\n",
      "496  49.6      -77.25      30.900\n",
      "497  49.7      -77.25      23.175\n",
      "498  49.8      -77.25      15.450\n",
      "499  49.9      -77.25       7.725\n",
      "500  50.0      -77.25       0.000\n",
      "\n",
      "[501 rows x 3 columns]\n"
     ]
    },
    {
     "data": {
      "text/plain": "<Figure size 1200x600 with 3 Axes>",
      "image/png": "[encoded data removed]"
     },
     "metadata": {},
     "output_type": "display_data"
    }
   ],
   "source": [
    "#functional programming contoh 2C\n",
    "import numpy as np\n",
    "import matplotlib.pyplot as plt\n",
    "import pandas as pd\n",
    "\n",
    "def check_geometry(l,b,a):\n",
    "    c = l - b - a\n",
    "    if c < 0:\n",
    "        return print(\"nilai c negatif. harap review geometry\")\n",
    "    return c\n",
    "\n",
    "def shearforce(x,a,b,V1,V2,w):\n",
    "    if x <= a:\n",
    "        return V1\n",
    "    elif (x > a and x < (a+b)):\n",
    "        return V1 - w*(x-a)\n",
    "    else:\n",
    "        return -V2\n",
    "\n",
    "def bendingmoment(x,a,b,l,V1,V2,w):\n",
    "    if x <= a:\n",
    "        return V1*x\n",
    "    elif (x > a and x < (a+b)):\n",
    "        return V1*x - w/2 * (x - a)**2\n",
    "    else:\n",
    "        return V2 * ( l - x)\n",
    "\n",
    "def plot_figure(surcharge_x,surcharge_y,l,w,tinjauan_x,shear_V,moment_M,V1,V2,interval):\n",
    "    fig, (ax1, ax2, ax3)=plt.subplots(nrows=3, ncols=1, figsize=(12,6))\n",
    "\n",
    "    #laod\n",
    "    ax1.plot(surcharge_x,surcharge_y, \"k\", label=\"Load\")\n",
    "    ax1.fill_between(surcharge_x, 0, surcharge_y, color='black', hatch='|||', alpha=0.3)\n",
    "    ax1.set_ylabel(\"Load [kN/m]\")\n",
    "    ax1.plot([0,l],[0,0], linewidth=2, color=\"dimgrey\",marker=6, markersize=16)     #plot sendi\n",
    "    ax1.set_xticks(np.arange(0,l+interval,1))\n",
    "    ax1.set_yticks(np.arange(-w,2*w,w/2))\n",
    "    ax1.grid(True)\n",
    "\n",
    "    #shearforce\n",
    "    ax2.plot(tinjauan_x,shear_V, \"k\", label=\"V\")\n",
    "    ax2.fill_between(tinjauan_x, 0, shear_V, color='red',hatch='///', alpha=0.3)\n",
    "    ax2.set_ylabel(\"V [kN]\")\n",
    "    ax2.plot([0,l],[0,0], linewidth=2, color=\"dimgrey\", marker=6, markersize=16)    #plot sendi\n",
    "    ax2.set_xticks(np.arange(0,l+interval,1))\n",
    "\n",
    "    V_max = max(V1,V2)\n",
    "    ax2.set_yticks(np.arange(-(V_max+15),(V_max+15),V_max/2))\n",
    "    ax2.grid(True)\n",
    "\n",
    "    #bending moment\n",
    "    ax3.invert_yaxis()\n",
    "    ax3.plot(tinjauan_x,moment_M, label=\"M\")\n",
    "    ax3.fill_between(tinjauan_x, 0, moment_M, color='blue',hatch='xx', alpha=0.3)\n",
    "    ax3.set_ylabel(\"M [kNm]\")\n",
    "    ax3.plot([0,l],[0,0], linewidth=2, color=\"dimgrey\",marker=6, markersize=16)     #plot sendi\n",
    "    ax3.set_xticks(np.arange(0,l+interval,1))\n",
    "    ax3.grid(True)\n",
    "\n",
    "    #tampilkan\n",
    "    plt.show()\n",
    "\n",
    "def main():\n",
    "    #geometry\n",
    "    w = float(input('masukkan nilai beban: '))\n",
    "    l = float(input('masukkan panjang bentang: '))\n",
    "    a = float(input('masukkan jarak a: '))\n",
    "    b = float(input('masukkan jarak b: '))\n",
    "\n",
    "    #initial check\n",
    "    c = check_geometry(l,b,a)       #pada function 1, variable di assign dengan urutan l,b,a. maka saat memanggil juga harus sesuai urutan.\n",
    "\n",
    "    #untuk grafik\n",
    "    interval = 0.1\n",
    "    tinjauan_x = np.arange(0,l+interval,interval)\n",
    "    shear_V = []\n",
    "    moment_M = []\n",
    "\n",
    "    #grafik beban\n",
    "    surcharge_x = [a,a,a+b,a+b]\n",
    "    surcharge_y = [0,w,w,0]\n",
    "\n",
    "    #forces\n",
    "    V1 = w * b /(2*l) * (2*c+b)\n",
    "    V2 = w * b /(2*l) * (2*a+b)\n",
    "\n",
    "    #maximum moment dan posisi max moment\n",
    "    x_Mmax = a + V1 / w\n",
    "    Mmax = V1 * (a + V1 / (2 * w))\n",
    "\n",
    "    #calculation: calling the functions\n",
    "    for x in tinjauan_x:\n",
    "        shear_V.append(shearforce(x,a,b,V1,V2,w))\n",
    "        moment_M.append(bendingmoment(x,a,b,l,V1,V2,w))\n",
    "\n",
    "    # dibulatkan\n",
    "    sfd_rounded = list(np.around(np.array(shear_V),4))\n",
    "    bmd_rounded = list(np.around(np.array(moment_M),4))\n",
    "\n",
    "    print(f'summary:\\nLoad = {w} kN/m, a = {a} m, b = {b} m, c = {c} m')\n",
    "\n",
    "    #data frame summary\n",
    "    df_summary = pd.DataFrame()\n",
    "    df_summary['x'] = tinjauan_x\n",
    "    df_summary['SFD [kN/m]'] = sfd_rounded\n",
    "    df_summary['BMD [kN/m]'] = bmd_rounded\n",
    "    print(df_summary)\n",
    "\n",
    "    plot_figure(surcharge_x,surcharge_y,l,w,tinjauan_x,shear_V,moment_M,V1,V2,interval)\n",
    "\n",
    "\n",
    "main()"
   ],
   "metadata": {
    "collapsed": false
   }
  },
  {
   "cell_type": "code",
   "execution_count": null,
   "outputs": [],
   "source": [],
   "metadata": {
    "collapsed": false
   }
  }
 ],
 "metadata": {
  "kernelspec": {
   "display_name": "Python 3 (ipykernel)",
   "language": "python",
   "name": "python3"
  },
  "language_info": {
   "codemirror_mode": {
    "name": "ipython",
    "version": 3
   },
   "file_extension": ".py",
   "mimetype": "text/x-python",
   "name": "python",
   "nbconvert_exporter": "python",
   "pygments_lexer": "ipython3",
   "version": "3.9.16"
  }
 },
 "nbformat": 4,
 "nbformat_minor": 1
}
